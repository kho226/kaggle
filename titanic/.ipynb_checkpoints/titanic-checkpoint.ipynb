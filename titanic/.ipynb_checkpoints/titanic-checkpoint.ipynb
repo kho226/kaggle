{
 "cells": [
  {
   "cell_type": "code",
   "execution_count": 1,
   "metadata": {
    "collapsed": true
   },
   "outputs": [],
   "source": [
    "import numpy as np\n",
    "import pandas as pd\n",
    "from sklearn import linear_model \n",
    "from sklearn import svm\n",
    "from sklearn.exceptions import ConvergenceWarning\n",
    "import matplotlib.pyplot as plt\n",
    "import math\n",
    "import warnings\n",
    "%matplotlib inline "
   ]
  },
  {
   "cell_type": "code",
   "execution_count": 2,
   "metadata": {
    "collapsed": true
   },
   "outputs": [],
   "source": [
    "names = [\n",
    "                    \"PassengerId\", \n",
    "                     \"Survived\",\n",
    "                     \"Pclass\",\n",
    "                     \"Name\",\n",
    "                     \"Sex\",\n",
    "                     \"Age\",\n",
    "                     \"SibSp\",\n",
    "                     \"Parch\",\n",
    "                     \"Ticket\",\n",
    "                     \"Fare\",\n",
    "                     \"Cabin\",\n",
    "                     \"Embarked\"\n",
    "        ]"
   ]
  },
  {
   "cell_type": "code",
   "execution_count": 67,
   "metadata": {
    "collapsed": true
   },
   "outputs": [],
   "source": [
    "df = pd.read_csv(\"train.csv\",na_values=\"?\")\n",
    "df1 = pd.read_csv(\"test.csv\",na_values=\"?\")"
   ]
  },
  {
   "cell_type": "code",
   "execution_count": 72,
   "metadata": {
    "collapsed": true,
    "scrolled": false
   },
   "outputs": [],
   "source": [
    "#drop all irrelevant data\n",
    "df = df.dropna(axis=0)\n",
    "df1 = df1.dropna(axis=0)\n",
    "#drop all incompatible data types\n",
    "#to-do: map all 'object' data types to numerical values\n",
    "df = df.select_dtypes(exclude=[\"object\"])\n",
    "df1 = df1.select_dtypes(exclude=['object'])"
   ]
  },
  {
   "cell_type": "code",
   "execution_count": 73,
   "metadata": {},
   "outputs": [
    {
     "data": {
      "text/html": [
       "<div>\n",
       "<style>\n",
       "    .dataframe thead tr:only-child th {\n",
       "        text-align: right;\n",
       "    }\n",
       "\n",
       "    .dataframe thead th {\n",
       "        text-align: left;\n",
       "    }\n",
       "\n",
       "    .dataframe tbody tr th {\n",
       "        vertical-align: top;\n",
       "    }\n",
       "</style>\n",
       "<table border=\"1\" class=\"dataframe\">\n",
       "  <thead>\n",
       "    <tr style=\"text-align: right;\">\n",
       "      <th></th>\n",
       "      <th>PassengerId</th>\n",
       "      <th>Survived</th>\n",
       "      <th>Pclass</th>\n",
       "      <th>Age</th>\n",
       "      <th>SibSp</th>\n",
       "      <th>Parch</th>\n",
       "      <th>Fare</th>\n",
       "    </tr>\n",
       "  </thead>\n",
       "  <tbody>\n",
       "    <tr>\n",
       "      <th>1</th>\n",
       "      <td>2</td>\n",
       "      <td>1</td>\n",
       "      <td>1</td>\n",
       "      <td>38.0</td>\n",
       "      <td>1</td>\n",
       "      <td>0</td>\n",
       "      <td>71.2833</td>\n",
       "    </tr>\n",
       "    <tr>\n",
       "      <th>3</th>\n",
       "      <td>4</td>\n",
       "      <td>1</td>\n",
       "      <td>1</td>\n",
       "      <td>35.0</td>\n",
       "      <td>1</td>\n",
       "      <td>0</td>\n",
       "      <td>53.1000</td>\n",
       "    </tr>\n",
       "    <tr>\n",
       "      <th>6</th>\n",
       "      <td>7</td>\n",
       "      <td>0</td>\n",
       "      <td>1</td>\n",
       "      <td>54.0</td>\n",
       "      <td>0</td>\n",
       "      <td>0</td>\n",
       "      <td>51.8625</td>\n",
       "    </tr>\n",
       "    <tr>\n",
       "      <th>10</th>\n",
       "      <td>11</td>\n",
       "      <td>1</td>\n",
       "      <td>3</td>\n",
       "      <td>4.0</td>\n",
       "      <td>1</td>\n",
       "      <td>1</td>\n",
       "      <td>16.7000</td>\n",
       "    </tr>\n",
       "    <tr>\n",
       "      <th>11</th>\n",
       "      <td>12</td>\n",
       "      <td>1</td>\n",
       "      <td>1</td>\n",
       "      <td>58.0</td>\n",
       "      <td>0</td>\n",
       "      <td>0</td>\n",
       "      <td>26.5500</td>\n",
       "    </tr>\n",
       "    <tr>\n",
       "      <th>21</th>\n",
       "      <td>22</td>\n",
       "      <td>1</td>\n",
       "      <td>2</td>\n",
       "      <td>34.0</td>\n",
       "      <td>0</td>\n",
       "      <td>0</td>\n",
       "      <td>13.0000</td>\n",
       "    </tr>\n",
       "  </tbody>\n",
       "</table>\n",
       "</div>"
      ],
      "text/plain": [
       "    PassengerId  Survived  Pclass   Age  SibSp  Parch     Fare\n",
       "1             2         1       1  38.0      1      0  71.2833\n",
       "3             4         1       1  35.0      1      0  53.1000\n",
       "6             7         0       1  54.0      0      0  51.8625\n",
       "10           11         1       3   4.0      1      1  16.7000\n",
       "11           12         1       1  58.0      0      0  26.5500\n",
       "21           22         1       2  34.0      0      0  13.0000"
      ]
     },
     "execution_count": 73,
     "metadata": {},
     "output_type": "execute_result"
    }
   ],
   "source": [
    "df.head(6)"
   ]
  },
  {
   "cell_type": "code",
   "execution_count": 74,
   "metadata": {},
   "outputs": [
    {
     "data": {
      "text/html": [
       "<div>\n",
       "<style>\n",
       "    .dataframe thead tr:only-child th {\n",
       "        text-align: right;\n",
       "    }\n",
       "\n",
       "    .dataframe thead th {\n",
       "        text-align: left;\n",
       "    }\n",
       "\n",
       "    .dataframe tbody tr th {\n",
       "        vertical-align: top;\n",
       "    }\n",
       "</style>\n",
       "<table border=\"1\" class=\"dataframe\">\n",
       "  <thead>\n",
       "    <tr style=\"text-align: right;\">\n",
       "      <th></th>\n",
       "      <th>PassengerId</th>\n",
       "      <th>Pclass</th>\n",
       "      <th>Age</th>\n",
       "      <th>SibSp</th>\n",
       "      <th>Parch</th>\n",
       "      <th>Fare</th>\n",
       "    </tr>\n",
       "  </thead>\n",
       "  <tbody>\n",
       "    <tr>\n",
       "      <th>12</th>\n",
       "      <td>904</td>\n",
       "      <td>1</td>\n",
       "      <td>23.0</td>\n",
       "      <td>1</td>\n",
       "      <td>0</td>\n",
       "      <td>82.2667</td>\n",
       "    </tr>\n",
       "    <tr>\n",
       "      <th>14</th>\n",
       "      <td>906</td>\n",
       "      <td>1</td>\n",
       "      <td>47.0</td>\n",
       "      <td>1</td>\n",
       "      <td>0</td>\n",
       "      <td>61.1750</td>\n",
       "    </tr>\n",
       "    <tr>\n",
       "      <th>24</th>\n",
       "      <td>916</td>\n",
       "      <td>1</td>\n",
       "      <td>48.0</td>\n",
       "      <td>1</td>\n",
       "      <td>3</td>\n",
       "      <td>262.3750</td>\n",
       "    </tr>\n",
       "    <tr>\n",
       "      <th>26</th>\n",
       "      <td>918</td>\n",
       "      <td>1</td>\n",
       "      <td>22.0</td>\n",
       "      <td>0</td>\n",
       "      <td>1</td>\n",
       "      <td>61.9792</td>\n",
       "    </tr>\n",
       "    <tr>\n",
       "      <th>28</th>\n",
       "      <td>920</td>\n",
       "      <td>1</td>\n",
       "      <td>41.0</td>\n",
       "      <td>0</td>\n",
       "      <td>0</td>\n",
       "      <td>30.5000</td>\n",
       "    </tr>\n",
       "    <tr>\n",
       "      <th>34</th>\n",
       "      <td>926</td>\n",
       "      <td>1</td>\n",
       "      <td>30.0</td>\n",
       "      <td>1</td>\n",
       "      <td>0</td>\n",
       "      <td>57.7500</td>\n",
       "    </tr>\n",
       "  </tbody>\n",
       "</table>\n",
       "</div>"
      ],
      "text/plain": [
       "    PassengerId  Pclass   Age  SibSp  Parch      Fare\n",
       "12          904       1  23.0      1      0   82.2667\n",
       "14          906       1  47.0      1      0   61.1750\n",
       "24          916       1  48.0      1      3  262.3750\n",
       "26          918       1  22.0      0      1   61.9792\n",
       "28          920       1  41.0      0      0   30.5000\n",
       "34          926       1  30.0      1      0   57.7500"
      ]
     },
     "execution_count": 74,
     "metadata": {},
     "output_type": "execute_result"
    }
   ],
   "source": [
    "df1.head(6)"
   ]
  },
  {
   "cell_type": "code",
   "execution_count": 7,
   "metadata": {
    "collapsed": true
   },
   "outputs": [],
   "source": [
    "num_samples=df.shape[0]\n",
    "num_attributes = df.shape[1]"
   ]
  },
  {
   "cell_type": "code",
   "execution_count": 8,
   "metadata": {
    "scrolled": true
   },
   "outputs": [
    {
     "name": "stdout",
     "output_type": "stream",
     "text": [
      "The titanic dataset contains 183 observations\n",
      "The titanic dataset contains 7 attributes\n"
     ]
    }
   ],
   "source": [
    "print (\"The titanic dataset contains {} observations\".format(num_samples))\n",
    "print (\"The titanic dataset contains {} attributes\".format(num_attributes))"
   ]
  },
  {
   "cell_type": "code",
   "execution_count": 9,
   "metadata": {
    "scrolled": false
   },
   "outputs": [
    {
     "data": {
      "text/html": [
       "<div>\n",
       "<style>\n",
       "    .dataframe thead tr:only-child th {\n",
       "        text-align: right;\n",
       "    }\n",
       "\n",
       "    .dataframe thead th {\n",
       "        text-align: left;\n",
       "    }\n",
       "\n",
       "    .dataframe tbody tr th {\n",
       "        vertical-align: top;\n",
       "    }\n",
       "</style>\n",
       "<table border=\"1\" class=\"dataframe\">\n",
       "  <thead>\n",
       "    <tr style=\"text-align: right;\">\n",
       "      <th></th>\n",
       "      <th>PassengerId</th>\n",
       "      <th>Pclass</th>\n",
       "      <th>Age</th>\n",
       "      <th>SibSp</th>\n",
       "      <th>Parch</th>\n",
       "      <th>Fare</th>\n",
       "    </tr>\n",
       "  </thead>\n",
       "  <tbody>\n",
       "    <tr>\n",
       "      <th>1</th>\n",
       "      <td>2</td>\n",
       "      <td>1</td>\n",
       "      <td>38.0</td>\n",
       "      <td>1</td>\n",
       "      <td>0</td>\n",
       "      <td>71.2833</td>\n",
       "    </tr>\n",
       "    <tr>\n",
       "      <th>3</th>\n",
       "      <td>4</td>\n",
       "      <td>1</td>\n",
       "      <td>35.0</td>\n",
       "      <td>1</td>\n",
       "      <td>0</td>\n",
       "      <td>53.1000</td>\n",
       "    </tr>\n",
       "    <tr>\n",
       "      <th>6</th>\n",
       "      <td>7</td>\n",
       "      <td>1</td>\n",
       "      <td>54.0</td>\n",
       "      <td>0</td>\n",
       "      <td>0</td>\n",
       "      <td>51.8625</td>\n",
       "    </tr>\n",
       "    <tr>\n",
       "      <th>10</th>\n",
       "      <td>11</td>\n",
       "      <td>3</td>\n",
       "      <td>4.0</td>\n",
       "      <td>1</td>\n",
       "      <td>1</td>\n",
       "      <td>16.7000</td>\n",
       "    </tr>\n",
       "    <tr>\n",
       "      <th>11</th>\n",
       "      <td>12</td>\n",
       "      <td>1</td>\n",
       "      <td>58.0</td>\n",
       "      <td>0</td>\n",
       "      <td>0</td>\n",
       "      <td>26.5500</td>\n",
       "    </tr>\n",
       "    <tr>\n",
       "      <th>21</th>\n",
       "      <td>22</td>\n",
       "      <td>2</td>\n",
       "      <td>34.0</td>\n",
       "      <td>0</td>\n",
       "      <td>0</td>\n",
       "      <td>13.0000</td>\n",
       "    </tr>\n",
       "    <tr>\n",
       "      <th>23</th>\n",
       "      <td>24</td>\n",
       "      <td>1</td>\n",
       "      <td>28.0</td>\n",
       "      <td>0</td>\n",
       "      <td>0</td>\n",
       "      <td>35.5000</td>\n",
       "    </tr>\n",
       "    <tr>\n",
       "      <th>27</th>\n",
       "      <td>28</td>\n",
       "      <td>1</td>\n",
       "      <td>19.0</td>\n",
       "      <td>3</td>\n",
       "      <td>2</td>\n",
       "      <td>263.0000</td>\n",
       "    </tr>\n",
       "    <tr>\n",
       "      <th>52</th>\n",
       "      <td>53</td>\n",
       "      <td>1</td>\n",
       "      <td>49.0</td>\n",
       "      <td>1</td>\n",
       "      <td>0</td>\n",
       "      <td>76.7292</td>\n",
       "    </tr>\n",
       "    <tr>\n",
       "      <th>54</th>\n",
       "      <td>55</td>\n",
       "      <td>1</td>\n",
       "      <td>65.0</td>\n",
       "      <td>0</td>\n",
       "      <td>1</td>\n",
       "      <td>61.9792</td>\n",
       "    </tr>\n",
       "    <tr>\n",
       "      <th>62</th>\n",
       "      <td>63</td>\n",
       "      <td>1</td>\n",
       "      <td>45.0</td>\n",
       "      <td>1</td>\n",
       "      <td>0</td>\n",
       "      <td>83.4750</td>\n",
       "    </tr>\n",
       "    <tr>\n",
       "      <th>66</th>\n",
       "      <td>67</td>\n",
       "      <td>2</td>\n",
       "      <td>29.0</td>\n",
       "      <td>0</td>\n",
       "      <td>0</td>\n",
       "      <td>10.5000</td>\n",
       "    </tr>\n",
       "    <tr>\n",
       "      <th>75</th>\n",
       "      <td>76</td>\n",
       "      <td>3</td>\n",
       "      <td>25.0</td>\n",
       "      <td>0</td>\n",
       "      <td>0</td>\n",
       "      <td>7.6500</td>\n",
       "    </tr>\n",
       "    <tr>\n",
       "      <th>88</th>\n",
       "      <td>89</td>\n",
       "      <td>1</td>\n",
       "      <td>23.0</td>\n",
       "      <td>3</td>\n",
       "      <td>2</td>\n",
       "      <td>263.0000</td>\n",
       "    </tr>\n",
       "    <tr>\n",
       "      <th>92</th>\n",
       "      <td>93</td>\n",
       "      <td>1</td>\n",
       "      <td>46.0</td>\n",
       "      <td>1</td>\n",
       "      <td>0</td>\n",
       "      <td>61.1750</td>\n",
       "    </tr>\n",
       "    <tr>\n",
       "      <th>96</th>\n",
       "      <td>97</td>\n",
       "      <td>1</td>\n",
       "      <td>71.0</td>\n",
       "      <td>0</td>\n",
       "      <td>0</td>\n",
       "      <td>34.6542</td>\n",
       "    </tr>\n",
       "    <tr>\n",
       "      <th>97</th>\n",
       "      <td>98</td>\n",
       "      <td>1</td>\n",
       "      <td>23.0</td>\n",
       "      <td>0</td>\n",
       "      <td>1</td>\n",
       "      <td>63.3583</td>\n",
       "    </tr>\n",
       "    <tr>\n",
       "      <th>102</th>\n",
       "      <td>103</td>\n",
       "      <td>1</td>\n",
       "      <td>21.0</td>\n",
       "      <td>0</td>\n",
       "      <td>1</td>\n",
       "      <td>77.2875</td>\n",
       "    </tr>\n",
       "    <tr>\n",
       "      <th>110</th>\n",
       "      <td>111</td>\n",
       "      <td>1</td>\n",
       "      <td>47.0</td>\n",
       "      <td>0</td>\n",
       "      <td>0</td>\n",
       "      <td>52.0000</td>\n",
       "    </tr>\n",
       "    <tr>\n",
       "      <th>118</th>\n",
       "      <td>119</td>\n",
       "      <td>1</td>\n",
       "      <td>24.0</td>\n",
       "      <td>0</td>\n",
       "      <td>1</td>\n",
       "      <td>247.5208</td>\n",
       "    </tr>\n",
       "    <tr>\n",
       "      <th>123</th>\n",
       "      <td>124</td>\n",
       "      <td>2</td>\n",
       "      <td>32.5</td>\n",
       "      <td>0</td>\n",
       "      <td>0</td>\n",
       "      <td>13.0000</td>\n",
       "    </tr>\n",
       "    <tr>\n",
       "      <th>124</th>\n",
       "      <td>125</td>\n",
       "      <td>1</td>\n",
       "      <td>54.0</td>\n",
       "      <td>0</td>\n",
       "      <td>1</td>\n",
       "      <td>77.2875</td>\n",
       "    </tr>\n",
       "    <tr>\n",
       "      <th>136</th>\n",
       "      <td>137</td>\n",
       "      <td>1</td>\n",
       "      <td>19.0</td>\n",
       "      <td>0</td>\n",
       "      <td>2</td>\n",
       "      <td>26.2833</td>\n",
       "    </tr>\n",
       "    <tr>\n",
       "      <th>137</th>\n",
       "      <td>138</td>\n",
       "      <td>1</td>\n",
       "      <td>37.0</td>\n",
       "      <td>1</td>\n",
       "      <td>0</td>\n",
       "      <td>53.1000</td>\n",
       "    </tr>\n",
       "    <tr>\n",
       "      <th>139</th>\n",
       "      <td>140</td>\n",
       "      <td>1</td>\n",
       "      <td>24.0</td>\n",
       "      <td>0</td>\n",
       "      <td>0</td>\n",
       "      <td>79.2000</td>\n",
       "    </tr>\n",
       "    <tr>\n",
       "      <th>148</th>\n",
       "      <td>149</td>\n",
       "      <td>2</td>\n",
       "      <td>36.5</td>\n",
       "      <td>0</td>\n",
       "      <td>2</td>\n",
       "      <td>26.0000</td>\n",
       "    </tr>\n",
       "    <tr>\n",
       "      <th>151</th>\n",
       "      <td>152</td>\n",
       "      <td>1</td>\n",
       "      <td>22.0</td>\n",
       "      <td>1</td>\n",
       "      <td>0</td>\n",
       "      <td>66.6000</td>\n",
       "    </tr>\n",
       "    <tr>\n",
       "      <th>170</th>\n",
       "      <td>171</td>\n",
       "      <td>1</td>\n",
       "      <td>61.0</td>\n",
       "      <td>0</td>\n",
       "      <td>0</td>\n",
       "      <td>33.5000</td>\n",
       "    </tr>\n",
       "    <tr>\n",
       "      <th>174</th>\n",
       "      <td>175</td>\n",
       "      <td>1</td>\n",
       "      <td>56.0</td>\n",
       "      <td>0</td>\n",
       "      <td>0</td>\n",
       "      <td>30.6958</td>\n",
       "    </tr>\n",
       "    <tr>\n",
       "      <th>177</th>\n",
       "      <td>178</td>\n",
       "      <td>1</td>\n",
       "      <td>50.0</td>\n",
       "      <td>0</td>\n",
       "      <td>0</td>\n",
       "      <td>28.7125</td>\n",
       "    </tr>\n",
       "    <tr>\n",
       "      <th>...</th>\n",
       "      <td>...</td>\n",
       "      <td>...</td>\n",
       "      <td>...</td>\n",
       "      <td>...</td>\n",
       "      <td>...</td>\n",
       "      <td>...</td>\n",
       "    </tr>\n",
       "    <tr>\n",
       "      <th>737</th>\n",
       "      <td>738</td>\n",
       "      <td>1</td>\n",
       "      <td>35.0</td>\n",
       "      <td>0</td>\n",
       "      <td>0</td>\n",
       "      <td>512.3292</td>\n",
       "    </tr>\n",
       "    <tr>\n",
       "      <th>741</th>\n",
       "      <td>742</td>\n",
       "      <td>1</td>\n",
       "      <td>36.0</td>\n",
       "      <td>1</td>\n",
       "      <td>0</td>\n",
       "      <td>78.8500</td>\n",
       "    </tr>\n",
       "    <tr>\n",
       "      <th>742</th>\n",
       "      <td>743</td>\n",
       "      <td>1</td>\n",
       "      <td>21.0</td>\n",
       "      <td>2</td>\n",
       "      <td>2</td>\n",
       "      <td>262.3750</td>\n",
       "    </tr>\n",
       "    <tr>\n",
       "      <th>745</th>\n",
       "      <td>746</td>\n",
       "      <td>1</td>\n",
       "      <td>70.0</td>\n",
       "      <td>1</td>\n",
       "      <td>1</td>\n",
       "      <td>71.0000</td>\n",
       "    </tr>\n",
       "    <tr>\n",
       "      <th>748</th>\n",
       "      <td>749</td>\n",
       "      <td>1</td>\n",
       "      <td>19.0</td>\n",
       "      <td>1</td>\n",
       "      <td>0</td>\n",
       "      <td>53.1000</td>\n",
       "    </tr>\n",
       "    <tr>\n",
       "      <th>751</th>\n",
       "      <td>752</td>\n",
       "      <td>3</td>\n",
       "      <td>6.0</td>\n",
       "      <td>0</td>\n",
       "      <td>1</td>\n",
       "      <td>12.4750</td>\n",
       "    </tr>\n",
       "    <tr>\n",
       "      <th>759</th>\n",
       "      <td>760</td>\n",
       "      <td>1</td>\n",
       "      <td>33.0</td>\n",
       "      <td>0</td>\n",
       "      <td>0</td>\n",
       "      <td>86.5000</td>\n",
       "    </tr>\n",
       "    <tr>\n",
       "      <th>763</th>\n",
       "      <td>764</td>\n",
       "      <td>1</td>\n",
       "      <td>36.0</td>\n",
       "      <td>1</td>\n",
       "      <td>2</td>\n",
       "      <td>120.0000</td>\n",
       "    </tr>\n",
       "    <tr>\n",
       "      <th>765</th>\n",
       "      <td>766</td>\n",
       "      <td>1</td>\n",
       "      <td>51.0</td>\n",
       "      <td>1</td>\n",
       "      <td>0</td>\n",
       "      <td>77.9583</td>\n",
       "    </tr>\n",
       "    <tr>\n",
       "      <th>772</th>\n",
       "      <td>773</td>\n",
       "      <td>2</td>\n",
       "      <td>57.0</td>\n",
       "      <td>0</td>\n",
       "      <td>0</td>\n",
       "      <td>10.5000</td>\n",
       "    </tr>\n",
       "    <tr>\n",
       "      <th>779</th>\n",
       "      <td>780</td>\n",
       "      <td>1</td>\n",
       "      <td>43.0</td>\n",
       "      <td>0</td>\n",
       "      <td>1</td>\n",
       "      <td>211.3375</td>\n",
       "    </tr>\n",
       "    <tr>\n",
       "      <th>781</th>\n",
       "      <td>782</td>\n",
       "      <td>1</td>\n",
       "      <td>17.0</td>\n",
       "      <td>1</td>\n",
       "      <td>0</td>\n",
       "      <td>57.0000</td>\n",
       "    </tr>\n",
       "    <tr>\n",
       "      <th>782</th>\n",
       "      <td>783</td>\n",
       "      <td>1</td>\n",
       "      <td>29.0</td>\n",
       "      <td>0</td>\n",
       "      <td>0</td>\n",
       "      <td>30.0000</td>\n",
       "    </tr>\n",
       "    <tr>\n",
       "      <th>789</th>\n",
       "      <td>790</td>\n",
       "      <td>1</td>\n",
       "      <td>46.0</td>\n",
       "      <td>0</td>\n",
       "      <td>0</td>\n",
       "      <td>79.2000</td>\n",
       "    </tr>\n",
       "    <tr>\n",
       "      <th>796</th>\n",
       "      <td>797</td>\n",
       "      <td>1</td>\n",
       "      <td>49.0</td>\n",
       "      <td>0</td>\n",
       "      <td>0</td>\n",
       "      <td>25.9292</td>\n",
       "    </tr>\n",
       "    <tr>\n",
       "      <th>802</th>\n",
       "      <td>803</td>\n",
       "      <td>1</td>\n",
       "      <td>11.0</td>\n",
       "      <td>1</td>\n",
       "      <td>2</td>\n",
       "      <td>120.0000</td>\n",
       "    </tr>\n",
       "    <tr>\n",
       "      <th>806</th>\n",
       "      <td>807</td>\n",
       "      <td>1</td>\n",
       "      <td>39.0</td>\n",
       "      <td>0</td>\n",
       "      <td>0</td>\n",
       "      <td>0.0000</td>\n",
       "    </tr>\n",
       "    <tr>\n",
       "      <th>809</th>\n",
       "      <td>810</td>\n",
       "      <td>1</td>\n",
       "      <td>33.0</td>\n",
       "      <td>1</td>\n",
       "      <td>0</td>\n",
       "      <td>53.1000</td>\n",
       "    </tr>\n",
       "    <tr>\n",
       "      <th>820</th>\n",
       "      <td>821</td>\n",
       "      <td>1</td>\n",
       "      <td>52.0</td>\n",
       "      <td>1</td>\n",
       "      <td>1</td>\n",
       "      <td>93.5000</td>\n",
       "    </tr>\n",
       "    <tr>\n",
       "      <th>823</th>\n",
       "      <td>824</td>\n",
       "      <td>3</td>\n",
       "      <td>27.0</td>\n",
       "      <td>0</td>\n",
       "      <td>1</td>\n",
       "      <td>12.4750</td>\n",
       "    </tr>\n",
       "    <tr>\n",
       "      <th>835</th>\n",
       "      <td>836</td>\n",
       "      <td>1</td>\n",
       "      <td>39.0</td>\n",
       "      <td>1</td>\n",
       "      <td>1</td>\n",
       "      <td>83.1583</td>\n",
       "    </tr>\n",
       "    <tr>\n",
       "      <th>853</th>\n",
       "      <td>854</td>\n",
       "      <td>1</td>\n",
       "      <td>16.0</td>\n",
       "      <td>0</td>\n",
       "      <td>1</td>\n",
       "      <td>39.4000</td>\n",
       "    </tr>\n",
       "    <tr>\n",
       "      <th>857</th>\n",
       "      <td>858</td>\n",
       "      <td>1</td>\n",
       "      <td>51.0</td>\n",
       "      <td>0</td>\n",
       "      <td>0</td>\n",
       "      <td>26.5500</td>\n",
       "    </tr>\n",
       "    <tr>\n",
       "      <th>862</th>\n",
       "      <td>863</td>\n",
       "      <td>1</td>\n",
       "      <td>48.0</td>\n",
       "      <td>0</td>\n",
       "      <td>0</td>\n",
       "      <td>25.9292</td>\n",
       "    </tr>\n",
       "    <tr>\n",
       "      <th>867</th>\n",
       "      <td>868</td>\n",
       "      <td>1</td>\n",
       "      <td>31.0</td>\n",
       "      <td>0</td>\n",
       "      <td>0</td>\n",
       "      <td>50.4958</td>\n",
       "    </tr>\n",
       "    <tr>\n",
       "      <th>871</th>\n",
       "      <td>872</td>\n",
       "      <td>1</td>\n",
       "      <td>47.0</td>\n",
       "      <td>1</td>\n",
       "      <td>1</td>\n",
       "      <td>52.5542</td>\n",
       "    </tr>\n",
       "    <tr>\n",
       "      <th>872</th>\n",
       "      <td>873</td>\n",
       "      <td>1</td>\n",
       "      <td>33.0</td>\n",
       "      <td>0</td>\n",
       "      <td>0</td>\n",
       "      <td>5.0000</td>\n",
       "    </tr>\n",
       "    <tr>\n",
       "      <th>879</th>\n",
       "      <td>880</td>\n",
       "      <td>1</td>\n",
       "      <td>56.0</td>\n",
       "      <td>0</td>\n",
       "      <td>1</td>\n",
       "      <td>83.1583</td>\n",
       "    </tr>\n",
       "    <tr>\n",
       "      <th>887</th>\n",
       "      <td>888</td>\n",
       "      <td>1</td>\n",
       "      <td>19.0</td>\n",
       "      <td>0</td>\n",
       "      <td>0</td>\n",
       "      <td>30.0000</td>\n",
       "    </tr>\n",
       "    <tr>\n",
       "      <th>889</th>\n",
       "      <td>890</td>\n",
       "      <td>1</td>\n",
       "      <td>26.0</td>\n",
       "      <td>0</td>\n",
       "      <td>0</td>\n",
       "      <td>30.0000</td>\n",
       "    </tr>\n",
       "  </tbody>\n",
       "</table>\n",
       "<p>183 rows × 6 columns</p>\n",
       "</div>"
      ],
      "text/plain": [
       "     PassengerId  Pclass   Age  SibSp  Parch      Fare\n",
       "1              2       1  38.0      1      0   71.2833\n",
       "3              4       1  35.0      1      0   53.1000\n",
       "6              7       1  54.0      0      0   51.8625\n",
       "10            11       3   4.0      1      1   16.7000\n",
       "11            12       1  58.0      0      0   26.5500\n",
       "21            22       2  34.0      0      0   13.0000\n",
       "23            24       1  28.0      0      0   35.5000\n",
       "27            28       1  19.0      3      2  263.0000\n",
       "52            53       1  49.0      1      0   76.7292\n",
       "54            55       1  65.0      0      1   61.9792\n",
       "62            63       1  45.0      1      0   83.4750\n",
       "66            67       2  29.0      0      0   10.5000\n",
       "75            76       3  25.0      0      0    7.6500\n",
       "88            89       1  23.0      3      2  263.0000\n",
       "92            93       1  46.0      1      0   61.1750\n",
       "96            97       1  71.0      0      0   34.6542\n",
       "97            98       1  23.0      0      1   63.3583\n",
       "102          103       1  21.0      0      1   77.2875\n",
       "110          111       1  47.0      0      0   52.0000\n",
       "118          119       1  24.0      0      1  247.5208\n",
       "123          124       2  32.5      0      0   13.0000\n",
       "124          125       1  54.0      0      1   77.2875\n",
       "136          137       1  19.0      0      2   26.2833\n",
       "137          138       1  37.0      1      0   53.1000\n",
       "139          140       1  24.0      0      0   79.2000\n",
       "148          149       2  36.5      0      2   26.0000\n",
       "151          152       1  22.0      1      0   66.6000\n",
       "170          171       1  61.0      0      0   33.5000\n",
       "174          175       1  56.0      0      0   30.6958\n",
       "177          178       1  50.0      0      0   28.7125\n",
       "..           ...     ...   ...    ...    ...       ...\n",
       "737          738       1  35.0      0      0  512.3292\n",
       "741          742       1  36.0      1      0   78.8500\n",
       "742          743       1  21.0      2      2  262.3750\n",
       "745          746       1  70.0      1      1   71.0000\n",
       "748          749       1  19.0      1      0   53.1000\n",
       "751          752       3   6.0      0      1   12.4750\n",
       "759          760       1  33.0      0      0   86.5000\n",
       "763          764       1  36.0      1      2  120.0000\n",
       "765          766       1  51.0      1      0   77.9583\n",
       "772          773       2  57.0      0      0   10.5000\n",
       "779          780       1  43.0      0      1  211.3375\n",
       "781          782       1  17.0      1      0   57.0000\n",
       "782          783       1  29.0      0      0   30.0000\n",
       "789          790       1  46.0      0      0   79.2000\n",
       "796          797       1  49.0      0      0   25.9292\n",
       "802          803       1  11.0      1      2  120.0000\n",
       "806          807       1  39.0      0      0    0.0000\n",
       "809          810       1  33.0      1      0   53.1000\n",
       "820          821       1  52.0      1      1   93.5000\n",
       "823          824       3  27.0      0      1   12.4750\n",
       "835          836       1  39.0      1      1   83.1583\n",
       "853          854       1  16.0      0      1   39.4000\n",
       "857          858       1  51.0      0      0   26.5500\n",
       "862          863       1  48.0      0      0   25.9292\n",
       "867          868       1  31.0      0      0   50.4958\n",
       "871          872       1  47.0      1      1   52.5542\n",
       "872          873       1  33.0      0      0    5.0000\n",
       "879          880       1  56.0      0      1   83.1583\n",
       "887          888       1  19.0      0      0   30.0000\n",
       "889          890       1  26.0      0      0   30.0000\n",
       "\n",
       "[183 rows x 6 columns]"
      ]
     },
     "execution_count": 9,
     "metadata": {},
     "output_type": "execute_result"
    }
   ],
   "source": [
    "#get the targets for the trainning set \n",
    "#drop the targets for the trainning set\n",
    "Y_train = df[\"Survived\"]\n",
    "df.drop(['Survived'],axis=1)"
   ]
  },
  {
   "cell_type": "code",
   "execution_count": 10,
   "metadata": {
    "collapsed": true
   },
   "outputs": [],
   "source": [
    "#returns a numpy.ndarray\n",
    "X_train = df.values\n",
    "X_test = df1.values"
   ]
  },
  {
   "cell_type": "code",
   "execution_count": 11,
   "metadata": {},
   "outputs": [
    {
     "name": "stdout",
     "output_type": "stream",
     "text": [
      "Training data shape: (183, 7)\n",
      "Training Targets shape: (183,)\n",
      "Testing date shape: (183, 7)\n"
     ]
    }
   ],
   "source": [
    "print (\"Training data shape: {}\".format(X_train.shape))\n",
    "print (\"Training Targets shape: {}\".format(Y_train.shape))\n",
    "print (\"Testing date shape: {}\".format(X_test.shape))"
   ]
  },
  {
   "cell_type": "code",
   "execution_count": 12,
   "metadata": {
    "collapsed": true
   },
   "outputs": [],
   "source": [
    "acc_train_logreg = []"
   ]
  },
  {
   "cell_type": "code",
   "execution_count": 13,
   "metadata": {
    "collapsed": true
   },
   "outputs": [],
   "source": [
    "acc_test_logreg = []"
   ]
  },
  {
   "cell_type": "code",
   "execution_count": 14,
   "metadata": {
    "collapsed": true
   },
   "outputs": [],
   "source": [
    "c_logreg = [0.1,1,10,100,1000]"
   ]
  },
  {
   "cell_type": "code",
   "execution_count": 15,
   "metadata": {
    "collapsed": true
   },
   "outputs": [],
   "source": [
    "def logreg_model(c, X_train, Y_train,penalty):\n",
    "    '''\n",
    "        Author: Kyle Ong\n",
    "        Date: 05/13/2018\n",
    "        \n",
    "        fits a sklearn.linear_model.LogisticRegression(penalty = penalty, C=c, solver='saga')\n",
    "        to X_train and Y_train\n",
    "        \n",
    "        c: type: float\n",
    "        penalty: type: string\n",
    "        X_train: type: numpy.ndarray\n",
    "        Y_train: type: numpy.ndarray\n",
    "    \n",
    "    '''\n",
    "    logreg = linear_model.LogisticRegression(penalty=penalty, C=c ,solver='saga')\n",
    "    \n",
    "    with warnings.catch_warnings():\n",
    "        \n",
    "        warnings.filterwarnings('ignore',category=ConvergenceWarning)\n",
    "        \n",
    "        try:\n",
    "            logreg.fit(X_train,Y_train)\n",
    "            \n",
    "            y_hat = logreg.predict(X_train)\n",
    "            acc_train = np.mean(Y_train == y_hat)\n",
    "            print(\"This is the trainning accuracy with {} loss and {} c_val: {}\".format(penalty,c, acc_train))\n",
    "            \n",
    "        except Warning as w:\n",
    "            print(w)"
   ]
  },
  {
   "cell_type": "code",
   "execution_count": 16,
   "metadata": {},
   "outputs": [
    {
     "name": "stdout",
     "output_type": "stream",
     "text": [
      "This is the trainning accuracy with L1 loss and 100 c_val: 0.7213114754098361\n"
     ]
    }
   ],
   "source": [
    "logreg_model(100,X_train,Y_train,\"L1\")"
   ]
  },
  {
   "cell_type": "code",
   "execution_count": 17,
   "metadata": {
    "collapsed": true
   },
   "outputs": [],
   "source": [
    "def train_logistic_model_with(X_train,Y_train,params):\n",
    "    '''\n",
    "            Author: Kyle Ong\n",
    "            Date: 05/12/2018\n",
    "            \n",
    "            will train sklearn.linear_model.LogisticRegression(penalty = penalty, C=c_val,solver='saga) over params\n",
    "            \n",
    "            X_train: type: numpy.ndarray\n",
    "            Y_train: type: numpy.ndarray\n",
    "            params: type: dict: {penalty:[c_vals]}\n",
    "    '''\n",
    "    for k,v in params.items():\n",
    "        \n",
    "        penalty = k\n",
    "        acc_train_array = []\n",
    "\n",
    "        for c_val in v:\n",
    "            #this is baest coding skills\n",
    "            log_model = 1\n",
    "            if penalty.lower() == \"l1\" :\n",
    "                log_model = linear_model.LogisticRegression(penalty=penalty, C=c_val,solver='saga')\n",
    "            \n",
    "            elif penalty.lower() == 'l2':\n",
    "                log_model = linear_model.LogisticRegression( C=c_val)\n",
    "                \n",
    "            with warnings.catch_warnings():\n",
    "                \n",
    "                warnings.filterwarnings('ignore', category=ConvergenceWarning)\n",
    "                \n",
    "                try:\n",
    "                     #fit the model\n",
    "                    log_model.fit(X_train,Y_train)  \n",
    "                    #train the model\n",
    "                    Y_hat = log_model.predict(X_train)\n",
    "            \n",
    "                    train_acc = np.mean(Y_hat == Y_train)\n",
    "            \n",
    "                    acc_train_array.append(train_acc)\n",
    "                    print(\"Accuracy with {} loss and c_val {} : {}\".format(penalty,c_val,train_acc))\n",
    "                \n",
    "                except Warning as w:\n",
    "                    print (w)\n",
    "            \n",
    "\n",
    "      \n",
    "        "
   ]
  },
  {
   "cell_type": "code",
   "execution_count": 18,
   "metadata": {
    "collapsed": true
   },
   "outputs": [],
   "source": [
    "params = {\n",
    "    \"L1\":[0.1,1,10,100],\n",
    "    \"L2\":[0.1,1,10,100]\n",
    "         }"
   ]
  },
  {
   "cell_type": "code",
   "execution_count": 19,
   "metadata": {},
   "outputs": [
    {
     "name": "stdout",
     "output_type": "stream",
     "text": [
      "Accuracy with L1 loss and c_val 0.1 : 0.7213114754098361\n",
      "Accuracy with L1 loss and c_val 1 : 0.7213114754098361\n",
      "Accuracy with L1 loss and c_val 10 : 0.7213114754098361\n",
      "Accuracy with L1 loss and c_val 100 : 0.7213114754098361\n",
      "Accuracy with L2 loss and c_val 0.1 : 0.9726775956284153\n",
      "Accuracy with L2 loss and c_val 1 : 1.0\n",
      "Accuracy with L2 loss and c_val 10 : 1.0\n",
      "Accuracy with L2 loss and c_val 100 : 1.0\n"
     ]
    }
   ],
   "source": [
    "train_logistic_model_with(X_train,Y_train,params)"
   ]
  },
  {
   "cell_type": "code",
   "execution_count": 20,
   "metadata": {
    "collapsed": true
   },
   "outputs": [],
   "source": [
    "# apply feature transformations!\n",
    "from sklearn.preprocessing import PolynomialFeatures"
   ]
  },
  {
   "cell_type": "code",
   "execution_count": 21,
   "metadata": {
    "collapsed": true
   },
   "outputs": [],
   "source": [
    "poly = PolynomialFeatures(2)"
   ]
  },
  {
   "cell_type": "code",
   "execution_count": 22,
   "metadata": {
    "collapsed": true
   },
   "outputs": [],
   "source": [
    "X_train_transformed = poly.fit_transform(X_train)\n",
    "labels = X_train_transformed.shape[1]\n",
    "observations = X_train_transformed.shape[0]"
   ]
  },
  {
   "cell_type": "code",
   "execution_count": 23,
   "metadata": {},
   "outputs": [
    {
     "name": "stdout",
     "output_type": "stream",
     "text": [
      "The titanic dataset has 183 observations.\n",
      "The titanic dataset has 36 labels\n"
     ]
    }
   ],
   "source": [
    "print (\"The titanic dataset has {} observations.\".format(observations))\n",
    "print(\"The titanic dataset has {} labels\".format(labels))"
   ]
  },
  {
   "cell_type": "code",
   "execution_count": 24,
   "metadata": {
    "scrolled": true
   },
   "outputs": [
    {
     "name": "stdout",
     "output_type": "stream",
     "text": [
      "Accuracy with L1 loss and c_val 0.1 : 0.6939890710382514\n",
      "Accuracy with L1 loss and c_val 1 : 0.6994535519125683\n",
      "Accuracy with L1 loss and c_val 10 : 0.6994535519125683\n",
      "Accuracy with L1 loss and c_val 100 : 0.6939890710382514\n",
      "Accuracy with L2 loss and c_val 0.1 : 1.0\n",
      "Accuracy with L2 loss and c_val 1 : 1.0\n",
      "Accuracy with L2 loss and c_val 10 : 1.0\n",
      "Accuracy with L2 loss and c_val 100 : 1.0\n"
     ]
    }
   ],
   "source": [
    "train_logistic_model_with(X_train_transformed,Y_train,params)"
   ]
  },
  {
   "cell_type": "code",
   "execution_count": 25,
   "metadata": {
    "collapsed": true
   },
   "outputs": [],
   "source": [
    "#split the trainning set into test and training set\n",
    "split = math.floor(num_samples*0.5)\n",
    "\n",
    "X_train_split = X_train[0 : split, :]\n",
    "X_test_split = X_train[split: , :  ]\n",
    "Y_train_split = Y_train[0:split]\n",
    "Y_test_split = Y_train[split: ]"
   ]
  },
  {
   "cell_type": "code",
   "execution_count": 26,
   "metadata": {},
   "outputs": [
    {
     "name": "stdout",
     "output_type": "stream",
     "text": [
      "Training observations has shape: (91, 7)\n",
      "Training targets has shape: (91,)\n",
      "Testing observations has shape: (92, 7)\n"
     ]
    }
   ],
   "source": [
    "print(\"Training observations has shape: {}\".format(X_train_split.shape))\n",
    "print(\"Training targets has shape: {}\".format(Y_train_split.shape))\n",
    "print(\"Testing observations has shape: {}\".format(X_test_split.shape))"
   ]
  },
  {
   "cell_type": "code",
   "execution_count": 27,
   "metadata": {
    "collapsed": true
   },
   "outputs": [],
   "source": [
    "def test_logistic_model_with(X_train,Y_train,X_test,Y_test,params):\n",
    "    '''\n",
    "            Author: Kyle Ong\n",
    "            Date 05/13/2018\n",
    "            \n",
    "            trains and tests linear_model.LogisticRegression()\n",
    "            \n",
    "            X_train:type: numpy.ndarray\n",
    "            Y_train: type: numpy.ndarray\n",
    "            X_test: type: numpy.ndarray\n",
    "            Y_test: type: numpy.ndarray\n",
    "            params: type: dict {penalty : [c_val]}\n",
    "    '''\n",
    "    for k,v in params.items():\n",
    "        \n",
    "        penalty = k\n",
    "        acc_train_array = []\n",
    "        acc_test_arr = []\n",
    "\n",
    "        for c_val in v:\n",
    "            #this is baest coding skills\n",
    "            log_model = 1\n",
    "            if penalty.lower() == \"l1\" :\n",
    "                log_model = linear_model.LogisticRegression(penalty=penalty, C=c_val,solver='saga')\n",
    "            \n",
    "            elif penalty.lower() == 'l2':\n",
    "                log_model = linear_model.LogisticRegression( C=c_val)\n",
    "               \n",
    "            #uncoment context manager in order to get the convergence warning!\n",
    "            with warnings.catch_warnings():\n",
    "                warnings.filterwarnings('ignore', category=ConvergenceWarning)\n",
    "                try:\n",
    "                     #fit the model\n",
    "                    log_model.fit(X_train,Y_train)  \n",
    "                \n",
    "                    #train the model\n",
    "                    Y_hat = log_model.predict(X_train)\n",
    "                    train_acc = np.mean(Y_hat == Y_train)\n",
    "                    acc_train_array.append(train_acc)\n",
    "                    print(\"Training() ~> Accuracy with {} loss and c_val {} : \\n{}\".format(penalty,c_val,train_acc))\n",
    "                \n",
    "                    #test the model\n",
    "                    Y_hat_test = log_model.predict(X_test)\n",
    "                    acc_test =np.mean(Y_test == Y_hat_test)\n",
    "                    acc_test_arr.append(acc_test)\n",
    "                    print(\"Testing ~> Accuracy with {} loss and c_val {}: \\n{}\".format(penalty,c_val,acc_test))\n",
    "                    \n",
    "                \n",
    "                except Warning as w:\n",
    "                    print(w)\n",
    "                    \n",
    "        plt.plot(v,acc_test_arr)\n",
    "        plt.xlabel('C values')\n",
    "        plt.ylabel('Test accuracy')\n",
    "                \n"
   ]
  },
  {
   "cell_type": "code",
   "execution_count": 28,
   "metadata": {},
   "outputs": [
    {
     "name": "stdout",
     "output_type": "stream",
     "text": [
      "Training() ~> Accuracy with L1 loss and c_val 0.1 : \n",
      "0.6593406593406593\n",
      "Testing ~> Accuracy with L1 loss and c_val 0.1: \n",
      "0.717391304347826\n",
      "Training() ~> Accuracy with L1 loss and c_val 1 : \n",
      "0.6593406593406593\n",
      "Testing ~> Accuracy with L1 loss and c_val 1: \n",
      "0.717391304347826\n",
      "Training() ~> Accuracy with L1 loss and c_val 10 : \n",
      "0.6593406593406593\n",
      "Testing ~> Accuracy with L1 loss and c_val 10: \n",
      "0.717391304347826\n",
      "Training() ~> Accuracy with L1 loss and c_val 100 : \n",
      "0.6593406593406593\n",
      "Testing ~> Accuracy with L1 loss and c_val 100: \n",
      "0.717391304347826\n",
      "Training() ~> Accuracy with L2 loss and c_val 0.1 : \n",
      "0.9340659340659341\n",
      "Testing ~> Accuracy with L2 loss and c_val 0.1: \n",
      "0.7934782608695652\n",
      "Training() ~> Accuracy with L2 loss and c_val 1 : \n",
      "1.0\n",
      "Testing ~> Accuracy with L2 loss and c_val 1: \n",
      "1.0\n",
      "Training() ~> Accuracy with L2 loss and c_val 10 : \n",
      "1.0\n",
      "Testing ~> Accuracy with L2 loss and c_val 10: \n",
      "1.0\n",
      "Training() ~> Accuracy with L2 loss and c_val 100 : \n",
      "1.0\n",
      "Testing ~> Accuracy with L2 loss and c_val 100: \n",
      "1.0\n"
     ]
    },
    {
     "data": {
      "image/png": "[encoded data removed]",
      "text/plain": [
       "<matplotlib.figure.Figure at 0x1114436a0>"
      ]
     },
     "metadata": {},
     "output_type": "display_data"
    }
   ],
   "source": [
    "test_logistic_model_with(X_train_split,Y_train_split,X_test_split,Y_test_split,params)"
   ]
  },
  {
   "cell_type": "code",
   "execution_count": 29,
   "metadata": {
    "collapsed": true
   },
   "outputs": [],
   "source": [
    "# let's try support vector machines!\n",
    "from sklearn import svm"
   ]
  },
  {
   "cell_type": "code",
   "execution_count": 30,
   "metadata": {
    "collapsed": true
   },
   "outputs": [],
   "source": [
    "def svm_linear(c,X_train,Y_train,X_test,Y_test):\n",
    "    '''\n",
    "            Author: Kyle Ong\n",
    "            Date: 05/13/2018\n",
    "            \n",
    "            fits a svm.SVC(probability = False, kernel = 'linear', C = c) to X_train and Y_train\n",
    "            calculates the training and test accuracies \n",
    "            \n",
    "            c: type: int\n",
    "            X_train: numpy.ndarray\n",
    "            Y_train: numpy.ndarray\n",
    "            X_test: numpy.ndarray\n",
    "            Y_test: numpy.ndarray\n",
    "            \n",
    "            will ignore convergence warnings thrown by sklearn\n",
    "    \n",
    "    '''\n",
    "    \n",
    "    linear = svm.SVC(probability=False, kernel='linear',C=c)\n",
    "    \n",
    "    with warnings.catch_warnings():\n",
    "        warnings.filterwarnings('ignore', category=ConvergenceWarning)\n",
    "        \n",
    "        try:\n",
    "\n",
    "            linear.fit(X_train,Y_train)\n",
    "            \n",
    "            Y_hat_train = linear.predict(X_train)\n",
    "            train_acc =np.mean(Y_hat_train == Y_train)\n",
    "            print(\"Training ~> This is the training accuracy with Linear kernel and c_val {}: {}\".format(c,train_acc))\n",
    "            \n",
    "            \n",
    "            Y_hat_test = linear.predict(X_test)\n",
    "            test_acc = np.mean(Y_hat_test == Y_test)\n",
    "            linear_test_acc.append(test_acc)\n",
    "            print(\"Testing ~> This is the testing accuracy with Linear kernel and c_val {}:  {}\".format(c,test_acc))\n",
    "        \n",
    "        except Warning as w:\n",
    "            print(w)\n",
    "            \n",
    "            "
   ]
  },
  {
   "cell_type": "code",
   "execution_count": 31,
   "metadata": {
    "collapsed": true
   },
   "outputs": [],
   "source": [
    "c_vals = [0.1,1,10,100]"
   ]
  },
  {
   "cell_type": "code",
   "execution_count": 32,
   "metadata": {},
   "outputs": [
    {
     "name": "stdout",
     "output_type": "stream",
     "text": [
      "Training ~> This is the training accuracy with Linear kernel and c_val 0.1: 1.0\n",
      "Testing ~> This is the testing accuracy with Linear kernel and c_val 0.1:  1.0\n",
      "Training ~> This is the training accuracy with Linear kernel and c_val 1: 1.0\n",
      "Testing ~> This is the testing accuracy with Linear kernel and c_val 1:  1.0\n",
      "Training ~> This is the training accuracy with Linear kernel and c_val 10: 1.0\n",
      "Testing ~> This is the testing accuracy with Linear kernel and c_val 10:  1.0\n",
      "Training ~> This is the training accuracy with Linear kernel and c_val 100: 1.0\n",
      "Testing ~> This is the testing accuracy with Linear kernel and c_val 100:  1.0\n"
     ]
    }
   ],
   "source": [
    "linear_test_acc = []\n",
    "for c in c_vals:\n",
    "    svm_linear(c,X_train_split,Y_train_split,X_test_split,Y_test_split)"
   ]
  },
  {
   "cell_type": "code",
   "execution_count": 33,
   "metadata": {},
   "outputs": [
    {
     "data": {
      "text/plain": [
       "Text(0,0.5,'linear kernel test accuracies')"
      ]
     },
     "execution_count": 33,
     "metadata": {},
     "output_type": "execute_result"
    },
    {
     "data": {
      "image/png": "[encoded data removed]",
      "text/plain": [
       "<matplotlib.figure.Figure at 0x10a90a710>"
      ]
     },
     "metadata": {},
     "output_type": "display_data"
    }
   ],
   "source": [
    "plt.plot(c_vals,linear_test_acc)\n",
    "plt.xlabel(\"C values\")\n",
    "plt.ylabel(\"linear kernel test accuracies\")"
   ]
  },
  {
   "cell_type": "code",
   "execution_count": 34,
   "metadata": {
    "collapsed": true
   },
   "outputs": [],
   "source": [
    "def svm_rbf(c,X_train,Y_train,X_test,Y_test,gamma):\n",
    "    '''\n",
    "        Author: Kyle Ong\n",
    "        Date: 05/13/2018\n",
    "        \n",
    "        will fit a svm.SVC(probability = False, kernel = 'rbf', gamma = gamma) to X_train and Y_train\n",
    "        will calculate the train accuracy\n",
    "        will calcuate the test accuracy\n",
    "        \n",
    "        c: type: int\n",
    "        X_train: numpy.ndarray\n",
    "        Y_train: numpy.ndarray\n",
    "        X_test: numpy.ndarray\n",
    "        Y_test: numpy.ndarray\n",
    "        gamma: int\n",
    "        \n",
    "        will ignore convergence warnings thrown by sklearn    \n",
    "    '''\n",
    "    \n",
    "    svm_rbf = svm.SVC(probability=False, kernel='rbf',gamma=gamma)\n",
    "    \n",
    "    with warnings.catch_warnings():\n",
    "        warnings.filterwarnings('ignore',category=ConvergenceWarning)\n",
    "        \n",
    "        try:\n",
    "            svm_rbf.fit(X_train,Y_train)\n",
    "            \n",
    "            Y_hat_train = svm_rbf.predict(X_train)\n",
    "            train_acc = np.mean(Y_hat_train == Y_train)\n",
    "            print(\"This is the trainning accuracy with  Radial Basis Kernel and c_val {} and gamma {} : {}\".format(c,gamma,train_acc))\n",
    "            \n",
    "            Y_hat_test = svm_rbf.predict(X_test)\n",
    "            test_acc = np.mean(Y_hat_test == Y_test)\n",
    "            print(\"This is the testing accuracy with  Radial Basis Kernel and c_val {} and gamma {} : {}\".format(c,gamma,test_acc))\n",
    "            rbf_test_acc.append(test_acc)\n",
    "            \n",
    "        except Warning as w:\n",
    "            print(w)\n"
   ]
  },
  {
   "cell_type": "code",
   "execution_count": 35,
   "metadata": {
    "collapsed": true
   },
   "outputs": [],
   "source": [
    "params = {\n",
    "    0.1: [0.1,1,10,100],\n",
    "    1 :  [0.1,1,10,100],\n",
    "    10 :  [0.1,1,10,100],\n",
    "    100 :  [0.1,1,10,100]\n",
    "}"
   ]
  },
  {
   "cell_type": "code",
   "execution_count": 36,
   "metadata": {},
   "outputs": [
    {
     "name": "stdout",
     "output_type": "stream",
     "text": [
      "This is the trainning accuracy with  Radial Basis Kernel and c_val 0.1 and gamma 0.1 : 1.0\n",
      "This is the testing accuracy with  Radial Basis Kernel and c_val 0.1 and gamma 0.1 : 0.717391304347826\n",
      "This is the trainning accuracy with  Radial Basis Kernel and c_val 0.1 and gamma 1 : 1.0\n",
      "This is the testing accuracy with  Radial Basis Kernel and c_val 0.1 and gamma 1 : 0.717391304347826\n",
      "This is the trainning accuracy with  Radial Basis Kernel and c_val 0.1 and gamma 10 : 1.0\n",
      "This is the testing accuracy with  Radial Basis Kernel and c_val 0.1 and gamma 10 : 0.717391304347826\n",
      "This is the trainning accuracy with  Radial Basis Kernel and c_val 0.1 and gamma 100 : 1.0\n",
      "This is the testing accuracy with  Radial Basis Kernel and c_val 0.1 and gamma 100 : 0.717391304347826\n",
      "This is the trainning accuracy with  Radial Basis Kernel and c_val 1 and gamma 0.1 : 1.0\n",
      "This is the testing accuracy with  Radial Basis Kernel and c_val 1 and gamma 0.1 : 0.717391304347826\n",
      "This is the trainning accuracy with  Radial Basis Kernel and c_val 1 and gamma 1 : 1.0\n",
      "This is the testing accuracy with  Radial Basis Kernel and c_val 1 and gamma 1 : 0.717391304347826\n",
      "This is the trainning accuracy with  Radial Basis Kernel and c_val 1 and gamma 10 : 1.0\n",
      "This is the testing accuracy with  Radial Basis Kernel and c_val 1 and gamma 10 : 0.717391304347826\n",
      "This is the trainning accuracy with  Radial Basis Kernel and c_val 1 and gamma 100 : 1.0\n",
      "This is the testing accuracy with  Radial Basis Kernel and c_val 1 and gamma 100 : 0.717391304347826\n",
      "This is the trainning accuracy with  Radial Basis Kernel and c_val 10 and gamma 0.1 : 1.0\n",
      "This is the testing accuracy with  Radial Basis Kernel and c_val 10 and gamma 0.1 : 0.717391304347826\n",
      "This is the trainning accuracy with  Radial Basis Kernel and c_val 10 and gamma 1 : 1.0\n",
      "This is the testing accuracy with  Radial Basis Kernel and c_val 10 and gamma 1 : 0.717391304347826\n",
      "This is the trainning accuracy with  Radial Basis Kernel and c_val 10 and gamma 10 : 1.0\n",
      "This is the testing accuracy with  Radial Basis Kernel and c_val 10 and gamma 10 : 0.717391304347826\n",
      "This is the trainning accuracy with  Radial Basis Kernel and c_val 10 and gamma 100 : 1.0\n",
      "This is the testing accuracy with  Radial Basis Kernel and c_val 10 and gamma 100 : 0.717391304347826\n",
      "This is the trainning accuracy with  Radial Basis Kernel and c_val 100 and gamma 0.1 : 1.0\n",
      "This is the testing accuracy with  Radial Basis Kernel and c_val 100 and gamma 0.1 : 0.717391304347826\n",
      "This is the trainning accuracy with  Radial Basis Kernel and c_val 100 and gamma 1 : 1.0\n",
      "This is the testing accuracy with  Radial Basis Kernel and c_val 100 and gamma 1 : 0.717391304347826\n",
      "This is the trainning accuracy with  Radial Basis Kernel and c_val 100 and gamma 10 : 1.0\n",
      "This is the testing accuracy with  Radial Basis Kernel and c_val 100 and gamma 10 : 0.717391304347826\n",
      "This is the trainning accuracy with  Radial Basis Kernel and c_val 100 and gamma 100 : 1.0\n",
      "This is the testing accuracy with  Radial Basis Kernel and c_val 100 and gamma 100 : 0.717391304347826\n"
     ]
    },
    {
     "data": {
      "image/png": "[encoded data removed]",
      "text/plain": [
       "<matplotlib.figure.Figure at 0x10aa06dd8>"
      ]
     },
     "metadata": {},
     "output_type": "display_data"
    }
   ],
   "source": [
    "for k,v in params.items():\n",
    "    \n",
    "    rbf_test_acc = []\n",
    "    c_val = k\n",
    "    \n",
    "    for gamma in v:\n",
    "        svm_rbf(c_val,X_train_split,Y_train_split,X_test_split,Y_test_split,gamma)\n",
    "        \n",
    "    plt.plot(v,rbf_test_acc)\n",
    "    plt.xlabel(\"C Value\")\n",
    "    plt.ylabel(\"Test accuracies\")"
   ]
  },
  {
   "cell_type": "code",
   "execution_count": 39,
   "metadata": {
    "collapsed": true
   },
   "outputs": [],
   "source": [
    "svm_linear = svm.SVC(probability=False,kernel='linear',C=100)"
   ]
  },
  {
   "cell_type": "code",
   "execution_count": 40,
   "metadata": {},
   "outputs": [
    {
     "data": {
      "text/plain": [
       "SVC(C=100, cache_size=200, class_weight=None, coef0=0.0,\n",
       "  decision_function_shape='ovr', degree=3, gamma='auto', kernel='linear',\n",
       "  max_iter=-1, probability=False, random_state=None, shrinking=True,\n",
       "  tol=0.001, verbose=False)"
      ]
     },
     "execution_count": 40,
     "metadata": {},
     "output_type": "execute_result"
    }
   ],
   "source": [
    "svm_linear.fit(X_train,Y_train)"
   ]
  },
  {
   "cell_type": "code",
   "execution_count": 47,
   "metadata": {},
   "outputs": [],
   "source": [
    "y_hat = svm_linear.predict(X_test)"
   ]
  },
  {
   "cell_type": "code",
   "execution_count": 46,
   "metadata": {
    "collapsed": true
   },
   "outputs": [],
   "source": [
    "np.savetxt(\"submission.csv\",y_hat,delimiter=\",\")"
   ]
  },
  {
   "cell_type": "code",
   "execution_count": 54,
   "metadata": {},
   "outputs": [
    {
     "name": "stdout",
     "output_type": "stream",
     "text": [
      "[[  2.       1.       1.     ...   1.       0.      71.2833]\n",
      " [  4.       1.       1.     ...   1.       0.      53.1   ]\n",
      " [  7.       0.       1.     ...   0.       0.      51.8625]\n",
      " ...\n",
      " [880.       1.       1.     ...   0.       1.      83.1583]\n",
      " [888.       1.       1.     ...   0.       0.      30.    ]\n",
      " [890.       1.       1.     ...   0.       0.      30.    ]]\n"
     ]
    }
   ],
   "source": [
    "print(X_train)"
   ]
  },
  {
   "cell_type": "code",
   "execution_count": 55,
   "metadata": {},
   "outputs": [
    {
     "name": "stdout",
     "output_type": "stream",
     "text": [
      "[[  2.       1.       1.     ...   1.       0.      71.2833]\n",
      " [  4.       1.       1.     ...   1.       0.      53.1   ]\n",
      " [  7.       0.       1.     ...   0.       0.      51.8625]\n",
      " ...\n",
      " [880.       1.       1.     ...   0.       1.      83.1583]\n",
      " [888.       1.       1.     ...   0.       0.      30.    ]\n",
      " [890.       1.       1.     ...   0.       0.      30.    ]]\n"
     ]
    }
   ],
   "source": [
    "print(X_test)"
   ]
  },
  {
   "cell_type": "code",
   "execution_count": null,
   "metadata": {
    "collapsed": true
   },
   "outputs": [],
   "source": []
  }
 ],
 "metadata": {
  "kernelspec": {
   "display_name": "Python 3",
   "language": "python",
   "name": "python3"
  },
  "language_info": {
   "codemirror_mode": {
    "name": "ipython",
    "version": 3
   },
   "file_extension": ".py",
   "mimetype": "text/x-python",
   "name": "python",
   "nbconvert_exporter": "python",
   "pygments_lexer": "ipython3",
   "version": "3.6.3"
  }
 },
 "nbformat": 4,
 "nbformat_minor": 2
}
