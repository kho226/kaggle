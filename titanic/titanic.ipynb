{
 "cells": [
  {
   "cell_type": "code",
   "execution_count": 285,
   "metadata": {
    "collapsed": true
   },
   "outputs": [],
   "source": [
    "import numpy as np\n",
    "import pandas as pd\n",
    "\n",
    "from sklearn import linear_model \n",
    "from sklearn import svm\n",
    "from sklearn.exceptions import ConvergenceWarning\n",
    "from sklearn.preprocessing import OneHotEncoder, LabelEncoder\n",
    "from sklearn import feature_selection\n",
    "from sklearn import model_selection\n",
    "from sklearn import metrics\n",
    "\n",
    "import matplotlib.pyplot as plt\n",
    "\n",
    "import math\n",
    "import warnings\n",
    "%matplotlib inline "
   ]
  },
  {
   "cell_type": "code",
   "execution_count": 286,
   "metadata": {
    "collapsed": true
   },
   "outputs": [],
   "source": [
    "names = [\n",
    "                    \"PassengerId\", \n",
    "                     \"Survived\",\n",
    "                     \"Pclass\",\n",
    "                     \"Name\",\n",
    "                     \"Sex\",\n",
    "                     \"Age\",\n",
    "                     \"SibSp\",\n",
    "                     \"Parch\",\n",
    "                     \"Ticket\",\n",
    "                     \"Fare\",\n",
    "                     \"Cabin\",\n",
    "                     \"Embarked\"\n",
    "        ]"
   ]
  },
  {
   "cell_type": "code",
   "execution_count": 287,
   "metadata": {
    "collapsed": true
   },
   "outputs": [],
   "source": [
    "#ground_truth of data\n",
    "train = pd.read_csv(\"train.csv\",na_values=\"?\")\n",
    "test = pd.read_csv(\"test.csv\",na_values=\"?\")"
   ]
  },
  {
   "cell_type": "code",
   "execution_count": 290,
   "metadata": {
    "collapsed": true
   },
   "outputs": [],
   "source": [
    "#copies of data\n",
    "train_copy = train.copy(deep=True)\n",
    "test_copy = test.copy(deep = True)"
   ]
  },
  {
   "cell_type": "code",
   "execution_count": 291,
   "metadata": {},
   "outputs": [],
   "source": [
    "data_arr = [train_copy,test_copy]"
   ]
  },
  {
   "cell_type": "code",
   "execution_count": 292,
   "metadata": {},
   "outputs": [
    {
     "data": {
      "text/html": [
       "<div>\n",
       "<style>\n",
       "    .dataframe thead tr:only-child th {\n",
       "        text-align: right;\n",
       "    }\n",
       "\n",
       "    .dataframe thead th {\n",
       "        text-align: left;\n",
       "    }\n",
       "\n",
       "    .dataframe tbody tr th {\n",
       "        vertical-align: top;\n",
       "    }\n",
       "</style>\n",
       "<table border=\"1\" class=\"dataframe\">\n",
       "  <thead>\n",
       "    <tr style=\"text-align: right;\">\n",
       "      <th></th>\n",
       "      <th>PassengerId</th>\n",
       "      <th>Survived</th>\n",
       "      <th>Pclass</th>\n",
       "      <th>Name</th>\n",
       "      <th>Sex</th>\n",
       "      <th>Age</th>\n",
       "      <th>SibSp</th>\n",
       "      <th>Parch</th>\n",
       "      <th>Ticket</th>\n",
       "      <th>Fare</th>\n",
       "      <th>Cabin</th>\n",
       "      <th>Embarked</th>\n",
       "    </tr>\n",
       "  </thead>\n",
       "  <tbody>\n",
       "    <tr>\n",
       "      <th>0</th>\n",
       "      <td>1</td>\n",
       "      <td>0</td>\n",
       "      <td>3</td>\n",
       "      <td>Braund, Mr. Owen Harris</td>\n",
       "      <td>male</td>\n",
       "      <td>22.0</td>\n",
       "      <td>1</td>\n",
       "      <td>0</td>\n",
       "      <td>A/5 21171</td>\n",
       "      <td>7.2500</td>\n",
       "      <td>NaN</td>\n",
       "      <td>S</td>\n",
       "    </tr>\n",
       "    <tr>\n",
       "      <th>1</th>\n",
       "      <td>2</td>\n",
       "      <td>1</td>\n",
       "      <td>1</td>\n",
       "      <td>Cumings, Mrs. John Bradley (Florence Briggs Th...</td>\n",
       "      <td>female</td>\n",
       "      <td>38.0</td>\n",
       "      <td>1</td>\n",
       "      <td>0</td>\n",
       "      <td>PC 17599</td>\n",
       "      <td>71.2833</td>\n",
       "      <td>C85</td>\n",
       "      <td>C</td>\n",
       "    </tr>\n",
       "    <tr>\n",
       "      <th>2</th>\n",
       "      <td>3</td>\n",
       "      <td>1</td>\n",
       "      <td>3</td>\n",
       "      <td>Heikkinen, Miss. Laina</td>\n",
       "      <td>female</td>\n",
       "      <td>26.0</td>\n",
       "      <td>0</td>\n",
       "      <td>0</td>\n",
       "      <td>STON/O2. 3101282</td>\n",
       "      <td>7.9250</td>\n",
       "      <td>NaN</td>\n",
       "      <td>S</td>\n",
       "    </tr>\n",
       "    <tr>\n",
       "      <th>3</th>\n",
       "      <td>4</td>\n",
       "      <td>1</td>\n",
       "      <td>1</td>\n",
       "      <td>Futrelle, Mrs. Jacques Heath (Lily May Peel)</td>\n",
       "      <td>female</td>\n",
       "      <td>35.0</td>\n",
       "      <td>1</td>\n",
       "      <td>0</td>\n",
       "      <td>113803</td>\n",
       "      <td>53.1000</td>\n",
       "      <td>C123</td>\n",
       "      <td>S</td>\n",
       "    </tr>\n",
       "    <tr>\n",
       "      <th>4</th>\n",
       "      <td>5</td>\n",
       "      <td>0</td>\n",
       "      <td>3</td>\n",
       "      <td>Allen, Mr. William Henry</td>\n",
       "      <td>male</td>\n",
       "      <td>35.0</td>\n",
       "      <td>0</td>\n",
       "      <td>0</td>\n",
       "      <td>373450</td>\n",
       "      <td>8.0500</td>\n",
       "      <td>NaN</td>\n",
       "      <td>S</td>\n",
       "    </tr>\n",
       "    <tr>\n",
       "      <th>5</th>\n",
       "      <td>6</td>\n",
       "      <td>0</td>\n",
       "      <td>3</td>\n",
       "      <td>Moran, Mr. James</td>\n",
       "      <td>male</td>\n",
       "      <td>NaN</td>\n",
       "      <td>0</td>\n",
       "      <td>0</td>\n",
       "      <td>330877</td>\n",
       "      <td>8.4583</td>\n",
       "      <td>NaN</td>\n",
       "      <td>Q</td>\n",
       "    </tr>\n",
       "  </tbody>\n",
       "</table>\n",
       "</div>"
      ],
      "text/plain": [
       "   PassengerId  Survived  Pclass  \\\n",
       "0            1         0       3   \n",
       "1            2         1       1   \n",
       "2            3         1       3   \n",
       "3            4         1       1   \n",
       "4            5         0       3   \n",
       "5            6         0       3   \n",
       "\n",
       "                                                Name     Sex   Age  SibSp  \\\n",
       "0                            Braund, Mr. Owen Harris    male  22.0      1   \n",
       "1  Cumings, Mrs. John Bradley (Florence Briggs Th...  female  38.0      1   \n",
       "2                             Heikkinen, Miss. Laina  female  26.0      0   \n",
       "3       Futrelle, Mrs. Jacques Heath (Lily May Peel)  female  35.0      1   \n",
       "4                           Allen, Mr. William Henry    male  35.0      0   \n",
       "5                                   Moran, Mr. James    male   NaN      0   \n",
       "\n",
       "   Parch            Ticket     Fare Cabin Embarked  \n",
       "0      0         A/5 21171   7.2500   NaN        S  \n",
       "1      0          PC 17599  71.2833   C85        C  \n",
       "2      0  STON/O2. 3101282   7.9250   NaN        S  \n",
       "3      0            113803  53.1000  C123        S  \n",
       "4      0            373450   8.0500   NaN        S  \n",
       "5      0            330877   8.4583   NaN        Q  "
      ]
     },
     "execution_count": 292,
     "metadata": {},
     "output_type": "execute_result"
    }
   ],
   "source": [
    "train_copy.head(6)"
   ]
  },
  {
   "cell_type": "code",
   "execution_count": 293,
   "metadata": {},
   "outputs": [
    {
     "data": {
      "text/html": [
       "<div>\n",
       "<style>\n",
       "    .dataframe thead tr:only-child th {\n",
       "        text-align: right;\n",
       "    }\n",
       "\n",
       "    .dataframe thead th {\n",
       "        text-align: left;\n",
       "    }\n",
       "\n",
       "    .dataframe tbody tr th {\n",
       "        vertical-align: top;\n",
       "    }\n",
       "</style>\n",
       "<table border=\"1\" class=\"dataframe\">\n",
       "  <thead>\n",
       "    <tr style=\"text-align: right;\">\n",
       "      <th></th>\n",
       "      <th>PassengerId</th>\n",
       "      <th>Pclass</th>\n",
       "      <th>Name</th>\n",
       "      <th>Sex</th>\n",
       "      <th>Age</th>\n",
       "      <th>SibSp</th>\n",
       "      <th>Parch</th>\n",
       "      <th>Ticket</th>\n",
       "      <th>Fare</th>\n",
       "      <th>Cabin</th>\n",
       "      <th>Embarked</th>\n",
       "    </tr>\n",
       "  </thead>\n",
       "  <tbody>\n",
       "    <tr>\n",
       "      <th>0</th>\n",
       "      <td>892</td>\n",
       "      <td>3</td>\n",
       "      <td>Kelly, Mr. James</td>\n",
       "      <td>male</td>\n",
       "      <td>34.5</td>\n",
       "      <td>0</td>\n",
       "      <td>0</td>\n",
       "      <td>330911</td>\n",
       "      <td>7.8292</td>\n",
       "      <td>NaN</td>\n",
       "      <td>Q</td>\n",
       "    </tr>\n",
       "    <tr>\n",
       "      <th>1</th>\n",
       "      <td>893</td>\n",
       "      <td>3</td>\n",
       "      <td>Wilkes, Mrs. James (Ellen Needs)</td>\n",
       "      <td>female</td>\n",
       "      <td>47.0</td>\n",
       "      <td>1</td>\n",
       "      <td>0</td>\n",
       "      <td>363272</td>\n",
       "      <td>7.0000</td>\n",
       "      <td>NaN</td>\n",
       "      <td>S</td>\n",
       "    </tr>\n",
       "    <tr>\n",
       "      <th>2</th>\n",
       "      <td>894</td>\n",
       "      <td>2</td>\n",
       "      <td>Myles, Mr. Thomas Francis</td>\n",
       "      <td>male</td>\n",
       "      <td>62.0</td>\n",
       "      <td>0</td>\n",
       "      <td>0</td>\n",
       "      <td>240276</td>\n",
       "      <td>9.6875</td>\n",
       "      <td>NaN</td>\n",
       "      <td>Q</td>\n",
       "    </tr>\n",
       "    <tr>\n",
       "      <th>3</th>\n",
       "      <td>895</td>\n",
       "      <td>3</td>\n",
       "      <td>Wirz, Mr. Albert</td>\n",
       "      <td>male</td>\n",
       "      <td>27.0</td>\n",
       "      <td>0</td>\n",
       "      <td>0</td>\n",
       "      <td>315154</td>\n",
       "      <td>8.6625</td>\n",
       "      <td>NaN</td>\n",
       "      <td>S</td>\n",
       "    </tr>\n",
       "    <tr>\n",
       "      <th>4</th>\n",
       "      <td>896</td>\n",
       "      <td>3</td>\n",
       "      <td>Hirvonen, Mrs. Alexander (Helga E Lindqvist)</td>\n",
       "      <td>female</td>\n",
       "      <td>22.0</td>\n",
       "      <td>1</td>\n",
       "      <td>1</td>\n",
       "      <td>3101298</td>\n",
       "      <td>12.2875</td>\n",
       "      <td>NaN</td>\n",
       "      <td>S</td>\n",
       "    </tr>\n",
       "    <tr>\n",
       "      <th>5</th>\n",
       "      <td>897</td>\n",
       "      <td>3</td>\n",
       "      <td>Svensson, Mr. Johan Cervin</td>\n",
       "      <td>male</td>\n",
       "      <td>14.0</td>\n",
       "      <td>0</td>\n",
       "      <td>0</td>\n",
       "      <td>7538</td>\n",
       "      <td>9.2250</td>\n",
       "      <td>NaN</td>\n",
       "      <td>S</td>\n",
       "    </tr>\n",
       "  </tbody>\n",
       "</table>\n",
       "</div>"
      ],
      "text/plain": [
       "   PassengerId  Pclass                                          Name     Sex  \\\n",
       "0          892       3                              Kelly, Mr. James    male   \n",
       "1          893       3              Wilkes, Mrs. James (Ellen Needs)  female   \n",
       "2          894       2                     Myles, Mr. Thomas Francis    male   \n",
       "3          895       3                              Wirz, Mr. Albert    male   \n",
       "4          896       3  Hirvonen, Mrs. Alexander (Helga E Lindqvist)  female   \n",
       "5          897       3                    Svensson, Mr. Johan Cervin    male   \n",
       "\n",
       "    Age  SibSp  Parch   Ticket     Fare Cabin Embarked  \n",
       "0  34.5      0      0   330911   7.8292   NaN        Q  \n",
       "1  47.0      1      0   363272   7.0000   NaN        S  \n",
       "2  62.0      0      0   240276   9.6875   NaN        Q  \n",
       "3  27.0      0      0   315154   8.6625   NaN        S  \n",
       "4  22.0      1      1  3101298  12.2875   NaN        S  \n",
       "5  14.0      0      0     7538   9.2250   NaN        S  "
      ]
     },
     "execution_count": 293,
     "metadata": {},
     "output_type": "execute_result"
    }
   ],
   "source": [
    "test_copy.head(6)"
   ]
  },
  {
   "cell_type": "code",
   "execution_count": 294,
   "metadata": {
    "collapsed": true
   },
   "outputs": [],
   "source": [
    "num_samples=train_copy.shape[0]\n",
    "num_attributes = train_copy.shape[1]"
   ]
  },
  {
   "cell_type": "code",
   "execution_count": 295,
   "metadata": {
    "scrolled": true
   },
   "outputs": [
    {
     "name": "stdout",
     "output_type": "stream",
     "text": [
      "The titanic dataset contains 891 observations\n",
      "The titanic dataset contains 12 attributes\n"
     ]
    }
   ],
   "source": [
    "print (\"The titanic dataset contains {} observations\".format(num_samples))\n",
    "print (\"The titanic dataset contains {} attributes\".format(num_attributes))"
   ]
  },
  {
   "cell_type": "code",
   "execution_count": 297,
   "metadata": {},
   "outputs": [
    {
     "name": "stdout",
     "output_type": "stream",
     "text": [
      "Training data\n",
      "PassengerId      0\n",
      "Survived         0\n",
      "Pclass           0\n",
      "Name             0\n",
      "Sex              0\n",
      "Age            177\n",
      "SibSp            0\n",
      "Parch            0\n",
      "Ticket           0\n",
      "Fare             0\n",
      "Cabin          687\n",
      "Embarked         2\n",
      "dtype: int64\n",
      "----------\n",
      "Testing data\n",
      "PassengerId      0\n",
      "Pclass           0\n",
      "Name             0\n",
      "Sex              0\n",
      "Age             86\n",
      "SibSp            0\n",
      "Parch            0\n",
      "Ticket           0\n",
      "Fare             1\n",
      "Cabin          327\n",
      "Embarked         0\n",
      "dtype: int64\n"
     ]
    }
   ],
   "source": [
    "#Explore the data\n",
    "print(\"Training data\")\n",
    "print (train_copy.isnull().sum())\n",
    "print(\"-\"*10)\n",
    "print(\"Testing data\")\n",
    "print(test_copy.isnull().sum())"
   ]
  },
  {
   "cell_type": "code",
   "execution_count": 298,
   "metadata": {
    "collapsed": true
   },
   "outputs": [],
   "source": [
    "# clean the data ~> get ride of NaN values\n",
    "for data in data_arr:\n",
    "    \n",
    "    data['Age'].fillna(data['Age'].median(),inplace=True)\n",
    "    data['Embarked'].fillna(data['Embarked'].mode()[0],inplace=True)\n",
    "    data['Fare'].fillna(data['Fare'].median(),inplace=True)\n"
   ]
  },
  {
   "cell_type": "code",
   "execution_count": 299,
   "metadata": {},
   "outputs": [],
   "source": [
    "#per the rules; we are supposed to drop cabin number from training set\n",
    "drop_columns = [\"PassengerId\",\"Cabin\",\"Ticket\"]\n",
    "train_copy.drop(drop_columns,axis = 1,inplace=True)\n",
    "test_copy.drop(drop_columns,axis=1,inplace=True)"
   ]
  },
  {
   "cell_type": "code",
   "execution_count": 300,
   "metadata": {},
   "outputs": [
    {
     "name": "stdout",
     "output_type": "stream",
     "text": [
      "Training data\n",
      "Survived    0\n",
      "Pclass      0\n",
      "Name        0\n",
      "Sex         0\n",
      "Age         0\n",
      "SibSp       0\n",
      "Parch       0\n",
      "Fare        0\n",
      "Embarked    0\n",
      "dtype: int64\n",
      "----------\n",
      "Testing data\n",
      "Pclass      0\n",
      "Name        0\n",
      "Sex         0\n",
      "Age         0\n",
      "SibSp       0\n",
      "Parch       0\n",
      "Fare        0\n",
      "Embarked    0\n",
      "dtype: int64\n"
     ]
    }
   ],
   "source": [
    "#double check the cleaning went as planned\n",
    "print(\"Training data\")\n",
    "print (train_copy.isnull().sum())\n",
    "print(\"-\"*10)\n",
    "print(\"Testing data\")\n",
    "print(test_copy.isnull().sum())"
   ]
  },
  {
   "cell_type": "code",
   "execution_count": 301,
   "metadata": {},
   "outputs": [
    {
     "name": "stdout",
     "output_type": "stream",
     "text": [
      "(891, 9)\n",
      "(418, 8)\n"
     ]
    }
   ],
   "source": [
    "#train_copy still has the 'survived' column\n",
    "print(train_copy.shape)\n",
    "print(test_copy.shape)"
   ]
  },
  {
   "cell_type": "code",
   "execution_count": 302,
   "metadata": {},
   "outputs": [
    {
     "name": "stdout",
     "output_type": "stream",
     "text": [
      "Training data information\n",
      "<class 'pandas.core.frame.DataFrame'>\n",
      "RangeIndex: 891 entries, 0 to 890\n",
      "Data columns (total 9 columns):\n",
      "Survived    891 non-null int64\n",
      "Pclass      891 non-null int64\n",
      "Name        891 non-null object\n",
      "Sex         891 non-null object\n",
      "Age         891 non-null float64\n",
      "SibSp       891 non-null int64\n",
      "Parch       891 non-null int64\n",
      "Fare        891 non-null float64\n",
      "Embarked    891 non-null object\n",
      "dtypes: float64(2), int64(4), object(3)\n",
      "memory usage: 62.7+ KB\n",
      "----------\n",
      "Testing data information\n",
      "<class 'pandas.core.frame.DataFrame'>\n",
      "RangeIndex: 418 entries, 0 to 417\n",
      "Data columns (total 8 columns):\n",
      "Pclass      418 non-null int64\n",
      "Name        418 non-null object\n",
      "Sex         418 non-null object\n",
      "Age         418 non-null float64\n",
      "SibSp       418 non-null int64\n",
      "Parch       418 non-null int64\n",
      "Fare        418 non-null float64\n",
      "Embarked    418 non-null object\n",
      "dtypes: float64(2), int64(3), object(3)\n",
      "memory usage: 26.2+ KB\n"
     ]
    }
   ],
   "source": [
    "#We will have to perform feature mapping on the 'object' type columns\n",
    "print(\"Training data information\")\n",
    "train_copy.info()\n",
    "print(\"-\"*10)\n",
    "print(\"Testing data information\")\n",
    "test_copy.info()"
   ]
  },
  {
   "cell_type": "code",
   "execution_count": 303,
   "metadata": {},
   "outputs": [
    {
     "name": "stderr",
     "output_type": "stream",
     "text": [
      "/anaconda3/lib/python3.6/site-packages/pandas/core/indexing.py:179: SettingWithCopyWarning: \n",
      "A value is trying to be set on a copy of a slice from a DataFrame\n",
      "\n",
      "See the caveats in the documentation: http://pandas.pydata.org/pandas-docs/stable/indexing.html#indexing-view-versus-copy\n",
      "  self._setitem_with_indexer(indexer, value)\n"
     ]
    }
   ],
   "source": [
    "#feature engineering\n",
    "for d in data_arr:\n",
    "    \n",
    "    #family size\n",
    "    d['FamilySize'] = d['SibSp'] + d['Parch'] + 1\n",
    "    d['IsAlone'] = 1\n",
    "    \n",
    "    d['IsAlone'].loc[d['FamilySize'] > 1] = 0\n",
    "    \n",
    "    #title\n",
    "    d[\"Title\"] = d['Name'].str.split(\",\",expand=True)[1].str.split('.',expand=True)[0]"
   ]
  },
  {
   "cell_type": "code",
   "execution_count": 305,
   "metadata": {},
   "outputs": [
    {
     "name": "stdout",
     "output_type": "stream",
     "text": [
      "Training data information\n",
      " Mr              517\n",
      " Miss            182\n",
      " Mrs             125\n",
      " Master           40\n",
      " Dr                7\n",
      " Rev               6\n",
      " Col               2\n",
      " Major             2\n",
      " Mlle              2\n",
      " Lady              1\n",
      " Capt              1\n",
      " Mme               1\n",
      " Don               1\n",
      " Ms                1\n",
      " the Countess      1\n",
      " Jonkheer          1\n",
      " Sir               1\n",
      "Name: Title, dtype: int64\n"
     ]
    }
   ],
   "source": [
    "#double check the cleaning went as planned\n",
    "print(\"Training data information\")\n",
    "print(train_copy[\"Title\"].value_counts())"
   ]
  },
  {
   "cell_type": "code",
   "execution_count": 306,
   "metadata": {},
   "outputs": [
    {
     "name": "stdout",
     "output_type": "stream",
     "text": [
      " Mr               True\n",
      " Miss             True\n",
      " Mrs              True\n",
      " Master           True\n",
      " Dr              False\n",
      " Rev             False\n",
      " Col             False\n",
      " Major           False\n",
      " Mlle            False\n",
      " Lady            False\n",
      " Capt            False\n",
      " Mme             False\n",
      " Don             False\n",
      " Ms              False\n",
      " the Countess    False\n",
      " Jonkheer        False\n",
      " Sir             False\n",
      "Name: Title, dtype: bool\n"
     ]
    }
   ],
   "source": [
    "#eliminate misc titles\n",
    "min_occurences = 10\n",
    "#creates a series indexed by title\n",
    "title_names  = (train_copy['Title'].value_counts() > min_occurences)\n",
    "print(title_names)"
   ]
  },
  {
   "cell_type": "code",
   "execution_count": 307,
   "metadata": {},
   "outputs": [],
   "source": [
    "train_copy['Title'] = train_copy[\"Title\"].apply(lambda x: x if title_names.loc[x] == True else 'Misc')"
   ]
  },
  {
   "cell_type": "code",
   "execution_count": 308,
   "metadata": {},
   "outputs": [
    {
     "name": "stdout",
     "output_type": "stream",
     "text": [
      "Here are the relevant titles...\n",
      " Mr        517\n",
      " Miss      182\n",
      " Mrs       125\n",
      " Master     40\n",
      "Misc        27\n",
      "Name: Title, dtype: int64\n"
     ]
    }
   ],
   "source": [
    "print(\"Here are the relevant titles...\")\n",
    "print(train_copy[\"Title\"].value_counts())"
   ]
  },
  {
   "cell_type": "code",
   "execution_count": 309,
   "metadata": {},
   "outputs": [
    {
     "name": "stdout",
     "output_type": "stream",
     "text": [
      "Let's double check the data one more time...\n",
      "This is the trainning data...\n",
      "<class 'pandas.core.frame.DataFrame'>\n",
      "RangeIndex: 891 entries, 0 to 890\n",
      "Data columns (total 12 columns):\n",
      "Survived      891 non-null int64\n",
      "Pclass        891 non-null int64\n",
      "Name          891 non-null object\n",
      "Sex           891 non-null object\n",
      "Age           891 non-null float64\n",
      "SibSp         891 non-null int64\n",
      "Parch         891 non-null int64\n",
      "Fare          891 non-null float64\n",
      "Embarked      891 non-null object\n",
      "FamilySize    891 non-null int64\n",
      "IsAlone       891 non-null int64\n",
      "Title         891 non-null object\n",
      "dtypes: float64(2), int64(6), object(4)\n",
      "memory usage: 83.6+ KB\n",
      "----------\n",
      "This is the testing data...\n",
      "<class 'pandas.core.frame.DataFrame'>\n",
      "RangeIndex: 418 entries, 0 to 417\n",
      "Data columns (total 11 columns):\n",
      "Pclass        418 non-null int64\n",
      "Name          418 non-null object\n",
      "Sex           418 non-null object\n",
      "Age           418 non-null float64\n",
      "SibSp         418 non-null int64\n",
      "Parch         418 non-null int64\n",
      "Fare          418 non-null float64\n",
      "Embarked      418 non-null object\n",
      "FamilySize    418 non-null int64\n",
      "IsAlone       418 non-null int64\n",
      "Title         418 non-null object\n",
      "dtypes: float64(2), int64(5), object(4)\n",
      "memory usage: 36.0+ KB\n"
     ]
    }
   ],
   "source": [
    "print(\"Let's double check the data one more time...\")\n",
    "print(\"This is the trainning data...\")\n",
    "train_copy.info()\n",
    "print(\"-\"*10)\n",
    "print(\"This is the testing data...\")\n",
    "test_copy.info()"
   ]
  },
  {
   "cell_type": "code",
   "execution_count": 310,
   "metadata": {},
   "outputs": [
    {
     "name": "stdout",
     "output_type": "stream",
     "text": [
      "(891, 12)\n",
      "(418, 11)\n"
     ]
    }
   ],
   "source": [
    "print(train_copy.shape)\n",
    "print(test_copy.shape)"
   ]
  },
  {
   "cell_type": "code",
   "execution_count": 311,
   "metadata": {
    "collapsed": true
   },
   "outputs": [],
   "source": [
    "#convert formats\n",
    "#age\n",
    "#title\n",
    "#embarked\n",
    "label = LabelEncoder()"
   ]
  },
  {
   "cell_type": "code",
   "execution_count": 312,
   "metadata": {},
   "outputs": [],
   "source": [
    "for d in data_arr:\n",
    "    d[\"Title\"] = label.fit_transform(d['Title'])\n",
    "    d[\"Embarked\"] = label.fit_transform(d['Embarked'])\n",
    "    d[\"Age\"] = label.fit_transform(d['Age'])\n",
    "    d[\"Name\"] = label.fit_transform(d[\"Name\"])\n",
    "    d[\"Sex\"] = label.fit_transform(d[\"Sex\"])"
   ]
  },
  {
   "cell_type": "code",
   "execution_count": 313,
   "metadata": {},
   "outputs": [
    {
     "name": "stdout",
     "output_type": "stream",
     "text": [
      "After some feature mapping...\n",
      "This is the trainning data...\n",
      "<class 'pandas.core.frame.DataFrame'>\n",
      "RangeIndex: 891 entries, 0 to 890\n",
      "Data columns (total 12 columns):\n",
      "Survived      891 non-null int64\n",
      "Pclass        891 non-null int64\n",
      "Name          891 non-null int64\n",
      "Sex           891 non-null int64\n",
      "Age           891 non-null int64\n",
      "SibSp         891 non-null int64\n",
      "Parch         891 non-null int64\n",
      "Fare          891 non-null float64\n",
      "Embarked      891 non-null int64\n",
      "FamilySize    891 non-null int64\n",
      "IsAlone       891 non-null int64\n",
      "Title         891 non-null int64\n",
      "dtypes: float64(1), int64(11)\n",
      "memory usage: 83.6 KB\n",
      "----------\n",
      "This is the testing data...\n",
      "<class 'pandas.core.frame.DataFrame'>\n",
      "RangeIndex: 418 entries, 0 to 417\n",
      "Data columns (total 11 columns):\n",
      "Pclass        418 non-null int64\n",
      "Name          418 non-null int64\n",
      "Sex           418 non-null int64\n",
      "Age           418 non-null int64\n",
      "SibSp         418 non-null int64\n",
      "Parch         418 non-null int64\n",
      "Fare          418 non-null float64\n",
      "Embarked      418 non-null int64\n",
      "FamilySize    418 non-null int64\n",
      "IsAlone       418 non-null int64\n",
      "Title         418 non-null int64\n",
      "dtypes: float64(1), int64(10)\n",
      "memory usage: 36.0 KB\n"
     ]
    }
   ],
   "source": [
    "print(\"After some feature mapping...\")\n",
    "print(\"This is the trainning data...\")\n",
    "train_copy.info()\n",
    "print(\"-\"*10)\n",
    "print(\"This is the testing data...\")\n",
    "test_copy.info()"
   ]
  },
  {
   "cell_type": "code",
   "execution_count": 314,
   "metadata": {},
   "outputs": [
    {
     "data": {
      "text/plain": [
       "Survived      0\n",
       "Pclass        0\n",
       "Name          0\n",
       "Sex           0\n",
       "Age           0\n",
       "SibSp         0\n",
       "Parch         0\n",
       "Fare          0\n",
       "Embarked      0\n",
       "FamilySize    0\n",
       "IsAlone       0\n",
       "Title         0\n",
       "dtype: int64"
      ]
     },
     "execution_count": 314,
     "metadata": {},
     "output_type": "execute_result"
    }
   ],
   "source": [
    "train_copy.isnull().sum()"
   ]
  },
  {
   "cell_type": "code",
   "execution_count": 315,
   "metadata": {},
   "outputs": [
    {
     "data": {
      "text/plain": [
       "Pclass        0\n",
       "Name          0\n",
       "Sex           0\n",
       "Age           0\n",
       "SibSp         0\n",
       "Parch         0\n",
       "Fare          0\n",
       "Embarked      0\n",
       "FamilySize    0\n",
       "IsAlone       0\n",
       "Title         0\n",
       "dtype: int64"
      ]
     },
     "execution_count": 315,
     "metadata": {},
     "output_type": "execute_result"
    }
   ],
   "source": [
    "test_copy.isnull().sum()"
   ]
  },
  {
   "cell_type": "code",
   "execution_count": 316,
   "metadata": {},
   "outputs": [
    {
     "name": "stdout",
     "output_type": "stream",
     "text": [
      "Training data shape: (891, 12)\n",
      "Testing date shape: (418, 11)\n"
     ]
    }
   ],
   "source": [
    "print (\"Training data shape: {}\".format(train_copy.shape))\n",
    "print (\"Testing date shape: {}\".format(test_copy.shape))"
   ]
  },
  {
   "cell_type": "code",
   "execution_count": 317,
   "metadata": {},
   "outputs": [],
   "source": [
    "Y_train  = train_copy['Survived']\n",
    "train_copy.drop(['Survived'],axis=1,inplace=True)"
   ]
  },
  {
   "cell_type": "code",
   "execution_count": 318,
   "metadata": {},
   "outputs": [
    {
     "name": "stdout",
     "output_type": "stream",
     "text": [
      "After dropping the 'Survived' column ...\n",
      "(891, 11)\n",
      "(418, 11)\n"
     ]
    }
   ],
   "source": [
    "print (\"After dropping the 'Survived' column ...\")\n",
    "print(train_copy.shape)\n",
    "print(test_copy.shape)"
   ]
  },
  {
   "cell_type": "code",
   "execution_count": 319,
   "metadata": {
    "collapsed": true
   },
   "outputs": [],
   "source": [
    "X_train = train_copy.copy(deep = True)"
   ]
  },
  {
   "cell_type": "code",
   "execution_count": 340,
   "metadata": {
    "collapsed": true
   },
   "outputs": [],
   "source": [
    "#convert to numpy.ndarrays\n",
    "X_train = X_train.values\n",
    "Y_train = Y_train.values"
   ]
  },
  {
   "cell_type": "code",
   "execution_count": 341,
   "metadata": {
    "collapsed": true
   },
   "outputs": [],
   "source": [
    "acc_train_logreg = []"
   ]
  },
  {
   "cell_type": "code",
   "execution_count": 342,
   "metadata": {
    "collapsed": true
   },
   "outputs": [],
   "source": [
    "acc_test_logreg = []"
   ]
  },
  {
   "cell_type": "code",
   "execution_count": 343,
   "metadata": {
    "collapsed": true
   },
   "outputs": [],
   "source": [
    "c_logreg = [0.1,1,10,100,1000]"
   ]
  },
  {
   "cell_type": "code",
   "execution_count": 344,
   "metadata": {
    "collapsed": true
   },
   "outputs": [],
   "source": [
    "def logreg_model(c, X_train, Y_train,penalty):\n",
    "    '''\n",
    "        Author: Kyle Ong\n",
    "        Date: 05/13/2018\n",
    "        \n",
    "        fits a sklearn.linear_model.LogisticRegression(penalty = penalty, C=c, solver='saga')\n",
    "        to X_train and Y_train\n",
    "        \n",
    "        c: type: float\n",
    "        penalty: type: string\n",
    "        X_train: type: numpy.ndarray\n",
    "        Y_train: type: numpy.ndarray\n",
    "    \n",
    "    '''\n",
    "    logreg = linear_model.LogisticRegression(penalty=penalty, C=c ,solver='saga')\n",
    "    \n",
    "    with warnings.catch_warnings():\n",
    "        \n",
    "        warnings.filterwarnings('ignore',category=ConvergenceWarning)\n",
    "        \n",
    "        try:\n",
    "            logreg.fit(X_train,Y_train)\n",
    "            \n",
    "            y_hat = logreg.predict(X_train)\n",
    "            acc_train = np.mean(Y_train == y_hat)\n",
    "            print(\"This is the trainning accuracy with {} loss and {} c_val: {}\".format(penalty,c, acc_train))\n",
    "            \n",
    "        except Warning as w:\n",
    "            print(w)"
   ]
  },
  {
   "cell_type": "code",
   "execution_count": 345,
   "metadata": {},
   "outputs": [
    {
     "name": "stdout",
     "output_type": "stream",
     "text": [
      "This is the trainning accuracy with L1 loss and 100 c_val: 0.6734006734006734\n"
     ]
    }
   ],
   "source": [
    "logreg_model(100,X_train,Y_train,\"L1\")"
   ]
  },
  {
   "cell_type": "code",
   "execution_count": 346,
   "metadata": {
    "collapsed": true
   },
   "outputs": [],
   "source": [
    "def train_logistic_model_with(X_train,Y_train,params):\n",
    "    '''\n",
    "            Author: Kyle Ong\n",
    "            Date: 05/12/2018\n",
    "            \n",
    "            will train sklearn.linear_model.LogisticRegression(penalty = penalty, C=c_val,solver='saga) over params\n",
    "            \n",
    "            X_train: type: numpy.ndarray\n",
    "            Y_train: type: numpy.ndarray\n",
    "            params: type: dict: {penalty:[c_vals]}\n",
    "    '''\n",
    "    for k,v in params.items():\n",
    "        \n",
    "        penalty = k\n",
    "        acc_train_array = []\n",
    "\n",
    "        for c_val in v:\n",
    "            #this is baest coding skills\n",
    "            log_model = 1\n",
    "            if penalty.lower() == \"l1\" :\n",
    "                log_model = linear_model.LogisticRegression(penalty=penalty, C=c_val,solver='saga')\n",
    "            \n",
    "            elif penalty.lower() == 'l2':\n",
    "                log_model = linear_model.LogisticRegression( C=c_val)\n",
    "                \n",
    "            with warnings.catch_warnings():\n",
    "                \n",
    "                warnings.filterwarnings('ignore', category=ConvergenceWarning)\n",
    "                \n",
    "                try:\n",
    "                     #fit the model\n",
    "                    log_model.fit(X_train,Y_train)  \n",
    "                    #train the model\n",
    "                    Y_hat = log_model.predict(X_train)\n",
    "            \n",
    "                    train_acc = np.mean(Y_hat == Y_train)\n",
    "            \n",
    "                    acc_train_array.append(train_acc)\n",
    "                    print(\"Accuracy with {} loss and c_val {} : {}\".format(penalty,c_val,train_acc))\n",
    "                \n",
    "                except Warning as w:\n",
    "                    print (w)\n",
    "            \n",
    "\n",
    "      \n",
    "        "
   ]
  },
  {
   "cell_type": "code",
   "execution_count": 347,
   "metadata": {
    "collapsed": true
   },
   "outputs": [],
   "source": [
    "params = {\n",
    "    \"L1\":[0.1,1,10,100],\n",
    "    \"L2\":[0.1,1,10,100]\n",
    "         }"
   ]
  },
  {
   "cell_type": "code",
   "execution_count": 348,
   "metadata": {},
   "outputs": [
    {
     "name": "stdout",
     "output_type": "stream",
     "text": [
      "Accuracy with L1 loss and c_val 0.1 : 0.6734006734006734\n",
      "Accuracy with L1 loss and c_val 1 : 0.6734006734006734\n",
      "Accuracy with L1 loss and c_val 10 : 0.6734006734006734\n",
      "Accuracy with L1 loss and c_val 100 : 0.6734006734006734\n",
      "Accuracy with L2 loss and c_val 0.1 : 0.7968574635241302\n",
      "Accuracy with L2 loss and c_val 1 : 0.8069584736251403\n",
      "Accuracy with L2 loss and c_val 10 : 0.8069584736251403\n",
      "Accuracy with L2 loss and c_val 100 : 0.8058361391694725\n"
     ]
    }
   ],
   "source": [
    "train_logistic_model_with(X_train,Y_train,params)"
   ]
  },
  {
   "cell_type": "code",
   "execution_count": 349,
   "metadata": {
    "collapsed": true
   },
   "outputs": [],
   "source": [
    "# apply feature transformations!\n",
    "from sklearn.preprocessing import PolynomialFeatures"
   ]
  },
  {
   "cell_type": "code",
   "execution_count": 350,
   "metadata": {
    "collapsed": true
   },
   "outputs": [],
   "source": [
    "poly = PolynomialFeatures(2)"
   ]
  },
  {
   "cell_type": "code",
   "execution_count": 351,
   "metadata": {
    "collapsed": true
   },
   "outputs": [],
   "source": [
    "X_train_transformed = poly.fit_transform(X_train)\n",
    "labels = X_train_transformed.shape[1]\n",
    "observations = X_train_transformed.shape[0]"
   ]
  },
  {
   "cell_type": "code",
   "execution_count": 352,
   "metadata": {},
   "outputs": [
    {
     "name": "stdout",
     "output_type": "stream",
     "text": [
      "The transformed titanic dataset has 891 observations.\n",
      "The titanic dataset has 78 labels\n"
     ]
    }
   ],
   "source": [
    "print (\"The transformed titanic dataset has {} observations.\".format(observations))\n",
    "print(\"The titanic dataset has {} labels\".format(labels))"
   ]
  },
  {
   "cell_type": "code",
   "execution_count": 353,
   "metadata": {
    "scrolled": true
   },
   "outputs": [
    {
     "name": "stdout",
     "output_type": "stream",
     "text": [
      "Accuracy with L1 loss and c_val 0.1 : 0.6745230078563412\n",
      "Accuracy with L1 loss and c_val 1 : 0.6734006734006734\n",
      "Accuracy with L1 loss and c_val 10 : 0.6745230078563412\n",
      "Accuracy with L1 loss and c_val 100 : 0.6734006734006734\n",
      "Accuracy with L2 loss and c_val 0.1 : 0.8237934904601572\n",
      "Accuracy with L2 loss and c_val 1 : 0.8282828282828283\n",
      "Accuracy with L2 loss and c_val 10 : 0.8271604938271605\n",
      "Accuracy with L2 loss and c_val 100 : 0.8237934904601572\n"
     ]
    }
   ],
   "source": [
    "train_logistic_model_with(X_train_transformed,Y_train,params)"
   ]
  },
  {
   "cell_type": "code",
   "execution_count": 354,
   "metadata": {},
   "outputs": [],
   "source": [
    "#split the trainning set into test and training set\n",
    "split = math.floor(num_samples*0.5)\n",
    "\n",
    "X_train_split = X_train[0 : split, :]\n",
    "X_test_split = X_train[split: , :  ]\n",
    "Y_train_split = Y_train[0:split]\n",
    "Y_test_split = Y_train[split: ]"
   ]
  },
  {
   "cell_type": "code",
   "execution_count": 355,
   "metadata": {},
   "outputs": [
    {
     "name": "stdout",
     "output_type": "stream",
     "text": [
      "Training observations has shape: (445, 11)\n",
      "Training targets has shape: (445,)\n",
      "Testing observations has shape: (446, 11)\n"
     ]
    }
   ],
   "source": [
    "print(\"Training observations has shape: {}\".format(X_train_split.shape))\n",
    "print(\"Training targets has shape: {}\".format(Y_train_split.shape))\n",
    "print(\"Testing observations has shape: {}\".format(X_test_split.shape))"
   ]
  },
  {
   "cell_type": "code",
   "execution_count": 356,
   "metadata": {
    "collapsed": true
   },
   "outputs": [],
   "source": [
    "def test_logistic_model_with(X_train,Y_train,X_test,Y_test,params):\n",
    "    '''\n",
    "            Author: Kyle Ong\n",
    "            Date 05/13/2018\n",
    "            \n",
    "            trains and tests linear_model.LogisticRegression()\n",
    "            \n",
    "            X_train:type: numpy.ndarray\n",
    "            Y_train: type: numpy.ndarray\n",
    "            X_test: type: numpy.ndarray\n",
    "            Y_test: type: numpy.ndarray\n",
    "            params: type: dict {penalty : [c_val]}\n",
    "    '''\n",
    "    for k,v in params.items():\n",
    "        \n",
    "        penalty = k\n",
    "        acc_train_array = []\n",
    "        acc_test_arr = []\n",
    "\n",
    "        for c_val in v:\n",
    "            #this is baest coding skills\n",
    "            log_model = 1\n",
    "            if penalty.lower() == \"l1\" :\n",
    "                log_model = linear_model.LogisticRegression(penalty=penalty, C=c_val,solver='saga')\n",
    "            \n",
    "            elif penalty.lower() == 'l2':\n",
    "                log_model = linear_model.LogisticRegression( C=c_val)\n",
    "               \n",
    "            #uncoment context manager in order to get the convergence warning!\n",
    "            with warnings.catch_warnings():\n",
    "                warnings.filterwarnings('ignore', category=ConvergenceWarning)\n",
    "                try:\n",
    "                     #fit the model\n",
    "                    log_model.fit(X_train,Y_train)  \n",
    "                \n",
    "                    #train the model\n",
    "                    Y_hat = log_model.predict(X_train)\n",
    "                    train_acc = np.mean(Y_hat == Y_train)\n",
    "                    acc_train_array.append(train_acc)\n",
    "                    print(\"Training() ~> Accuracy with {} loss and c_val {} : \\n{}\".format(penalty,c_val,train_acc))\n",
    "                \n",
    "                    #test the model\n",
    "                    Y_hat_test = log_model.predict(X_test)\n",
    "                    acc_test =np.mean(Y_test == Y_hat_test)\n",
    "                    acc_test_arr.append(acc_test)\n",
    "                    print(\"Testing ~> Accuracy with {} loss and c_val {}: \\n{}\".format(penalty,c_val,acc_test))\n",
    "                    \n",
    "                \n",
    "                except Warning as w:\n",
    "                    print(w)\n",
    "                    \n",
    "        plt.plot(v,acc_test_arr)\n",
    "        plt.xlabel('C values')\n",
    "        plt.ylabel('Test accuracy')\n",
    "                \n"
   ]
  },
  {
   "cell_type": "code",
   "execution_count": 357,
   "metadata": {
    "scrolled": false
   },
   "outputs": [
    {
     "name": "stdout",
     "output_type": "stream",
     "text": [
      "Training() ~> Accuracy with L1 loss and c_val 0.1 : \n",
      "0.6629213483146067\n",
      "Testing ~> Accuracy with L1 loss and c_val 0.1: \n",
      "0.6748878923766816\n",
      "Training() ~> Accuracy with L1 loss and c_val 1 : \n",
      "0.6629213483146067\n",
      "Testing ~> Accuracy with L1 loss and c_val 1: \n",
      "0.6748878923766816\n",
      "Training() ~> Accuracy with L1 loss and c_val 10 : \n",
      "0.6629213483146067\n",
      "Testing ~> Accuracy with L1 loss and c_val 10: \n",
      "0.6748878923766816\n",
      "Training() ~> Accuracy with L1 loss and c_val 100 : \n",
      "0.6629213483146067\n",
      "Testing ~> Accuracy with L1 loss and c_val 100: \n",
      "0.6748878923766816\n",
      "Training() ~> Accuracy with L2 loss and c_val 0.1 : \n",
      "0.8044943820224719\n",
      "Testing ~> Accuracy with L2 loss and c_val 0.1: \n",
      "0.7825112107623319\n",
      "Training() ~> Accuracy with L2 loss and c_val 1 : \n",
      "0.8089887640449438\n",
      "Testing ~> Accuracy with L2 loss and c_val 1: \n",
      "0.7802690582959642\n",
      "Training() ~> Accuracy with L2 loss and c_val 10 : \n",
      "0.8157303370786517\n",
      "Testing ~> Accuracy with L2 loss and c_val 10: \n",
      "0.7869955156950673\n",
      "Training() ~> Accuracy with L2 loss and c_val 100 : \n",
      "0.8157303370786517\n",
      "Testing ~> Accuracy with L2 loss and c_val 100: \n",
      "0.7914798206278026\n"
     ]
    },
    {
     "data": {
      "image/png": "[encoded data removed]",
      "text/plain": [
       "<matplotlib.figure.Figure at 0x1147bb588>"
      ]
     },
     "metadata": {},
     "output_type": "display_data"
    }
   ],
   "source": [
    "test_logistic_model_with(X_train_split,Y_train_split,X_test_split,Y_test_split,params)"
   ]
  },
  {
   "cell_type": "code",
   "execution_count": 358,
   "metadata": {},
   "outputs": [],
   "source": [
    "X_train_split_transformed = poly.fit_transform(X_train_split)\n",
    "X_test_split_transformed = poly.fit_transform(X_test_split)"
   ]
  },
  {
   "cell_type": "code",
   "execution_count": 359,
   "metadata": {},
   "outputs": [
    {
     "name": "stdout",
     "output_type": "stream",
     "text": [
      "(445, 78)\n"
     ]
    }
   ],
   "source": [
    "print(X_train_split_transformed.shape)"
   ]
  },
  {
   "cell_type": "code",
   "execution_count": 360,
   "metadata": {},
   "outputs": [
    {
     "name": "stdout",
     "output_type": "stream",
     "text": [
      "Accuracy with L1 loss and c_val 0.1 : 0.6539325842696629\n",
      "Accuracy with L1 loss and c_val 1 : 0.651685393258427\n",
      "Accuracy with L1 loss and c_val 10 : 0.6539325842696629\n",
      "Accuracy with L1 loss and c_val 100 : 0.6539325842696629\n",
      "Accuracy with L2 loss and c_val 0.1 : 0.8359550561797753\n",
      "Accuracy with L2 loss and c_val 1 : 0.8359550561797753\n",
      "Accuracy with L2 loss and c_val 10 : 0.8359550561797753\n",
      "Accuracy with L2 loss and c_val 100 : 0.8314606741573034\n"
     ]
    }
   ],
   "source": [
    "train_logistic_model_with(X_train_split_transformed,Y_train_split,params)"
   ]
  },
  {
   "cell_type": "code",
   "execution_count": 361,
   "metadata": {},
   "outputs": [
    {
     "name": "stdout",
     "output_type": "stream",
     "text": [
      "Training() ~> Accuracy with L1 loss and c_val 0.1 : \n",
      "0.6539325842696629\n",
      "Testing ~> Accuracy with L1 loss and c_val 0.1: \n",
      "0.6636771300448431\n",
      "Training() ~> Accuracy with L1 loss and c_val 1 : \n",
      "0.6539325842696629\n",
      "Testing ~> Accuracy with L1 loss and c_val 1: \n",
      "0.6636771300448431\n",
      "Training() ~> Accuracy with L1 loss and c_val 10 : \n",
      "0.6539325842696629\n",
      "Testing ~> Accuracy with L1 loss and c_val 10: \n",
      "0.6636771300448431\n",
      "Training() ~> Accuracy with L1 loss and c_val 100 : \n",
      "0.6539325842696629\n",
      "Testing ~> Accuracy with L1 loss and c_val 100: \n",
      "0.6636771300448431\n",
      "Training() ~> Accuracy with L2 loss and c_val 0.1 : \n",
      "0.8292134831460675\n",
      "Testing ~> Accuracy with L2 loss and c_val 0.1: \n",
      "0.7892376681614349\n",
      "Training() ~> Accuracy with L2 loss and c_val 1 : \n",
      "0.8269662921348314\n",
      "Testing ~> Accuracy with L2 loss and c_val 1: \n",
      "0.7892376681614349\n",
      "Training() ~> Accuracy with L2 loss and c_val 10 : \n",
      "0.8359550561797753\n",
      "Testing ~> Accuracy with L2 loss and c_val 10: \n",
      "0.7959641255605381\n",
      "Training() ~> Accuracy with L2 loss and c_val 100 : \n",
      "0.8337078651685393\n",
      "Testing ~> Accuracy with L2 loss and c_val 100: \n",
      "0.7937219730941704\n"
     ]
    },
    {
     "data": {
      "image/png": "[encoded data removed]",
      "text/plain": [
       "<matplotlib.figure.Figure at 0x1147042e8>"
      ]
     },
     "metadata": {},
     "output_type": "display_data"
    }
   ],
   "source": [
    "test_logistic_model_with(X_train_split_transformed,Y_train_split,X_test_split_transformed,Y_test_split,params)"
   ]
  },
  {
   "cell_type": "code",
   "execution_count": 362,
   "metadata": {
    "collapsed": true
   },
   "outputs": [],
   "source": [
    "# let's try support vector machines!\n",
    "from sklearn import svm"
   ]
  },
  {
   "cell_type": "code",
   "execution_count": 363,
   "metadata": {
    "collapsed": true
   },
   "outputs": [],
   "source": [
    "def svm_linear(c,X_train,Y_train,X_test,Y_test):\n",
    "    '''\n",
    "            Author: Kyle Ong\n",
    "            Date: 05/13/2018\n",
    "            \n",
    "            fits a svm.SVC(probability = False, kernel = 'linear', C = c) to X_train and Y_train\n",
    "            calculates the training and test accuracies \n",
    "            \n",
    "            c: type: int\n",
    "            X_train: numpy.ndarray\n",
    "            Y_train: numpy.ndarray\n",
    "            X_test: numpy.ndarray\n",
    "            Y_test: numpy.ndarray\n",
    "            \n",
    "            will ignore convergence warnings thrown by sklearn\n",
    "    \n",
    "    '''\n",
    "    \n",
    "    linear = svm.SVC(probability=False, kernel='linear',C=c)\n",
    "    \n",
    "    with warnings.catch_warnings():\n",
    "        warnings.filterwarnings('ignore', category=ConvergenceWarning)\n",
    "        \n",
    "        try:\n",
    "\n",
    "            linear.fit(X_train,Y_train)\n",
    "            \n",
    "            Y_hat_train = linear.predict(X_train)\n",
    "            train_acc =np.mean(Y_hat_train == Y_train)\n",
    "            print(\"Training ~> This is the training accuracy with Linear kernel and c_val {}: {}\".format(c,train_acc))\n",
    "            \n",
    "            \n",
    "            Y_hat_test = linear.predict(X_test)\n",
    "            test_acc = np.mean(Y_hat_test == Y_test)\n",
    "            linear_test_acc.append(test_acc)\n",
    "            print(\"Testing ~> This is the testing accuracy with Linear kernel and c_val {}:  {}\".format(c,test_acc))\n",
    "        \n",
    "        except Warning as w:\n",
    "            print(w)\n",
    "            \n",
    "            "
   ]
  },
  {
   "cell_type": "code",
   "execution_count": 364,
   "metadata": {
    "collapsed": true
   },
   "outputs": [],
   "source": [
    "c_vals = [0.1,1,10,100]"
   ]
  },
  {
   "cell_type": "code",
   "execution_count": 365,
   "metadata": {},
   "outputs": [
    {
     "name": "stdout",
     "output_type": "stream",
     "text": [
      "Training ~> This is the training accuracy with Linear kernel and c_val 0.1: 0.8\n",
      "Testing ~> This is the testing accuracy with Linear kernel and c_val 0.1:  0.773542600896861\n",
      "Training ~> This is the training accuracy with Linear kernel and c_val 1: 0.802247191011236\n",
      "Testing ~> This is the testing accuracy with Linear kernel and c_val 1:  0.7780269058295964\n",
      "Training ~> This is the training accuracy with Linear kernel and c_val 10: 0.8157303370786517\n",
      "Testing ~> This is the testing accuracy with Linear kernel and c_val 10:  0.7847533632286996\n",
      "Training ~> This is the training accuracy with Linear kernel and c_val 100: 0.8202247191011236\n",
      "Testing ~> This is the testing accuracy with Linear kernel and c_val 100:  0.7869955156950673\n"
     ]
    }
   ],
   "source": [
    "linear_test_acc = []\n",
    "for c in c_vals:\n",
    "    svm_linear(c,X_train_split,Y_train_split,X_test_split,Y_test_split)"
   ]
  },
  {
   "cell_type": "code",
   "execution_count": 366,
   "metadata": {
    "scrolled": true
   },
   "outputs": [
    {
     "data": {
      "text/plain": [
       "Text(0,0.5,'linear kernel test accuracies')"
      ]
     },
     "execution_count": 366,
     "metadata": {},
     "output_type": "execute_result"
    },
    {
     "data": {
      "image/png": "[encoded data removed]",
      "text/plain": [
       "<matplotlib.figure.Figure at 0x1146172b0>"
      ]
     },
     "metadata": {},
     "output_type": "display_data"
    }
   ],
   "source": [
    "plt.plot(c_vals,linear_test_acc)\n",
    "plt.xlabel(\"C values\")\n",
    "plt.ylabel(\"linear kernel test accuracies\")"
   ]
  },
  {
   "cell_type": "code",
   "execution_count": null,
   "metadata": {
    "scrolled": true
   },
   "outputs": [
    {
     "name": "stdout",
     "output_type": "stream",
     "text": [
      "Training ~> This is the training accuracy with Linear kernel and c_val 0.1: 0.8067415730337079\n",
      "Testing ~> This is the testing accuracy with Linear kernel and c_val 0.1:  0.7847533632286996\n"
     ]
    }
   ],
   "source": [
    "linear_test_acc_ = []\n",
    "for c in c_vals:\n",
    "    svm_linear(c,X_train_split_transformed,Y_train_split,X_test_split_transformed,Y_test_split)"
   ]
  },
  {
   "cell_type": "code",
   "execution_count": null,
   "metadata": {
    "collapsed": true
   },
   "outputs": [],
   "source": [
    "def svm_rbf(c,X_train,Y_train,X_test,Y_test,gamma):\n",
    "    '''\n",
    "        Author: Kyle Ong\n",
    "        Date: 05/13/2018\n",
    "        \n",
    "        will fit a svm.SVC(probability = False, kernel = 'rbf', gamma = gamma) to X_train and Y_train\n",
    "        will calculate the train accuracy\n",
    "        will calcuate the test accuracy\n",
    "        \n",
    "        c: type: int\n",
    "        X_train: numpy.ndarray\n",
    "        Y_train: numpy.ndarray\n",
    "        X_test: numpy.ndarray\n",
    "        Y_test: numpy.ndarray\n",
    "        gamma: int\n",
    "        \n",
    "        will ignore convergence warnings thrown by sklearn    \n",
    "    '''\n",
    "    \n",
    "    svm_rbf = svm.SVC(probability=False, kernel='rbf',gamma=gamma)\n",
    "    \n",
    "    with warnings.catch_warnings():\n",
    "        warnings.filterwarnings('ignore',category=ConvergenceWarning)\n",
    "        \n",
    "        try:\n",
    "            svm_rbf.fit(X_train,Y_train)\n",
    "            \n",
    "            Y_hat_train = svm_rbf.predict(X_train)\n",
    "            train_acc = np.mean(Y_hat_train == Y_train)\n",
    "            print(\"This is the trainning accuracy with  Radial Basis Kernel and c_val {} and gamma {} : {}\".format(c,gamma,train_acc))\n",
    "            \n",
    "            Y_hat_test = svm_rbf.predict(X_test)\n",
    "            test_acc = np.mean(Y_hat_test == Y_test)\n",
    "            print(\"This is the testing accuracy with  Radial Basis Kernel and c_val {} and gamma {} : {}\".format(c,gamma,test_acc))\n",
    "            rbf_test_acc.append(test_acc)\n",
    "            \n",
    "        except Warning as w:\n",
    "            print(w)\n"
   ]
  },
  {
   "cell_type": "code",
   "execution_count": null,
   "metadata": {
    "collapsed": true
   },
   "outputs": [],
   "source": [
    "params = {\n",
    "    0.1: [0.1,1,10,100],\n",
    "    1 :  [0.1,1,10,100],\n",
    "    10 :  [0.1,1,10,100],\n",
    "    100 :  [0.1,1,10,100]\n",
    "}"
   ]
  },
  {
   "cell_type": "code",
   "execution_count": null,
   "metadata": {
    "scrolled": true
   },
   "outputs": [],
   "source": [
    "for k,v in params.items():\n",
    "    \n",
    "    rbf_test_acc = []\n",
    "    c_val = k\n",
    "    \n",
    "    for gamma in v:\n",
    "        svm_rbf(c_val,X_train_split,Y_train_split,X_test_split,Y_test_split,gamma)\n",
    "        \n",
    "    plt.plot(v,rbf_test_acc)\n",
    "    plt.xlabel(\"C Value\")\n",
    "    plt.ylabel(\"Test accuracies\")"
   ]
  },
  {
   "cell_type": "code",
   "execution_count": null,
   "metadata": {
    "scrolled": true
   },
   "outputs": [],
   "source": [
    "for k,v in params.items():\n",
    "    \n",
    "    rbf_test_acc = []\n",
    "    c_val = k\n",
    "    \n",
    "    for gamma in v:\n",
    "        svm_rbf(c_val,X_train_split_transformed,Y_train_split,X_test_split_transformed,Y_test_split,gamma)\n",
    "        \n",
    "    plt.plot(v,rbf_test_acc)\n",
    "    plt.xlabel(\"C Value\")\n",
    "    plt.ylabel(\"Test accuracies\")"
   ]
  },
  {
   "cell_type": "code",
   "execution_count": null,
   "metadata": {},
   "outputs": [],
   "source": [
    "def svm_poly(X_train,Y_train,X_test,Y_test,c_val,degree):\n",
    "    '''\n",
    "        Author: Kyle Ong\n",
    "        Date: 03/16/2018\n",
    "        \n",
    "        X_train : type: numpy.ndarray\n",
    "        Y_train : type: numpy.ndarray\n",
    "        X_test: type: numpy.ndarray\n",
    "        Y_test: type: numpy.ndarray\n",
    "        c_val : type: int\n",
    "        degree : type: int\n",
    "        \n",
    "        will train a sklearn.svm.SVC(probability = False, kernel = \"poly\", degree=degree ) on X_train, Y_train\n",
    "        will calculate accuracy for X_train and X_test\n",
    "        will ignore convergence warnings thrown by sklearn\n",
    "    '''\n",
    "    \n",
    "    svm_poly = svm.SVC(probability = False, kernel = \"poly\", C=c_val,degree=degree)\n",
    "    svm_poly.fit(X_train,Y_train)\n",
    "    \n",
    "    with warnings.catch_warnings():\n",
    "        \n",
    "        warnings.filterwarnings('ignore',category=ConvergenceWarning)\n",
    "        \n",
    "        try:\n",
    "            \n",
    "            Y_hat_train = svm_poly.predict(X_train)\n",
    "            train_acc = np.mean(Y_hat_train == Y_train)\n",
    "            print(\"This is the trainning accuracy with polynomial kernel and {} degree and {} c_val: {}\".format(degree,c_val,train_acc))\n",
    "            \n",
    "            Y_hat_test = svm_poly.predict(X_test)\n",
    "            test_acc = np.mean(Y_hat_test == Y_test)\n",
    "            print(\"This is the testing accuracy with polynomial kernel and {} degree and {} c_val: {}\".format(degree,c_val,test_acc))\n",
    "            \n",
    "        except Warning as w:\n",
    "            print(w)\n"
   ]
  },
  {
   "cell_type": "code",
   "execution_count": null,
   "metadata": {
    "collapsed": true
   },
   "outputs": [],
   "source": [
    "params = {\n",
    "        1:[0.1,1,10,100],\n",
    "        2:[0.1,1,10,100],\n",
    "        3:[0.1,1,10,100]\n",
    "}"
   ]
  },
  {
   "cell_type": "code",
   "execution_count": null,
   "metadata": {
    "scrolled": true
   },
   "outputs": [],
   "source": [
    "for k,v in params.items():\n",
    "    d = k\n",
    "    for c in v:\n",
    "        svm_poly(X_train_split,Y_train_split,X_test_split,Y_test_split,c,d)"
   ]
  },
  {
   "cell_type": "code",
   "execution_count": null,
   "metadata": {
    "collapsed": true
   },
   "outputs": [],
   "source": [
    "for k,v in params.items():\n",
    "    d = k\n",
    "    for c in v:\n",
    "        svm_poly(X_train_split_transformed,Y_train_split,X_test_split_transformed,Y_test_split,c,d)"
   ]
  },
  {
   "cell_type": "code",
   "execution_count": null,
   "metadata": {
    "collapsed": true
   },
   "outputs": [],
   "source": []
  }
 ],
 "metadata": {
  "kernelspec": {
   "display_name": "Python 3",
   "language": "python",
   "name": "python3"
  },
  "language_info": {
   "codemirror_mode": {
    "name": "ipython",
    "version": 3
   },
   "file_extension": ".py",
   "mimetype": "text/x-python",
   "name": "python",
   "nbconvert_exporter": "python",
   "pygments_lexer": "ipython3",
   "version": "3.6.3"
  }
 },
 "nbformat": 4,
 "nbformat_minor": 2
}
