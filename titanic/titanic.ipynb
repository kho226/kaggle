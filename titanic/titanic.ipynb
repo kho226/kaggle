{
 "cells": [
  {
   "cell_type": "markdown",
   "metadata": {
    "collapsed": true
   },
   "source": [
    "## Titanic "
   ]
  },
  {
   "cell_type": "markdown",
   "metadata": {},
   "source": [
    "### Data Cleaning "
   ]
  },
  {
   "cell_type": "code",
   "execution_count": 84,
   "metadata": {
    "collapsed": true
   },
   "outputs": [],
   "source": [
    "import numpy as np\n",
    "import pandas as pd\n",
    "\n",
    "from sklearn import linear_model \n",
    "from sklearn import svm\n",
    "from sklearn.exceptions import ConvergenceWarning\n",
    "from sklearn.preprocessing import OneHotEncoder, LabelEncoder\n",
    "from sklearn import feature_selection\n",
    "from sklearn import model_selection\n",
    "from sklearn import metrics\n",
    "\n",
    "import matplotlib.pyplot as plt\n",
    "\n",
    "import math\n",
    "import warnings\n",
    "%matplotlib inline \n",
    "\n",
    "import os"
   ]
  },
  {
   "cell_type": "code",
   "execution_count": 2,
   "metadata": {
    "collapsed": true
   },
   "outputs": [],
   "source": [
    "names = [\n",
    "                    \"PassengerId\", \n",
    "                     \"Survived\",\n",
    "                     \"Pclass\",\n",
    "                     \"Name\",\n",
    "                     \"Sex\",\n",
    "                     \"Age\",\n",
    "                     \"SibSp\",\n",
    "                     \"Parch\",\n",
    "                     \"Ticket\",\n",
    "                     \"Fare\",\n",
    "                     \"Cabin\",\n",
    "                     \"Embarked\"\n",
    "        ]"
   ]
  },
  {
   "cell_type": "code",
   "execution_count": 3,
   "metadata": {
    "collapsed": true
   },
   "outputs": [],
   "source": [
    "#ground_truth of data\n",
    "train = pd.read_csv(\"train.csv\",na_values=\"?\")\n",
    "test = pd.read_csv(\"test.csv\",na_values=\"?\")"
   ]
  },
  {
   "cell_type": "code",
   "execution_count": 4,
   "metadata": {
    "collapsed": true
   },
   "outputs": [],
   "source": [
    "#copies of data\n",
    "train_copy = train.copy(deep=True)\n",
    "test_copy = test.copy(deep = True)"
   ]
  },
  {
   "cell_type": "code",
   "execution_count": 5,
   "metadata": {
    "collapsed": true
   },
   "outputs": [],
   "source": [
    "data_arr = [train_copy,test_copy]"
   ]
  },
  {
   "cell_type": "code",
   "execution_count": 6,
   "metadata": {},
   "outputs": [
    {
     "data": {
      "text/html": [
       "<div>\n",
       "<style>\n",
       "    .dataframe thead tr:only-child th {\n",
       "        text-align: right;\n",
       "    }\n",
       "\n",
       "    .dataframe thead th {\n",
       "        text-align: left;\n",
       "    }\n",
       "\n",
       "    .dataframe tbody tr th {\n",
       "        vertical-align: top;\n",
       "    }\n",
       "</style>\n",
       "<table border=\"1\" class=\"dataframe\">\n",
       "  <thead>\n",
       "    <tr style=\"text-align: right;\">\n",
       "      <th></th>\n",
       "      <th>PassengerId</th>\n",
       "      <th>Survived</th>\n",
       "      <th>Pclass</th>\n",
       "      <th>Name</th>\n",
       "      <th>Sex</th>\n",
       "      <th>Age</th>\n",
       "      <th>SibSp</th>\n",
       "      <th>Parch</th>\n",
       "      <th>Ticket</th>\n",
       "      <th>Fare</th>\n",
       "      <th>Cabin</th>\n",
       "      <th>Embarked</th>\n",
       "    </tr>\n",
       "  </thead>\n",
       "  <tbody>\n",
       "    <tr>\n",
       "      <th>0</th>\n",
       "      <td>1</td>\n",
       "      <td>0</td>\n",
       "      <td>3</td>\n",
       "      <td>Braund, Mr. Owen Harris</td>\n",
       "      <td>male</td>\n",
       "      <td>22.0</td>\n",
       "      <td>1</td>\n",
       "      <td>0</td>\n",
       "      <td>A/5 21171</td>\n",
       "      <td>7.2500</td>\n",
       "      <td>NaN</td>\n",
       "      <td>S</td>\n",
       "    </tr>\n",
       "    <tr>\n",
       "      <th>1</th>\n",
       "      <td>2</td>\n",
       "      <td>1</td>\n",
       "      <td>1</td>\n",
       "      <td>Cumings, Mrs. John Bradley (Florence Briggs Th...</td>\n",
       "      <td>female</td>\n",
       "      <td>38.0</td>\n",
       "      <td>1</td>\n",
       "      <td>0</td>\n",
       "      <td>PC 17599</td>\n",
       "      <td>71.2833</td>\n",
       "      <td>C85</td>\n",
       "      <td>C</td>\n",
       "    </tr>\n",
       "    <tr>\n",
       "      <th>2</th>\n",
       "      <td>3</td>\n",
       "      <td>1</td>\n",
       "      <td>3</td>\n",
       "      <td>Heikkinen, Miss. Laina</td>\n",
       "      <td>female</td>\n",
       "      <td>26.0</td>\n",
       "      <td>0</td>\n",
       "      <td>0</td>\n",
       "      <td>STON/O2. 3101282</td>\n",
       "      <td>7.9250</td>\n",
       "      <td>NaN</td>\n",
       "      <td>S</td>\n",
       "    </tr>\n",
       "    <tr>\n",
       "      <th>3</th>\n",
       "      <td>4</td>\n",
       "      <td>1</td>\n",
       "      <td>1</td>\n",
       "      <td>Futrelle, Mrs. Jacques Heath (Lily May Peel)</td>\n",
       "      <td>female</td>\n",
       "      <td>35.0</td>\n",
       "      <td>1</td>\n",
       "      <td>0</td>\n",
       "      <td>113803</td>\n",
       "      <td>53.1000</td>\n",
       "      <td>C123</td>\n",
       "      <td>S</td>\n",
       "    </tr>\n",
       "    <tr>\n",
       "      <th>4</th>\n",
       "      <td>5</td>\n",
       "      <td>0</td>\n",
       "      <td>3</td>\n",
       "      <td>Allen, Mr. William Henry</td>\n",
       "      <td>male</td>\n",
       "      <td>35.0</td>\n",
       "      <td>0</td>\n",
       "      <td>0</td>\n",
       "      <td>373450</td>\n",
       "      <td>8.0500</td>\n",
       "      <td>NaN</td>\n",
       "      <td>S</td>\n",
       "    </tr>\n",
       "    <tr>\n",
       "      <th>5</th>\n",
       "      <td>6</td>\n",
       "      <td>0</td>\n",
       "      <td>3</td>\n",
       "      <td>Moran, Mr. James</td>\n",
       "      <td>male</td>\n",
       "      <td>NaN</td>\n",
       "      <td>0</td>\n",
       "      <td>0</td>\n",
       "      <td>330877</td>\n",
       "      <td>8.4583</td>\n",
       "      <td>NaN</td>\n",
       "      <td>Q</td>\n",
       "    </tr>\n",
       "  </tbody>\n",
       "</table>\n",
       "</div>"
      ],
      "text/plain": [
       "   PassengerId  Survived  Pclass  \\\n",
       "0            1         0       3   \n",
       "1            2         1       1   \n",
       "2            3         1       3   \n",
       "3            4         1       1   \n",
       "4            5         0       3   \n",
       "5            6         0       3   \n",
       "\n",
       "                                                Name     Sex   Age  SibSp  \\\n",
       "0                            Braund, Mr. Owen Harris    male  22.0      1   \n",
       "1  Cumings, Mrs. John Bradley (Florence Briggs Th...  female  38.0      1   \n",
       "2                             Heikkinen, Miss. Laina  female  26.0      0   \n",
       "3       Futrelle, Mrs. Jacques Heath (Lily May Peel)  female  35.0      1   \n",
       "4                           Allen, Mr. William Henry    male  35.0      0   \n",
       "5                                   Moran, Mr. James    male   NaN      0   \n",
       "\n",
       "   Parch            Ticket     Fare Cabin Embarked  \n",
       "0      0         A/5 21171   7.2500   NaN        S  \n",
       "1      0          PC 17599  71.2833   C85        C  \n",
       "2      0  STON/O2. 3101282   7.9250   NaN        S  \n",
       "3      0            113803  53.1000  C123        S  \n",
       "4      0            373450   8.0500   NaN        S  \n",
       "5      0            330877   8.4583   NaN        Q  "
      ]
     },
     "execution_count": 6,
     "metadata": {},
     "output_type": "execute_result"
    }
   ],
   "source": [
    "train_copy.head(6)"
   ]
  },
  {
   "cell_type": "code",
   "execution_count": 7,
   "metadata": {},
   "outputs": [
    {
     "data": {
      "text/html": [
       "<div>\n",
       "<style>\n",
       "    .dataframe thead tr:only-child th {\n",
       "        text-align: right;\n",
       "    }\n",
       "\n",
       "    .dataframe thead th {\n",
       "        text-align: left;\n",
       "    }\n",
       "\n",
       "    .dataframe tbody tr th {\n",
       "        vertical-align: top;\n",
       "    }\n",
       "</style>\n",
       "<table border=\"1\" class=\"dataframe\">\n",
       "  <thead>\n",
       "    <tr style=\"text-align: right;\">\n",
       "      <th></th>\n",
       "      <th>PassengerId</th>\n",
       "      <th>Pclass</th>\n",
       "      <th>Name</th>\n",
       "      <th>Sex</th>\n",
       "      <th>Age</th>\n",
       "      <th>SibSp</th>\n",
       "      <th>Parch</th>\n",
       "      <th>Ticket</th>\n",
       "      <th>Fare</th>\n",
       "      <th>Cabin</th>\n",
       "      <th>Embarked</th>\n",
       "    </tr>\n",
       "  </thead>\n",
       "  <tbody>\n",
       "    <tr>\n",
       "      <th>0</th>\n",
       "      <td>892</td>\n",
       "      <td>3</td>\n",
       "      <td>Kelly, Mr. James</td>\n",
       "      <td>male</td>\n",
       "      <td>34.5</td>\n",
       "      <td>0</td>\n",
       "      <td>0</td>\n",
       "      <td>330911</td>\n",
       "      <td>7.8292</td>\n",
       "      <td>NaN</td>\n",
       "      <td>Q</td>\n",
       "    </tr>\n",
       "    <tr>\n",
       "      <th>1</th>\n",
       "      <td>893</td>\n",
       "      <td>3</td>\n",
       "      <td>Wilkes, Mrs. James (Ellen Needs)</td>\n",
       "      <td>female</td>\n",
       "      <td>47.0</td>\n",
       "      <td>1</td>\n",
       "      <td>0</td>\n",
       "      <td>363272</td>\n",
       "      <td>7.0000</td>\n",
       "      <td>NaN</td>\n",
       "      <td>S</td>\n",
       "    </tr>\n",
       "    <tr>\n",
       "      <th>2</th>\n",
       "      <td>894</td>\n",
       "      <td>2</td>\n",
       "      <td>Myles, Mr. Thomas Francis</td>\n",
       "      <td>male</td>\n",
       "      <td>62.0</td>\n",
       "      <td>0</td>\n",
       "      <td>0</td>\n",
       "      <td>240276</td>\n",
       "      <td>9.6875</td>\n",
       "      <td>NaN</td>\n",
       "      <td>Q</td>\n",
       "    </tr>\n",
       "    <tr>\n",
       "      <th>3</th>\n",
       "      <td>895</td>\n",
       "      <td>3</td>\n",
       "      <td>Wirz, Mr. Albert</td>\n",
       "      <td>male</td>\n",
       "      <td>27.0</td>\n",
       "      <td>0</td>\n",
       "      <td>0</td>\n",
       "      <td>315154</td>\n",
       "      <td>8.6625</td>\n",
       "      <td>NaN</td>\n",
       "      <td>S</td>\n",
       "    </tr>\n",
       "    <tr>\n",
       "      <th>4</th>\n",
       "      <td>896</td>\n",
       "      <td>3</td>\n",
       "      <td>Hirvonen, Mrs. Alexander (Helga E Lindqvist)</td>\n",
       "      <td>female</td>\n",
       "      <td>22.0</td>\n",
       "      <td>1</td>\n",
       "      <td>1</td>\n",
       "      <td>3101298</td>\n",
       "      <td>12.2875</td>\n",
       "      <td>NaN</td>\n",
       "      <td>S</td>\n",
       "    </tr>\n",
       "    <tr>\n",
       "      <th>5</th>\n",
       "      <td>897</td>\n",
       "      <td>3</td>\n",
       "      <td>Svensson, Mr. Johan Cervin</td>\n",
       "      <td>male</td>\n",
       "      <td>14.0</td>\n",
       "      <td>0</td>\n",
       "      <td>0</td>\n",
       "      <td>7538</td>\n",
       "      <td>9.2250</td>\n",
       "      <td>NaN</td>\n",
       "      <td>S</td>\n",
       "    </tr>\n",
       "  </tbody>\n",
       "</table>\n",
       "</div>"
      ],
      "text/plain": [
       "   PassengerId  Pclass                                          Name     Sex  \\\n",
       "0          892       3                              Kelly, Mr. James    male   \n",
       "1          893       3              Wilkes, Mrs. James (Ellen Needs)  female   \n",
       "2          894       2                     Myles, Mr. Thomas Francis    male   \n",
       "3          895       3                              Wirz, Mr. Albert    male   \n",
       "4          896       3  Hirvonen, Mrs. Alexander (Helga E Lindqvist)  female   \n",
       "5          897       3                    Svensson, Mr. Johan Cervin    male   \n",
       "\n",
       "    Age  SibSp  Parch   Ticket     Fare Cabin Embarked  \n",
       "0  34.5      0      0   330911   7.8292   NaN        Q  \n",
       "1  47.0      1      0   363272   7.0000   NaN        S  \n",
       "2  62.0      0      0   240276   9.6875   NaN        Q  \n",
       "3  27.0      0      0   315154   8.6625   NaN        S  \n",
       "4  22.0      1      1  3101298  12.2875   NaN        S  \n",
       "5  14.0      0      0     7538   9.2250   NaN        S  "
      ]
     },
     "execution_count": 7,
     "metadata": {},
     "output_type": "execute_result"
    }
   ],
   "source": [
    "test_copy.head(6)"
   ]
  },
  {
   "cell_type": "code",
   "execution_count": 8,
   "metadata": {
    "collapsed": true
   },
   "outputs": [],
   "source": [
    "num_samples=train_copy.shape[0]\n",
    "num_attributes = train_copy.shape[1]"
   ]
  },
  {
   "cell_type": "code",
   "execution_count": 9,
   "metadata": {
    "scrolled": true
   },
   "outputs": [
    {
     "name": "stdout",
     "output_type": "stream",
     "text": [
      "The titanic dataset contains 891 observations\n",
      "The titanic dataset contains 12 attributes\n"
     ]
    }
   ],
   "source": [
    "print (\"The titanic dataset contains {} observations\".format(num_samples))\n",
    "print (\"The titanic dataset contains {} attributes\".format(num_attributes))"
   ]
  },
  {
   "cell_type": "markdown",
   "metadata": {},
   "source": [
    "There seem to be columns within the trainning and test data that consists of NaN values"
   ]
  },
  {
   "cell_type": "code",
   "execution_count": 10,
   "metadata": {},
   "outputs": [
    {
     "name": "stdout",
     "output_type": "stream",
     "text": [
      "Training data\n",
      "PassengerId      0\n",
      "Survived         0\n",
      "Pclass           0\n",
      "Name             0\n",
      "Sex              0\n",
      "Age            177\n",
      "SibSp            0\n",
      "Parch            0\n",
      "Ticket           0\n",
      "Fare             0\n",
      "Cabin          687\n",
      "Embarked         2\n",
      "dtype: int64\n",
      "----------\n",
      "Testing data\n",
      "PassengerId      0\n",
      "Pclass           0\n",
      "Name             0\n",
      "Sex              0\n",
      "Age             86\n",
      "SibSp            0\n",
      "Parch            0\n",
      "Ticket           0\n",
      "Fare             1\n",
      "Cabin          327\n",
      "Embarked         0\n",
      "dtype: int64\n"
     ]
    }
   ],
   "source": [
    "\n",
    "print(\"Training data\")\n",
    "print (train_copy.isnull().sum())\n",
    "print(\"-\"*10)\n",
    "print(\"Testing data\")\n",
    "print(test_copy.isnull().sum())"
   ]
  },
  {
   "cell_type": "markdown",
   "metadata": {},
   "source": [
    "Let's clean those values up! \n",
    "\n",
    "A good method to fill in NaN values is to use the median or the mode"
   ]
  },
  {
   "cell_type": "code",
   "execution_count": 11,
   "metadata": {
    "collapsed": true
   },
   "outputs": [],
   "source": [
    "# clean the data ~> get ride of NaN values\n",
    "for data in data_arr:\n",
    "    \n",
    "    data['Age'].fillna(data['Age'].median(),inplace=True)\n",
    "    data['Embarked'].fillna(data['Embarked'].mode()[0],inplace=True)\n",
    "    data['Fare'].fillna(data['Fare'].median(),inplace=True)\n"
   ]
  },
  {
   "cell_type": "markdown",
   "metadata": {},
   "source": [
    "The problem statement suggests that we should drop 'PassengerId', \"Cabin' ,'Ticket'"
   ]
  },
  {
   "cell_type": "code",
   "execution_count": 12,
   "metadata": {
    "collapsed": true
   },
   "outputs": [],
   "source": [
    "#per the rules; we are supposed to drop cabin number from training set\n",
    "drop_columns = [\"PassengerId\",\"Cabin\",\"Ticket\"]\n",
    "train_copy.drop(drop_columns,axis = 1,inplace=True)\n",
    "test_copy.drop(drop_columns,axis=1,inplace=True)"
   ]
  },
  {
   "cell_type": "markdown",
   "metadata": {},
   "source": [
    "Let's double check that our data cleaning worked!"
   ]
  },
  {
   "cell_type": "code",
   "execution_count": 13,
   "metadata": {},
   "outputs": [
    {
     "name": "stdout",
     "output_type": "stream",
     "text": [
      "Training data\n",
      "Survived    0\n",
      "Pclass      0\n",
      "Name        0\n",
      "Sex         0\n",
      "Age         0\n",
      "SibSp       0\n",
      "Parch       0\n",
      "Fare        0\n",
      "Embarked    0\n",
      "dtype: int64\n",
      "----------\n",
      "Testing data\n",
      "Pclass      0\n",
      "Name        0\n",
      "Sex         0\n",
      "Age         0\n",
      "SibSp       0\n",
      "Parch       0\n",
      "Fare        0\n",
      "Embarked    0\n",
      "dtype: int64\n"
     ]
    }
   ],
   "source": [
    "#double check the cleaning went as planned\n",
    "print(\"Training data\")\n",
    "print (train_copy.isnull().sum())\n",
    "print(\"-\"*10)\n",
    "print(\"Testing data\")\n",
    "print(test_copy.isnull().sum())"
   ]
  },
  {
   "cell_type": "markdown",
   "metadata": {},
   "source": [
    "These shapes check out, since the training dataframe still has the 'Survived' Column"
   ]
  },
  {
   "cell_type": "code",
   "execution_count": 14,
   "metadata": {},
   "outputs": [
    {
     "name": "stdout",
     "output_type": "stream",
     "text": [
      "(891, 9)\n",
      "(418, 8)\n"
     ]
    }
   ],
   "source": [
    "#train_copy still has the 'survived' column\n",
    "print(train_copy.shape)\n",
    "print(test_copy.shape)"
   ]
  },
  {
   "cell_type": "markdown",
   "metadata": {},
   "source": [
    "We still have to deal with the 'Object\" type columns...\n",
    "\n",
    "They will throw errors for the majority of algorithms that we want to apply to the dataset!"
   ]
  },
  {
   "cell_type": "code",
   "execution_count": 15,
   "metadata": {},
   "outputs": [
    {
     "name": "stdout",
     "output_type": "stream",
     "text": [
      "Training data information\n",
      "<class 'pandas.core.frame.DataFrame'>\n",
      "RangeIndex: 891 entries, 0 to 890\n",
      "Data columns (total 9 columns):\n",
      "Survived    891 non-null int64\n",
      "Pclass      891 non-null int64\n",
      "Name        891 non-null object\n",
      "Sex         891 non-null object\n",
      "Age         891 non-null float64\n",
      "SibSp       891 non-null int64\n",
      "Parch       891 non-null int64\n",
      "Fare        891 non-null float64\n",
      "Embarked    891 non-null object\n",
      "dtypes: float64(2), int64(4), object(3)\n",
      "memory usage: 62.7+ KB\n",
      "----------\n",
      "Testing data information\n",
      "<class 'pandas.core.frame.DataFrame'>\n",
      "RangeIndex: 418 entries, 0 to 417\n",
      "Data columns (total 8 columns):\n",
      "Pclass      418 non-null int64\n",
      "Name        418 non-null object\n",
      "Sex         418 non-null object\n",
      "Age         418 non-null float64\n",
      "SibSp       418 non-null int64\n",
      "Parch       418 non-null int64\n",
      "Fare        418 non-null float64\n",
      "Embarked    418 non-null object\n",
      "dtypes: float64(2), int64(3), object(3)\n",
      "memory usage: 26.2+ KB\n"
     ]
    }
   ],
   "source": [
    "#We will have to perform feature mapping on the 'object' type columns\n",
    "print(\"Training data information\")\n",
    "train_copy.info()\n",
    "print(\"-\"*10)\n",
    "print(\"Testing data information\")\n",
    "test_copy.info()"
   ]
  },
  {
   "cell_type": "markdown",
   "metadata": {},
   "source": [
    "Let's explore some feature engineering! \n",
    "\n",
    "We hypothesize that the title along with family size greatly affect an individual's chances of survival!"
   ]
  },
  {
   "cell_type": "code",
   "execution_count": 16,
   "metadata": {},
   "outputs": [
    {
     "name": "stderr",
     "output_type": "stream",
     "text": [
      "/anaconda3/lib/python3.6/site-packages/pandas/core/indexing.py:179: SettingWithCopyWarning: \n",
      "A value is trying to be set on a copy of a slice from a DataFrame\n",
      "\n",
      "See the caveats in the documentation: http://pandas.pydata.org/pandas-docs/stable/indexing.html#indexing-view-versus-copy\n",
      "  self._setitem_with_indexer(indexer, value)\n"
     ]
    }
   ],
   "source": [
    "#feature engineering\n",
    "for d in data_arr:\n",
    "    \n",
    "    #family size\n",
    "    d['FamilySize'] = d['SibSp'] + d['Parch'] + 1\n",
    "    d['IsAlone'] = 1\n",
    "    \n",
    "    d['IsAlone'].loc[d['FamilySize'] > 1] = 0\n",
    "    \n",
    "    #title\n",
    "    d[\"Title\"] = d['Name'].str.split(\",\",expand=True)[1].str.split('.',expand=True)[0]"
   ]
  },
  {
   "cell_type": "markdown",
   "metadata": {},
   "source": [
    "Can never be to careful when it comes to double checking your work!\n",
    "\n",
    "We also notice that there are alot of 'misc' titles..... Which should we worry about?"
   ]
  },
  {
   "cell_type": "code",
   "execution_count": 17,
   "metadata": {},
   "outputs": [
    {
     "name": "stdout",
     "output_type": "stream",
     "text": [
      "Training data information\n",
      " Mr              517\n",
      " Miss            182\n",
      " Mrs             125\n",
      " Master           40\n",
      " Dr                7\n",
      " Rev               6\n",
      " Mlle              2\n",
      " Col               2\n",
      " Major             2\n",
      " Capt              1\n",
      " the Countess      1\n",
      " Lady              1\n",
      " Ms                1\n",
      " Sir               1\n",
      " Don               1\n",
      " Jonkheer          1\n",
      " Mme               1\n",
      "Name: Title, dtype: int64\n"
     ]
    }
   ],
   "source": [
    "#double check the cleaning went as planned\n",
    "print(\"Training data information\")\n",
    "print(train_copy[\"Title\"].value_counts())"
   ]
  },
  {
   "cell_type": "markdown",
   "metadata": {},
   "source": [
    "Let's only consider the titles that occur greateer than 10 times!"
   ]
  },
  {
   "cell_type": "code",
   "execution_count": 18,
   "metadata": {},
   "outputs": [
    {
     "name": "stdout",
     "output_type": "stream",
     "text": [
      " Mr               True\n",
      " Miss             True\n",
      " Mrs              True\n",
      " Master           True\n",
      " Dr              False\n",
      " Rev             False\n",
      " Mlle            False\n",
      " Col             False\n",
      " Major           False\n",
      " Capt            False\n",
      " the Countess    False\n",
      " Lady            False\n",
      " Ms              False\n",
      " Sir             False\n",
      " Don             False\n",
      " Jonkheer        False\n",
      " Mme             False\n",
      "Name: Title, dtype: bool\n"
     ]
    }
   ],
   "source": [
    "#eliminate misc titles\n",
    "min_occurences = 10\n",
    "#creates a series indexed by title\n",
    "title_names  = (train_copy['Title'].value_counts() > min_occurences)\n",
    "print(title_names)"
   ]
  },
  {
   "cell_type": "code",
   "execution_count": 19,
   "metadata": {
    "collapsed": true
   },
   "outputs": [],
   "source": [
    "train_copy['Title'] = train_copy[\"Title\"].apply(lambda x: x if title_names.loc[x] == True else 'Misc')"
   ]
  },
  {
   "cell_type": "code",
   "execution_count": 20,
   "metadata": {},
   "outputs": [
    {
     "name": "stdout",
     "output_type": "stream",
     "text": [
      "Here are the relevant titles...\n",
      " Mr        517\n",
      " Miss      182\n",
      " Mrs       125\n",
      " Master     40\n",
      "Misc        27\n",
      "Name: Title, dtype: int64\n"
     ]
    }
   ],
   "source": [
    "print(\"Here are the relevant titles...\")\n",
    "print(train_copy[\"Title\"].value_counts())"
   ]
  },
  {
   "cell_type": "markdown",
   "metadata": {},
   "source": [
    "We expect that the same number of 'title''s to have been created as the rest of the columns"
   ]
  },
  {
   "cell_type": "code",
   "execution_count": 21,
   "metadata": {},
   "outputs": [
    {
     "name": "stdout",
     "output_type": "stream",
     "text": [
      "This is the trainning data...\n",
      "<class 'pandas.core.frame.DataFrame'>\n",
      "RangeIndex: 891 entries, 0 to 890\n",
      "Data columns (total 12 columns):\n",
      "Survived      891 non-null int64\n",
      "Pclass        891 non-null int64\n",
      "Name          891 non-null object\n",
      "Sex           891 non-null object\n",
      "Age           891 non-null float64\n",
      "SibSp         891 non-null int64\n",
      "Parch         891 non-null int64\n",
      "Fare          891 non-null float64\n",
      "Embarked      891 non-null object\n",
      "FamilySize    891 non-null int64\n",
      "IsAlone       891 non-null int64\n",
      "Title         891 non-null object\n",
      "dtypes: float64(2), int64(6), object(4)\n",
      "memory usage: 83.6+ KB\n",
      "----------\n",
      "This is the testing data...\n",
      "<class 'pandas.core.frame.DataFrame'>\n",
      "RangeIndex: 418 entries, 0 to 417\n",
      "Data columns (total 11 columns):\n",
      "Pclass        418 non-null int64\n",
      "Name          418 non-null object\n",
      "Sex           418 non-null object\n",
      "Age           418 non-null float64\n",
      "SibSp         418 non-null int64\n",
      "Parch         418 non-null int64\n",
      "Fare          418 non-null float64\n",
      "Embarked      418 non-null object\n",
      "FamilySize    418 non-null int64\n",
      "IsAlone       418 non-null int64\n",
      "Title         418 non-null object\n",
      "dtypes: float64(2), int64(5), object(4)\n",
      "memory usage: 36.0+ KB\n"
     ]
    }
   ],
   "source": [
    "\n",
    "print(\"This is the trainning data...\")\n",
    "train_copy.info()\n",
    "print(\"-\"*10)\n",
    "print(\"This is the testing data...\")\n",
    "test_copy.info()"
   ]
  },
  {
   "cell_type": "markdown",
   "metadata": {},
   "source": [
    "Since we have the 'Titles' let's drop the 'Names'"
   ]
  },
  {
   "cell_type": "code",
   "execution_count": 22,
   "metadata": {
    "collapsed": true
   },
   "outputs": [],
   "source": [
    "train_copy.drop(['Name'],axis=1,inplace=True)\n",
    "test_copy.drop(['Name'],axis=1,inplace=True)"
   ]
  },
  {
   "cell_type": "code",
   "execution_count": 23,
   "metadata": {},
   "outputs": [
    {
     "name": "stdout",
     "output_type": "stream",
     "text": [
      "(891, 11)\n",
      "(418, 10)\n"
     ]
    }
   ],
   "source": [
    "print(train_copy.shape)\n",
    "print(test_copy.shape)"
   ]
  },
  {
   "cell_type": "markdown",
   "metadata": {},
   "source": [
    "Finally, we can take care of label encoding"
   ]
  },
  {
   "cell_type": "code",
   "execution_count": 24,
   "metadata": {
    "collapsed": true
   },
   "outputs": [],
   "source": [
    "#convert formats\n",
    "#age\n",
    "#title\n",
    "#embarked\n",
    "label = LabelEncoder()\n",
    "one_hot = OneHotEncoder()"
   ]
  },
  {
   "cell_type": "code",
   "execution_count": 25,
   "metadata": {
    "collapsed": true
   },
   "outputs": [],
   "source": [
    "for d in data_arr:\n",
    "    d['Embarked'] = label.fit_transform(d['Embarked'])\n",
    "    d['Title'] = label.fit_transform(d[\"Title\"])\n",
    "    d['Sex'] = label.fit_transform(d['Sex'])"
   ]
  },
  {
   "cell_type": "code",
   "execution_count": 26,
   "metadata": {},
   "outputs": [
    {
     "name": "stdout",
     "output_type": "stream",
     "text": [
      "After some feature mapping...\n",
      "This is the trainning data...\n",
      "<class 'pandas.core.frame.DataFrame'>\n",
      "RangeIndex: 891 entries, 0 to 890\n",
      "Data columns (total 11 columns):\n",
      "Survived      891 non-null int64\n",
      "Pclass        891 non-null int64\n",
      "Sex           891 non-null int64\n",
      "Age           891 non-null float64\n",
      "SibSp         891 non-null int64\n",
      "Parch         891 non-null int64\n",
      "Fare          891 non-null float64\n",
      "Embarked      891 non-null int64\n",
      "FamilySize    891 non-null int64\n",
      "IsAlone       891 non-null int64\n",
      "Title         891 non-null int64\n",
      "dtypes: float64(2), int64(9)\n",
      "memory usage: 76.6 KB\n",
      "----------\n",
      "This is the testing data...\n",
      "<class 'pandas.core.frame.DataFrame'>\n",
      "RangeIndex: 418 entries, 0 to 417\n",
      "Data columns (total 10 columns):\n",
      "Pclass        418 non-null int64\n",
      "Sex           418 non-null int64\n",
      "Age           418 non-null float64\n",
      "SibSp         418 non-null int64\n",
      "Parch         418 non-null int64\n",
      "Fare          418 non-null float64\n",
      "Embarked      418 non-null int64\n",
      "FamilySize    418 non-null int64\n",
      "IsAlone       418 non-null int64\n",
      "Title         418 non-null int64\n",
      "dtypes: float64(2), int64(8)\n",
      "memory usage: 32.7 KB\n"
     ]
    }
   ],
   "source": [
    "print(\"After some feature mapping...\")\n",
    "print(\"This is the trainning data...\")\n",
    "train_copy.info()\n",
    "print(\"-\"*10)\n",
    "print(\"This is the testing data...\")\n",
    "test_copy.info()"
   ]
  },
  {
   "cell_type": "markdown",
   "metadata": {},
   "source": [
    "After all our hardwork the data is clean as a whistle!!"
   ]
  },
  {
   "cell_type": "code",
   "execution_count": 27,
   "metadata": {},
   "outputs": [
    {
     "data": {
      "text/plain": [
       "Survived      0\n",
       "Pclass        0\n",
       "Sex           0\n",
       "Age           0\n",
       "SibSp         0\n",
       "Parch         0\n",
       "Fare          0\n",
       "Embarked      0\n",
       "FamilySize    0\n",
       "IsAlone       0\n",
       "Title         0\n",
       "dtype: int64"
      ]
     },
     "execution_count": 27,
     "metadata": {},
     "output_type": "execute_result"
    }
   ],
   "source": [
    "train_copy.isnull().sum()"
   ]
  },
  {
   "cell_type": "code",
   "execution_count": 28,
   "metadata": {},
   "outputs": [
    {
     "data": {
      "text/plain": [
       "Pclass        0\n",
       "Sex           0\n",
       "Age           0\n",
       "SibSp         0\n",
       "Parch         0\n",
       "Fare          0\n",
       "Embarked      0\n",
       "FamilySize    0\n",
       "IsAlone       0\n",
       "Title         0\n",
       "dtype: int64"
      ]
     },
     "execution_count": 28,
     "metadata": {},
     "output_type": "execute_result"
    }
   ],
   "source": [
    "test_copy.isnull().sum()"
   ]
  },
  {
   "cell_type": "code",
   "execution_count": 29,
   "metadata": {},
   "outputs": [
    {
     "name": "stdout",
     "output_type": "stream",
     "text": [
      "Training data shape: (891, 11)\n",
      "Testing date shape: (418, 10)\n"
     ]
    }
   ],
   "source": [
    "print (\"Training data shape: {}\".format(train_copy.shape))\n",
    "print (\"Testing date shape: {}\".format(test_copy.shape))"
   ]
  },
  {
   "cell_type": "markdown",
   "metadata": {},
   "source": [
    "And yet, let us not forget about the trainning targets"
   ]
  },
  {
   "cell_type": "code",
   "execution_count": 30,
   "metadata": {
    "collapsed": true
   },
   "outputs": [],
   "source": [
    "Y_train  = train_copy['Survived']\n",
    "#train_copy.drop(['Survived'],axis=1,inplace=True)"
   ]
  },
  {
   "cell_type": "code",
   "execution_count": 31,
   "metadata": {},
   "outputs": [
    {
     "name": "stdout",
     "output_type": "stream",
     "text": [
      "After dropping the 'Survived' column ...\n",
      "(891, 11)\n",
      "(418, 10)\n"
     ]
    }
   ],
   "source": [
    "print (\"After dropping the 'Survived' column ...\")\n",
    "print(train_copy.shape)\n",
    "print(test_copy.shape)"
   ]
  },
  {
   "cell_type": "code",
   "execution_count": 32,
   "metadata": {
    "collapsed": true
   },
   "outputs": [],
   "source": [
    "X_train = train_copy.copy(deep = True)\n",
    "X_train.drop([\"Survived\"],axis=1,inplace=True)"
   ]
  },
  {
   "cell_type": "markdown",
   "metadata": {},
   "source": [
    "### Data Exploration"
   ]
  },
  {
   "cell_type": "markdown",
   "metadata": {},
   "source": [
    "OMG so many stats\n",
    "\n",
    "SO many stories!!"
   ]
  },
  {
   "cell_type": "code",
   "execution_count": 33,
   "metadata": {},
   "outputs": [
    {
     "data": {
      "text/plain": [
       "Text(0,0.5,'Fare ($)')"
      ]
     },
     "execution_count": 33,
     "metadata": {},
     "output_type": "execute_result"
    },
    {
     "data": {
      "image/png": "[encoded data removed]",
      "text/plain": [
       "<matplotlib.figure.Figure at 0x10385e940>"
      ]
     },
     "metadata": {},
     "output_type": "display_data"
    }
   ],
   "source": [
    "plt.boxplot(x=train_copy['Fare'],showmeans=True,meanline=True)\n",
    "plt.title('Fare')\n",
    "plt.ylabel(\"Fare ($)\")"
   ]
  },
  {
   "cell_type": "markdown",
   "metadata": {},
   "source": [
    "There seem to be a disproportional amount of high-paying passengers that skew the data"
   ]
  },
  {
   "cell_type": "code",
   "execution_count": 34,
   "metadata": {},
   "outputs": [
    {
     "data": {
      "text/plain": [
       "Text(0,0.5,'Age (years)')"
      ]
     },
     "execution_count": 34,
     "metadata": {},
     "output_type": "execute_result"
    },
    {
     "data": {
      "image/png": "[encoded data removed]",
      "text/plain": [
       "<matplotlib.figure.Figure at 0x103867c88>"
      ]
     },
     "metadata": {},
     "output_type": "display_data"
    }
   ],
   "source": [
    "plt.boxplot(x=train_copy['Age'],showmeans=True,meanline=True)\n",
    "plt.title('Age')\n",
    "plt.ylabel('Age (years)')"
   ]
  },
  {
   "cell_type": "markdown",
   "metadata": {},
   "source": [
    "The p50 age is more representative of the average age than the mean"
   ]
  },
  {
   "cell_type": "code",
   "execution_count": 35,
   "metadata": {},
   "outputs": [
    {
     "data": {
      "text/plain": [
       "Text(0,0.5,'FamilySize (#)')"
      ]
     },
     "execution_count": 35,
     "metadata": {},
     "output_type": "execute_result"
    },
    {
     "data": {
      "image/png": "[encoded data removed]",
      "text/plain": [
       "<matplotlib.figure.Figure at 0x103888080>"
      ]
     },
     "metadata": {},
     "output_type": "display_data"
    }
   ],
   "source": [
    "plt.boxplot(x=train_copy['FamilySize'],showmeans=True,meanline=True)\n",
    "plt.title(\"FamilySize\")\n",
    "plt.ylabel(\"FamilySize (#)\")"
   ]
  },
  {
   "cell_type": "markdown",
   "metadata": {},
   "source": [
    "Similar to 'Age' and 'Fair' the 'FamilySize' seems to be artifically inflated due to large families"
   ]
  },
  {
   "cell_type": "code",
   "execution_count": 36,
   "metadata": {},
   "outputs": [
    {
     "name": "stderr",
     "output_type": "stream",
     "text": [
      "/anaconda3/lib/python3.6/site-packages/numpy/core/fromnumeric.py:52: FutureWarning: reshape is deprecated and will raise in a subsequent release. Please use .values.reshape(...) instead\n",
      "  return getattr(obj, method)(*args, **kwds)\n"
     ]
    },
    {
     "data": {
      "text/plain": [
       "<matplotlib.legend.Legend at 0x10b3f1438>"
      ]
     },
     "execution_count": 36,
     "metadata": {},
     "output_type": "execute_result"
    },
    {
     "data": {
      "image/png": "[encoded data removed]",
      "text/plain": [
       "<matplotlib.figure.Figure at 0x103867908>"
      ]
     },
     "metadata": {},
     "output_type": "display_data"
    }
   ],
   "source": [
    "plt.hist(x=[train_copy[train_copy['Survived'] == 1]['Fare'], train_copy[train_copy['Survived'] == 0]['Fare']],\n",
    "         stacked=True,\n",
    "        color=['b','r'],\n",
    "        label=['Survived','Dead'])\n",
    "\n",
    "plt.title('Fair Hisogram by Survival')\n",
    "plt.ylabel('# Passengers')\n",
    "\n",
    "\n",
    "\n",
    "plt.legend()"
   ]
  },
  {
   "cell_type": "markdown",
   "metadata": {},
   "source": [
    "Interestingly enough the the majority of those who survived paid the lowest for their time aboard the titanic. \n",
    "\n",
    "As expected the highest proportion of those 'Dead'  also rerpesented the lowest fair paid."
   ]
  },
  {
   "cell_type": "code",
   "execution_count": 37,
   "metadata": {},
   "outputs": [
    {
     "name": "stderr",
     "output_type": "stream",
     "text": [
      "/anaconda3/lib/python3.6/site-packages/numpy/core/fromnumeric.py:52: FutureWarning: reshape is deprecated and will raise in a subsequent release. Please use .values.reshape(...) instead\n",
      "  return getattr(obj, method)(*args, **kwds)\n"
     ]
    },
    {
     "data": {
      "text/plain": [
       "<matplotlib.legend.Legend at 0x10b3f9b70>"
      ]
     },
     "execution_count": 37,
     "metadata": {},
     "output_type": "execute_result"
    },
    {
     "data": {
      "image/png": "[encoded data removed]",
      "text/plain": [
       "<matplotlib.figure.Figure at 0x10b35f1d0>"
      ]
     },
     "metadata": {},
     "output_type": "display_data"
    }
   ],
   "source": [
    "plt.hist(x=[train_copy[train_copy['Survived'] == 1]['Age'], train_copy[train_copy['Survived'] == 0]['Age']],\n",
    "        stacked=True,\n",
    "        color=['b','r'],\n",
    "        label=['Survived','Dead'])\n",
    "\n",
    "\n",
    "plt.title(\"Age histogram by survival\")\n",
    "plt.ylabel(\"Passengers\")\n",
    "\n",
    "plt.legend()"
   ]
  },
  {
   "cell_type": "markdown",
   "metadata": {},
   "source": [
    "\"Age\" seems to follow a normal curve in terms of those who 'survived' and 'died'. Could be attributed to the fact that 'Age' itself was normally distributed"
   ]
  },
  {
   "cell_type": "code",
   "execution_count": 38,
   "metadata": {},
   "outputs": [
    {
     "name": "stderr",
     "output_type": "stream",
     "text": [
      "/anaconda3/lib/python3.6/site-packages/numpy/core/fromnumeric.py:52: FutureWarning: reshape is deprecated and will raise in a subsequent release. Please use .values.reshape(...) instead\n",
      "  return getattr(obj, method)(*args, **kwds)\n"
     ]
    },
    {
     "data": {
      "text/plain": [
       "<matplotlib.legend.Legend at 0x104a0bf28>"
      ]
     },
     "execution_count": 38,
     "metadata": {},
     "output_type": "execute_result"
    },
    {
     "data": {
      "image/png": "[encoded data removed]",
      "text/plain": [
       "<matplotlib.figure.Figure at 0x104a3bba8>"
      ]
     },
     "metadata": {},
     "output_type": "display_data"
    }
   ],
   "source": [
    "plt.hist(\n",
    "                x=[train_copy[train_copy['Survived'] == 1][\"FamilySize\"],train_copy[train_copy['Survived'] == 0]['FamilySize']],\n",
    "                stacked = True,\n",
    "                color = [\"b\",'r'],\n",
    "                label = ['Survived','Dead']\n",
    ")\n",
    "\n",
    "plt.title(\"Family Size histogram\")\n",
    "plt.ylabel(\"Passengers\")\n",
    "\n",
    "plt.legend()"
   ]
  },
  {
   "cell_type": "markdown",
   "metadata": {},
   "source": [
    "Smaller families had a higher chance of surviving. Yet, this insight could also be fueled by the fact that the majority of families were small.\n",
    "\n",
    "Larger families had the lowest chance of survival!"
   ]
  },
  {
   "cell_type": "code",
   "execution_count": 39,
   "metadata": {
    "collapsed": true
   },
   "outputs": [],
   "source": [
    "import seaborn as sns"
   ]
  },
  {
   "cell_type": "code",
   "execution_count": 40,
   "metadata": {
    "scrolled": false
   },
   "outputs": [
    {
     "data": {
      "text/plain": [
       "<matplotlib.axes._subplots.AxesSubplot at 0x10bcb23c8>"
      ]
     },
     "execution_count": 40,
     "metadata": {},
     "output_type": "execute_result"
    },
    {
     "data": {
      "image/png": "[encoded data removed]",
      "text/plain": [
       "<matplotlib.figure.Figure at 0x10bc078d0>"
      ]
     },
     "metadata": {},
     "output_type": "display_data"
    }
   ],
   "source": [
    "#init a (2,2) subplot where each subplot is (12,12)\n",
    "fig, saxis = plt.subplots(2, 2,figsize=(12,12))\n",
    "\n",
    "sns.barplot(x=\"Embarked\",y=\"Survived\",data=train_copy,ax = saxis[0,0])\n",
    "sns.barplot(x=\"Pclass\",y='Survived',data=train_copy,ax=saxis[0,1])\n",
    "sns.barplot(x=\"IsAlone\",y=\"Survived\",data=train_copy,ax=saxis[1,0])\n",
    "sns.pointplot(x=\"FamilySize\",y=\"Survived\",data=train_copy,ax=saxis[1,1])"
   ]
  },
  {
   "cell_type": "markdown",
   "metadata": {},
   "source": [
    "(0,0 ) ~> It seems that \"location 0\" had the highest proportion of survivors.\n",
    "\n",
    "(0,1) ~> As expected \"first class passengers\" have the highest proportion of survivors.\n",
    "\n",
    "(1,0) ~> Families had a higher chance of surviving\n",
    "\n",
    "(1,1) ~> Family with four or less members had the highest chances of survival\n"
   ]
  },
  {
   "cell_type": "markdown",
   "metadata": {},
   "source": [
    "Let's dig a bit deeper into the statistics surrounding Location 0"
   ]
  },
  {
   "cell_type": "code",
   "execution_count": 41,
   "metadata": {},
   "outputs": [
    {
     "data": {
      "text/plain": [
       "Text(0,0.5,'Age  (years)')"
      ]
     },
     "execution_count": 41,
     "metadata": {},
     "output_type": "execute_result"
    },
    {
     "data": {
      "image/png": "[encoded data removed]",
      "text/plain": [
       "<matplotlib.figure.Figure at 0x10bd60c88>"
      ]
     },
     "metadata": {},
     "output_type": "display_data"
    }
   ],
   "source": [
    "plt.figure(figsize=[12,12])\n",
    "\n",
    "plt.subplot(231)\n",
    "plt.boxplot(\n",
    "                        x=[train_copy[train_copy['Embarked']==0]['Age']],\n",
    "                        showmeans=True,\n",
    "                        meanline=True,\n",
    "           )\n",
    "plt.title(\"Age\")\n",
    "plt.ylabel(\"Ages (years)\")\n",
    "\n",
    "plt.subplot(232)\n",
    "plt.hist(\n",
    "    x=[train_copy[train_copy[\"Embarked\"] == 0 ][\"Sex\"] ],\n",
    ")\n",
    "plt.ylabel(\"Passengers (#)\")\n",
    "\n",
    "plt.subplot(234)\n",
    "sns.barplot(x=\"Pclass\",y=\"Sex\",data=train_copy[train_copy[\"Embarked\"] == 0])\n",
    "\n",
    "plt.subplot(235)\n",
    "#sns.barplot(x=\"Pclass\",y=\"Survived\",data=train_copy[train_copy[\"Embarked\"] == 0])\n",
    "plt.hist(\n",
    "        x = [train_copy[train_copy['Embarked'] == 0]['Age']]\n",
    ")\n",
    "plt.ylabel(\"Age  (years)\")"
   ]
  },
  {
   "cell_type": "markdown",
   "metadata": {},
   "source": [
    "The majority of passengers embarking from location 0 were male, yet the majority of passengers embarking from location 0 in first class were female.\n",
    "\n",
    "Unsurprisingly the highest proportion of passengers from first class survived."
   ]
  },
  {
   "cell_type": "code",
   "execution_count": 42,
   "metadata": {
    "scrolled": false
   },
   "outputs": [
    {
     "data": {
      "text/plain": [
       "<matplotlib.axes._subplots.AxesSubplot at 0x10c4736d8>"
      ]
     },
     "execution_count": 42,
     "metadata": {},
     "output_type": "execute_result"
    },
    {
     "data": {
      "image/png": "[encoded data removed]",
      "text/plain": [
       "<matplotlib.figure.Figure at 0x10c3b5668>"
      ]
     },
     "metadata": {},
     "output_type": "display_data"
    }
   ],
   "source": [
    "fig, axs = plt.subplots(1,3,figsize=(14,16))\n",
    "\n",
    "sns.boxplot(x=\"Sex\",y=\"Fare\",hue=\"Survived\",data=train_copy[train_copy[\"Embarked\"] == 0],ax = axs[0])\n",
    "sns.boxplot(x=\"Pclass\",y=\"Age\",hue='Sex',data=train_copy[train_copy[\"Embarked\"] == 0],ax = axs[1])\n",
    "sns.boxplot(x=\"Survived\",y=\"Age\",hue=\"Sex\",data=train_copy[train_copy[\"Embarked\"] == 0],ax=axs[2])"
   ]
  },
  {
   "cell_type": "markdown",
   "metadata": {},
   "source": [
    "Those that survived paid significantly more than those that did not. Unsurprisingly, women paid significantly more to survive than men.\n",
    "\n",
    "The difference in age of first class passengers seems to the be smallest, as opposed to a larger difference in age of passengers in second and third class.\n",
    "\n",
    "It seems that older passengers were given priority over the younger passengers.\n"
   ]
  },
  {
   "cell_type": "markdown",
   "metadata": {},
   "source": [
    "### Data Modelling"
   ]
  },
  {
   "cell_type": "markdown",
   "metadata": {},
   "source": [
    "Let's find the labels that explain the most variation in the data set"
   ]
  },
  {
   "cell_type": "code",
   "execution_count": 33,
   "metadata": {
    "collapsed": true
   },
   "outputs": [],
   "source": [
    "from sklearn.preprocessing import StandardScaler\n",
    "from sklearn.decomposition import PCA"
   ]
  },
  {
   "cell_type": "code",
   "execution_count": 34,
   "metadata": {
    "collapsed": true
   },
   "outputs": [],
   "source": [
    "std_transform = StandardScaler()"
   ]
  },
  {
   "cell_type": "code",
   "execution_count": 35,
   "metadata": {
    "collapsed": true
   },
   "outputs": [],
   "source": [
    "X_train_std = std_transform.fit_transform(X_train)"
   ]
  },
  {
   "cell_type": "code",
   "execution_count": 36,
   "metadata": {},
   "outputs": [
    {
     "data": {
      "text/plain": [
       "[<matplotlib.lines.Line2D at 0x10fb46898>]"
      ]
     },
     "execution_count": 36,
     "metadata": {},
     "output_type": "execute_result"
    },
    {
     "data": {
      "image/png": "[encoded data removed]",
      "text/plain": [
       "<matplotlib.figure.Figure at 0x10fb30a20>"
      ]
     },
     "metadata": {},
     "output_type": "display_data"
    }
   ],
   "source": [
    "pca = PCA(n_components=7)\n",
    "principal_components = pca.fit_transform(X_train_std)\n",
    "projected = pca.inverse_transform(principal_components)\n",
    "plt.plot(np.cumsum(pca.explained_variance_ratio_))"
   ]
  },
  {
   "cell_type": "markdown",
   "metadata": {},
   "source": [
    "90% of the variance is explained within 7 principal components"
   ]
  },
  {
   "cell_type": "code",
   "execution_count": 37,
   "metadata": {},
   "outputs": [
    {
     "data": {
      "text/plain": [
       "(891, 7)"
      ]
     },
     "execution_count": 37,
     "metadata": {},
     "output_type": "execute_result"
    }
   ],
   "source": [
    "principal_components.shape"
   ]
  },
  {
   "cell_type": "code",
   "execution_count": 38,
   "metadata": {
    "collapsed": true
   },
   "outputs": [],
   "source": [
    "#convert to numpy.ndarrays\n",
    "X_train = X_train.values\n",
    "Y_train = Y_train.values"
   ]
  },
  {
   "cell_type": "code",
   "execution_count": 39,
   "metadata": {
    "collapsed": true
   },
   "outputs": [],
   "source": [
    "acc_train_logreg = []"
   ]
  },
  {
   "cell_type": "code",
   "execution_count": 40,
   "metadata": {
    "collapsed": true
   },
   "outputs": [],
   "source": [
    "acc_test_logreg = []"
   ]
  },
  {
   "cell_type": "code",
   "execution_count": 41,
   "metadata": {
    "collapsed": true
   },
   "outputs": [],
   "source": [
    "c_logreg = [0.1,1,10,100,1000]"
   ]
  },
  {
   "cell_type": "code",
   "execution_count": 52,
   "metadata": {
    "collapsed": true
   },
   "outputs": [],
   "source": [
    "def logreg_model(c, X_train, Y_train,penalty):\n",
    "    '''\n",
    "        Author: Kyle Ong\n",
    "        Date: 05/13/2018\n",
    "        \n",
    "        fits a sklearn.linear_model.LogisticRegression(penalty = penalty, C=c, solver='saga')\n",
    "        to X_train and Y_train\n",
    "        \n",
    "        c: type: float\n",
    "        penalty: type: string\n",
    "        X_train: type: numpy.ndarray\n",
    "        Y_train: type: numpy.ndarray\n",
    "    \n",
    "    '''\n",
    "    logreg = linear_model.LogisticRegression(penalty=penalty, C=c ,solver='saga')\n",
    "    \n",
    "    with warnings.catch_warnings():\n",
    "        \n",
    "        warnings.filterwarnings('ignore',category=ConvergenceWarning)\n",
    "        \n",
    "        try:\n",
    "            logreg.fit(X_train,Y_train)\n",
    "            \n",
    "            y_hat = logreg.predict(X_train)\n",
    "            acc_train = np.mean(Y_train == y_hat)\n",
    "            print(\"This is the trainning accuracy with {} loss and {} c_val: {}\".format(penalty,c, acc_train))\n",
    "            \n",
    "        except Warning as w:\n",
    "            print(w)"
   ]
  },
  {
   "cell_type": "code",
   "execution_count": 53,
   "metadata": {},
   "outputs": [
    {
     "name": "stdout",
     "output_type": "stream",
     "text": [
      "This is the trainning accuracy with L1 loss and 100 c_val: 0.6835016835016835\n"
     ]
    }
   ],
   "source": [
    "logreg_model(100,X_train,Y_train,\"L1\")"
   ]
  },
  {
   "cell_type": "markdown",
   "metadata": {},
   "source": [
    "Let's try our logistic model with our principal components"
   ]
  },
  {
   "cell_type": "code",
   "execution_count": 54,
   "metadata": {},
   "outputs": [
    {
     "name": "stdout",
     "output_type": "stream",
     "text": [
      "This is the trainning accuracy with L1 loss and 100 c_val: 0.8024691358024691\n"
     ]
    }
   ],
   "source": [
    "logreg_model(100,principal_components,Y_train,\"L1\")"
   ]
  },
  {
   "cell_type": "code",
   "execution_count": 64,
   "metadata": {
    "collapsed": true
   },
   "outputs": [],
   "source": [
    "def train_logistic_model_with(X_train,Y_train,params):\n",
    "    '''\n",
    "            Author: Kyle Ong\n",
    "            Date: 05/12/2018\n",
    "            \n",
    "            will train sklearn.linear_model.LogisticRegression(penalty = penalty, C=c_val,solver='saga) over params\n",
    "            \n",
    "            X_train: type: numpy.ndarray\n",
    "            Y_train: type: numpy.ndarray\n",
    "            params: type: dict: {penalty:[c_vals]}\n",
    "    '''\n",
    "    for k,v in params.items():\n",
    "        \n",
    "        penalty = k\n",
    "        acc_train_array = []\n",
    "\n",
    "        for c_val in v:\n",
    "            #this is baest coding skills\n",
    "            log_model = 1\n",
    "            if penalty.lower() == \"l1\" :\n",
    "                log_model = linear_model.LogisticRegression(penalty=penalty, C=c_val,solver='saga')\n",
    "            \n",
    "            elif penalty.lower() == 'l2':\n",
    "                log_model = linear_model.LogisticRegression( C=c_val)\n",
    "                \n",
    "            with warnings.catch_warnings():\n",
    "                \n",
    "                warnings.filterwarnings('ignore', category=ConvergenceWarning)\n",
    "                \n",
    "                try:\n",
    "                     #fit the model\n",
    "                    log_model.fit(X_train,Y_train)  \n",
    "                    #train the model\n",
    "                    Y_hat = log_model.predict(X_train)\n",
    "            \n",
    "                    train_acc = np.mean(Y_hat == Y_train)\n",
    "            \n",
    "                    acc_train_array.append(train_acc)\n",
    "                    print(\"Accuracy with {} loss and c_val {} : {}\".format(penalty,c_val,train_acc))\n",
    "                    \n",
    "                    print(\"\\n\")\n",
    "                \n",
    "                except Warning as w:\n",
    "                    print (w)\n",
    "            \n",
    "\n",
    "      \n",
    "        "
   ]
  },
  {
   "cell_type": "code",
   "execution_count": 65,
   "metadata": {
    "collapsed": true
   },
   "outputs": [],
   "source": [
    "params = {\n",
    "    \"L1\":[0.1,1,10,100],\n",
    "    \"L2\":[0.1,1,10,100]\n",
    "         }"
   ]
  },
  {
   "cell_type": "code",
   "execution_count": 66,
   "metadata": {},
   "outputs": [
    {
     "name": "stdout",
     "output_type": "stream",
     "text": [
      "Accuracy with L1 loss and c_val 0.1 : 0.6835016835016835\n",
      "\n",
      "\n",
      "Accuracy with L1 loss and c_val 1 : 0.6835016835016835\n",
      "\n",
      "\n",
      "Accuracy with L1 loss and c_val 10 : 0.6835016835016835\n",
      "\n",
      "\n",
      "Accuracy with L1 loss and c_val 100 : 0.6835016835016835\n",
      "\n",
      "\n",
      "Accuracy with L2 loss and c_val 0.1 : 0.7991021324354658\n",
      "\n",
      "\n",
      "Accuracy with L2 loss and c_val 1 : 0.8002244668911336\n",
      "\n",
      "\n",
      "Accuracy with L2 loss and c_val 10 : 0.8002244668911336\n",
      "\n",
      "\n",
      "Accuracy with L2 loss and c_val 100 : 0.8035914702581369\n",
      "\n",
      "\n"
     ]
    }
   ],
   "source": [
    "train_logistic_model_with(X_train,Y_train,params)"
   ]
  },
  {
   "cell_type": "markdown",
   "metadata": {},
   "source": [
    "Let's try the logistic model with principal components!"
   ]
  },
  {
   "cell_type": "code",
   "execution_count": 67,
   "metadata": {},
   "outputs": [
    {
     "name": "stdout",
     "output_type": "stream",
     "text": [
      "Accuracy with L1 loss and c_val 0.1 : 0.8013468013468014\n",
      "\n",
      "\n",
      "Accuracy with L1 loss and c_val 1 : 0.8024691358024691\n",
      "\n",
      "\n",
      "Accuracy with L1 loss and c_val 10 : 0.8024691358024691\n",
      "\n",
      "\n",
      "Accuracy with L1 loss and c_val 100 : 0.8024691358024691\n",
      "\n",
      "\n",
      "Accuracy with L2 loss and c_val 0.1 : 0.8024691358024691\n",
      "\n",
      "\n",
      "Accuracy with L2 loss and c_val 1 : 0.8024691358024691\n",
      "\n",
      "\n",
      "Accuracy with L2 loss and c_val 10 : 0.8024691358024691\n",
      "\n",
      "\n",
      "Accuracy with L2 loss and c_val 100 : 0.8024691358024691\n",
      "\n",
      "\n"
     ]
    }
   ],
   "source": [
    "train_logistic_model_with(principal_components,Y_train,params)"
   ]
  },
  {
   "cell_type": "code",
   "execution_count": 68,
   "metadata": {
    "collapsed": true
   },
   "outputs": [],
   "source": [
    "# apply feature transformations!\n",
    "from sklearn.preprocessing import PolynomialFeatures"
   ]
  },
  {
   "cell_type": "code",
   "execution_count": 69,
   "metadata": {
    "collapsed": true
   },
   "outputs": [],
   "source": [
    "poly = PolynomialFeatures(2)"
   ]
  },
  {
   "cell_type": "code",
   "execution_count": 70,
   "metadata": {
    "collapsed": true
   },
   "outputs": [],
   "source": [
    "X_train_transformed = poly.fit_transform(X_train)\n",
    "labels = X_train_transformed.shape[1]\n",
    "observations = X_train_transformed.shape[0]"
   ]
  },
  {
   "cell_type": "code",
   "execution_count": 71,
   "metadata": {},
   "outputs": [
    {
     "name": "stdout",
     "output_type": "stream",
     "text": [
      "The transformed titanic dataset has 891 observations.\n",
      "The titanic dataset has 66 labels\n"
     ]
    }
   ],
   "source": [
    "print (\"The transformed titanic dataset has {} observations.\".format(observations))\n",
    "print(\"The titanic dataset has {} labels\".format(labels))"
   ]
  },
  {
   "cell_type": "code",
   "execution_count": 72,
   "metadata": {
    "scrolled": true
   },
   "outputs": [
    {
     "name": "stdout",
     "output_type": "stream",
     "text": [
      "Accuracy with L1 loss and c_val 0.1 : 0.675645342312009\n",
      "\n",
      "\n",
      "Accuracy with L1 loss and c_val 1 : 0.675645342312009\n",
      "\n",
      "\n",
      "Accuracy with L1 loss and c_val 10 : 0.675645342312009\n",
      "\n",
      "\n",
      "Accuracy with L1 loss and c_val 100 : 0.675645342312009\n",
      "\n",
      "\n",
      "Accuracy with L2 loss and c_val 0.1 : 0.8428731762065096\n",
      "\n",
      "\n",
      "Accuracy with L2 loss and c_val 1 : 0.8395061728395061\n",
      "\n",
      "\n",
      "Accuracy with L2 loss and c_val 10 : 0.8406285072951739\n",
      "\n",
      "\n",
      "Accuracy with L2 loss and c_val 100 : 0.8439955106621774\n",
      "\n",
      "\n"
     ]
    }
   ],
   "source": [
    "train_logistic_model_with(X_train_transformed,Y_train,params)"
   ]
  },
  {
   "cell_type": "code",
   "execution_count": 73,
   "metadata": {
    "collapsed": true
   },
   "outputs": [],
   "source": [
    "#split the trainning set into test and training set\n",
    "split = math.floor(num_samples*0.5)\n",
    "\n",
    "X_train_split = X_train[0 : split, :]\n",
    "X_test_split = X_train[split: , :  ]\n",
    "Y_train_split = Y_train[0:split]\n",
    "Y_test_split = Y_train[split: ]"
   ]
  },
  {
   "cell_type": "code",
   "execution_count": 74,
   "metadata": {
    "collapsed": true
   },
   "outputs": [],
   "source": [
    "principal_components_split = principal_components[0:split,:]\n",
    "principal_components_split_test = principal_components[split:,:]"
   ]
  },
  {
   "cell_type": "code",
   "execution_count": 75,
   "metadata": {},
   "outputs": [
    {
     "data": {
      "text/plain": [
       "array([[ 3.,  1., 22., ...,  2.,  0.,  2.],\n",
       "       [ 1.,  0., 38., ...,  2.,  0.,  3.],\n",
       "       [ 3.,  0., 26., ...,  1.,  1.,  1.],\n",
       "       ...,\n",
       "       [ 3.,  1., 25., ...,  2.,  0.,  2.],\n",
       "       [ 2.,  0., 28., ...,  1.,  1.,  4.],\n",
       "       [ 3.,  1., 28., ...,  1.,  1.,  2.]])"
      ]
     },
     "execution_count": 75,
     "metadata": {},
     "output_type": "execute_result"
    }
   ],
   "source": [
    "X_train_split"
   ]
  },
  {
   "cell_type": "code",
   "execution_count": 76,
   "metadata": {},
   "outputs": [
    {
     "name": "stdout",
     "output_type": "stream",
     "text": [
      "Training observations has shape: (445, 10)\n",
      "Training targets has shape: (445,)\n",
      "Testing observations has shape: (446, 10)\n"
     ]
    }
   ],
   "source": [
    "print(\"Training observations has shape: {}\".format(X_train_split.shape))\n",
    "print(\"Training targets has shape: {}\".format(Y_train_split.shape))\n",
    "print(\"Testing observations has shape: {}\".format(X_test_split.shape))"
   ]
  },
  {
   "cell_type": "code",
   "execution_count": 77,
   "metadata": {},
   "outputs": [
    {
     "name": "stdout",
     "output_type": "stream",
     "text": [
      "Training observations(Principal Components) has shape: (445, 7)\n",
      "Training targets has shape: (445,)\n",
      "Testing observations(Principal Componets) has shape: (446, 7)\n"
     ]
    }
   ],
   "source": [
    "print(\"Training observations(Principal Components) has shape: {}\".format(principal_components_split.shape))\n",
    "print(\"Training targets has shape: {}\".format(Y_train_split.shape))\n",
    "print(\"Testing observations(Principal Componets) has shape: {}\".format(principal_components_split_test.shape))"
   ]
  },
  {
   "cell_type": "code",
   "execution_count": 81,
   "metadata": {
    "collapsed": true
   },
   "outputs": [],
   "source": [
    "def test_logistic_model_with(X_train,Y_train,X_test,Y_test,params):\n",
    "    '''\n",
    "            Author: Kyle Ong\n",
    "            Date 05/13/2018\n",
    "            \n",
    "            trains and tests linear_model.LogisticRegression()\n",
    "            \n",
    "            X_train:type: numpy.ndarray\n",
    "            Y_train: type: numpy.ndarray\n",
    "            X_test: type: numpy.ndarray\n",
    "            Y_test: type: numpy.ndarray\n",
    "            params: type: dict {penalty : [c_val]}\n",
    "    '''\n",
    "    for k,v in params.items():\n",
    "        \n",
    "        penalty = k\n",
    "        acc_train_array = []\n",
    "        acc_test_arr = []\n",
    "\n",
    "        for c_val in v:\n",
    "            #this is baest coding skills\n",
    "            log_model = 1\n",
    "            if penalty.lower() == \"l1\" :\n",
    "                log_model = linear_model.LogisticRegression(penalty=penalty, C=c_val,solver='saga')\n",
    "            \n",
    "            elif penalty.lower() == 'l2':\n",
    "                log_model = linear_model.LogisticRegression( C=c_val)\n",
    "               \n",
    "            #uncoment context manager in order to get the convergence warning!\n",
    "            with warnings.catch_warnings():\n",
    "                warnings.filterwarnings('ignore', category=ConvergenceWarning)\n",
    "                try:\n",
    "                     #fit the model\n",
    "                    log_model.fit(X_train,Y_train)  \n",
    "                \n",
    "                    #train the model\n",
    "                    Y_hat = log_model.predict(X_train)\n",
    "                    train_acc = np.mean(Y_hat == Y_train)\n",
    "                    acc_train_array.append(train_acc)\n",
    "                    print(\"Training() ~> Accuracy with {} loss and c_val {} : {}\".format(penalty,c_val,train_acc))\n",
    "                \n",
    "                    #test the model\n",
    "                    Y_hat_test = log_model.predict(X_test)\n",
    "                    acc_test =np.mean(Y_test == Y_hat_test)\n",
    "                    acc_test_arr.append(acc_test)\n",
    "                    print(\"Testing ~> Accuracy with {} loss and c_val {}: {}\".format(penalty,c_val,acc_test))\n",
    "                    \n",
    "                    print(\"\\n\")\n",
    "                    \n",
    "                \n",
    "                except Warning as w:\n",
    "                    print(w)\n",
    "                    \n",
    "        plt.plot(v,acc_test_arr)\n",
    "        #plt.xlabel('C values')\n",
    "        plt.ylabel('Test accuracy')\n",
    "                \n"
   ]
  },
  {
   "cell_type": "code",
   "execution_count": 82,
   "metadata": {
    "scrolled": false
   },
   "outputs": [
    {
     "name": "stdout",
     "output_type": "stream",
     "text": [
      "Training() ~> Accuracy with L1 loss and c_val 0.1 : 0.6696629213483146\n",
      "Testing ~> Accuracy with L1 loss and c_val 0.1: 0.6860986547085202\n",
      "\n",
      "\n",
      "Training() ~> Accuracy with L1 loss and c_val 1 : 0.6696629213483146\n",
      "Testing ~> Accuracy with L1 loss and c_val 1: 0.6860986547085202\n",
      "\n",
      "\n",
      "Training() ~> Accuracy with L1 loss and c_val 10 : 0.6696629213483146\n",
      "Testing ~> Accuracy with L1 loss and c_val 10: 0.6860986547085202\n",
      "\n",
      "\n",
      "Training() ~> Accuracy with L1 loss and c_val 100 : 0.6696629213483146\n",
      "Testing ~> Accuracy with L1 loss and c_val 100: 0.6860986547085202\n",
      "\n",
      "\n",
      "Training() ~> Accuracy with L2 loss and c_val 0.1 : 0.802247191011236\n",
      "Testing ~> Accuracy with L2 loss and c_val 0.1: 0.7825112107623319\n",
      "\n",
      "\n",
      "Training() ~> Accuracy with L2 loss and c_val 1 : 0.8067415730337079\n",
      "Testing ~> Accuracy with L2 loss and c_val 1: 0.7869955156950673\n",
      "\n",
      "\n",
      "Training() ~> Accuracy with L2 loss and c_val 10 : 0.8112359550561797\n",
      "Testing ~> Accuracy with L2 loss and c_val 10: 0.7959641255605381\n",
      "\n",
      "\n",
      "Training() ~> Accuracy with L2 loss and c_val 100 : 0.8089887640449438\n",
      "Testing ~> Accuracy with L2 loss and c_val 100: 0.7982062780269058\n",
      "\n",
      "\n"
     ]
    },
    {
     "data": {
      "image/png": "[encoded data removed]",
      "text/plain": [
       "<matplotlib.figure.Figure at 0x11d0aad68>"
      ]
     },
     "metadata": {},
     "output_type": "display_data"
    }
   ],
   "source": [
    "test_logistic_model_with(X_train_split,Y_train_split,X_test_split,Y_test_split,params)"
   ]
  },
  {
   "cell_type": "markdown",
   "metadata": {},
   "source": [
    "Let's try this with principal components"
   ]
  },
  {
   "cell_type": "code",
   "execution_count": 83,
   "metadata": {},
   "outputs": [
    {
     "name": "stdout",
     "output_type": "stream",
     "text": [
      "Training() ~> Accuracy with L1 loss and c_val 0.1 : 0.802247191011236\n",
      "Testing ~> Accuracy with L1 loss and c_val 0.1: 0.7914798206278026\n",
      "\n",
      "\n",
      "Training() ~> Accuracy with L1 loss and c_val 1 : 0.802247191011236\n",
      "Testing ~> Accuracy with L1 loss and c_val 1: 0.7937219730941704\n",
      "\n",
      "\n",
      "Training() ~> Accuracy with L1 loss and c_val 10 : 0.802247191011236\n",
      "Testing ~> Accuracy with L1 loss and c_val 10: 0.7959641255605381\n",
      "\n",
      "\n",
      "Training() ~> Accuracy with L1 loss and c_val 100 : 0.802247191011236\n",
      "Testing ~> Accuracy with L1 loss and c_val 100: 0.7959641255605381\n",
      "\n",
      "\n",
      "Training() ~> Accuracy with L2 loss and c_val 0.1 : 0.8\n",
      "Testing ~> Accuracy with L2 loss and c_val 0.1: 0.7959641255605381\n",
      "\n",
      "\n",
      "Training() ~> Accuracy with L2 loss and c_val 1 : 0.802247191011236\n",
      "Testing ~> Accuracy with L2 loss and c_val 1: 0.7959641255605381\n",
      "\n",
      "\n",
      "Training() ~> Accuracy with L2 loss and c_val 10 : 0.802247191011236\n",
      "Testing ~> Accuracy with L2 loss and c_val 10: 0.7959641255605381\n",
      "\n",
      "\n",
      "Training() ~> Accuracy with L2 loss and c_val 100 : 0.802247191011236\n",
      "Testing ~> Accuracy with L2 loss and c_val 100: 0.7959641255605381\n",
      "\n",
      "\n"
     ]
    },
    {
     "data": {
      "image/png": "[encoded data removed]",
      "text/plain": [
       "<matplotlib.figure.Figure at 0x10fb49be0>"
      ]
     },
     "metadata": {},
     "output_type": "display_data"
    }
   ],
   "source": [
    "test_logistic_model_with(principal_components_split,Y_train_split,principal_components_split_test,Y_test_split,params)"
   ]
  },
  {
   "cell_type": "code",
   "execution_count": 72,
   "metadata": {
    "collapsed": true
   },
   "outputs": [],
   "source": [
    "X_train_split_transformed = poly.fit_transform(X_train_split)\n",
    "X_test_split_transformed = poly.fit_transform(X_test_split)"
   ]
  },
  {
   "cell_type": "code",
   "execution_count": 73,
   "metadata": {},
   "outputs": [
    {
     "name": "stdout",
     "output_type": "stream",
     "text": [
      "(445, 66)\n"
     ]
    }
   ],
   "source": [
    "print(X_train_split_transformed.shape)"
   ]
  },
  {
   "cell_type": "code",
   "execution_count": 74,
   "metadata": {},
   "outputs": [
    {
     "name": "stdout",
     "output_type": "stream",
     "text": [
      "Accuracy with L1 loss and c_val 0.1 : 0.6404494382022472\n",
      "Accuracy with L1 loss and c_val 1 : 0.6404494382022472\n",
      "Accuracy with L1 loss and c_val 10 : 0.6404494382022472\n",
      "Accuracy with L1 loss and c_val 100 : 0.6404494382022472\n",
      "Accuracy with L2 loss and c_val 0.1 : 0.8404494382022472\n",
      "Accuracy with L2 loss and c_val 1 : 0.8539325842696629\n",
      "Accuracy with L2 loss and c_val 10 : 0.8539325842696629\n",
      "Accuracy with L2 loss and c_val 100 : 0.8629213483146068\n"
     ]
    }
   ],
   "source": [
    "train_logistic_model_with(X_train_split_transformed,Y_train_split,params)"
   ]
  },
  {
   "cell_type": "code",
   "execution_count": 75,
   "metadata": {},
   "outputs": [
    {
     "name": "stdout",
     "output_type": "stream",
     "text": [
      "Training() ~> Accuracy with L1 loss and c_val 0.1 : \n",
      "0.6404494382022472\n",
      "Testing ~> Accuracy with L1 loss and c_val 0.1: \n",
      "0.6816143497757847\n",
      "Training() ~> Accuracy with L1 loss and c_val 1 : \n",
      "0.6404494382022472\n",
      "Testing ~> Accuracy with L1 loss and c_val 1: \n",
      "0.6816143497757847\n",
      "Training() ~> Accuracy with L1 loss and c_val 10 : \n",
      "0.6404494382022472\n",
      "Testing ~> Accuracy with L1 loss and c_val 10: \n",
      "0.6816143497757847\n",
      "Training() ~> Accuracy with L1 loss and c_val 100 : \n",
      "0.6404494382022472\n",
      "Testing ~> Accuracy with L1 loss and c_val 100: \n",
      "0.6816143497757847\n",
      "Training() ~> Accuracy with L2 loss and c_val 0.1 : \n",
      "0.8404494382022472\n",
      "Testing ~> Accuracy with L2 loss and c_val 0.1: \n",
      "0.8116591928251121\n",
      "Training() ~> Accuracy with L2 loss and c_val 1 : \n",
      "0.8539325842696629\n",
      "Testing ~> Accuracy with L2 loss and c_val 1: \n",
      "0.8071748878923767\n",
      "Training() ~> Accuracy with L2 loss and c_val 10 : \n",
      "0.8539325842696629\n",
      "Testing ~> Accuracy with L2 loss and c_val 10: \n",
      "0.804932735426009\n",
      "Training() ~> Accuracy with L2 loss and c_val 100 : \n",
      "0.851685393258427\n",
      "Testing ~> Accuracy with L2 loss and c_val 100: \n",
      "0.8094170403587444\n"
     ]
    },
    {
     "data": {
      "image/png": "[encoded data removed]",
      "text/plain": [
       "<matplotlib.figure.Figure at 0x10c7a5710>"
      ]
     },
     "metadata": {},
     "output_type": "display_data"
    }
   ],
   "source": [
    "test_logistic_model_with(X_train_split_transformed,Y_train_split,X_test_split_transformed,Y_test_split,params)"
   ]
  },
  {
   "cell_type": "code",
   "execution_count": 76,
   "metadata": {
    "collapsed": true
   },
   "outputs": [],
   "source": [
    "# let's try support vector machines!\n",
    "from sklearn import svm"
   ]
  },
  {
   "cell_type": "code",
   "execution_count": 52,
   "metadata": {
    "collapsed": true
   },
   "outputs": [],
   "source": [
    "def svm_linear(c,X_train,Y_train,X_test,Y_test):\n",
    "    '''\n",
    "            Author: Kyle Ong\n",
    "            Date: 05/13/2018\n",
    "            \n",
    "            fits a svm.SVC(probability = False, kernel = 'linear', C = c) to X_train and Y_train\n",
    "            calculates the training and test accuracies \n",
    "            \n",
    "            c: type: int\n",
    "            X_train: numpy.ndarray\n",
    "            Y_train: numpy.ndarray\n",
    "            X_test: numpy.ndarray\n",
    "            Y_test: numpy.ndarray\n",
    "            \n",
    "            will ignore convergence warnings thrown by sklearn\n",
    "    \n",
    "    '''\n",
    "    \n",
    "    linear = svm.SVC(probability=False, kernel='linear',C=c)\n",
    "    \n",
    "    with warnings.catch_warnings():\n",
    "        warnings.filterwarnings('ignore', category=ConvergenceWarning)\n",
    "        \n",
    "        try:\n",
    "\n",
    "            linear.fit(X_train,Y_train)\n",
    "            \n",
    "            Y_hat_train = linear.predict(X_train)\n",
    "            train_acc =np.mean(Y_hat_train == Y_train)\n",
    "            print(\"Training ~> This is the training accuracy with Linear kernel and c_val {}: {}\".format(c,train_acc))\n",
    "            \n",
    "            \n",
    "            Y_hat_test = linear.predict(X_test)\n",
    "            test_acc = np.mean(Y_hat_test == Y_test)\n",
    "            linear_test_acc.append(test_acc)\n",
    "            print(\"Testing ~> This is the testing accuracy with Linear kernel and c_val {}:  {}\".format(c,test_acc))\n",
    "            \n",
    "            print(\"\\n\")\n",
    "        \n",
    "        except Warning as w:\n",
    "            print(w)\n",
    "            \n",
    "            "
   ]
  },
  {
   "cell_type": "code",
   "execution_count": 53,
   "metadata": {
    "collapsed": true
   },
   "outputs": [],
   "source": [
    "c_vals = [0.1,1,10,100]"
   ]
  },
  {
   "cell_type": "code",
   "execution_count": 54,
   "metadata": {},
   "outputs": [
    {
     "name": "stdout",
     "output_type": "stream",
     "text": [
      "Training ~> This is the training accuracy with Linear kernel and c_val 0.1: 0.8\n",
      "Testing ~> This is the testing accuracy with Linear kernel and c_val 0.1:  0.773542600896861\n",
      "\n",
      "\n",
      "Training ~> This is the training accuracy with Linear kernel and c_val 1: 0.8\n",
      "Testing ~> This is the testing accuracy with Linear kernel and c_val 1:  0.773542600896861\n",
      "\n",
      "\n",
      "Training ~> This is the training accuracy with Linear kernel and c_val 10: 0.8\n",
      "Testing ~> This is the testing accuracy with Linear kernel and c_val 10:  0.773542600896861\n",
      "\n",
      "\n",
      "Training ~> This is the training accuracy with Linear kernel and c_val 100: 0.802247191011236\n",
      "Testing ~> This is the testing accuracy with Linear kernel and c_val 100:  0.7825112107623319\n",
      "\n",
      "\n"
     ]
    }
   ],
   "source": [
    "linear_test_acc = []\n",
    "for c in c_vals:\n",
    "    svm_linear(c,X_train_split,Y_train_split,X_test_split,Y_test_split)"
   ]
  },
  {
   "cell_type": "code",
   "execution_count": 80,
   "metadata": {
    "scrolled": true
   },
   "outputs": [
    {
     "data": {
      "text/plain": [
       "Text(0,0.5,'linear kernel test accuracies')"
      ]
     },
     "execution_count": 80,
     "metadata": {},
     "output_type": "execute_result"
    },
    {
     "data": {
      "image/png": "[encoded data removed]",
      "text/plain": [
       "<matplotlib.figure.Figure at 0x112bff898>"
      ]
     },
     "metadata": {},
     "output_type": "display_data"
    }
   ],
   "source": [
    "plt.plot(c_vals,linear_test_acc)\n",
    "#plt.xlabel(\"C values\")\n",
    "plt.ylabel(\"linear kernel test accuracies\")"
   ]
  },
  {
   "cell_type": "markdown",
   "metadata": {},
   "source": [
    "Let's try that with our principal components"
   ]
  },
  {
   "cell_type": "code",
   "execution_count": 57,
   "metadata": {
    "scrolled": true
   },
   "outputs": [
    {
     "name": "stdout",
     "output_type": "stream",
     "text": [
      "Training ~> This is the training accuracy with Linear kernel and c_val 0.1: 0.802247191011236\n",
      "Testing ~> This is the testing accuracy with Linear kernel and c_val 0.1:  0.7780269058295964\n",
      "\n",
      "\n",
      "Training ~> This is the training accuracy with Linear kernel and c_val 1: 0.802247191011236\n",
      "Testing ~> This is the testing accuracy with Linear kernel and c_val 1:  0.7780269058295964\n",
      "\n",
      "\n",
      "Training ~> This is the training accuracy with Linear kernel and c_val 10: 0.802247191011236\n",
      "Testing ~> This is the testing accuracy with Linear kernel and c_val 10:  0.7780269058295964\n",
      "\n",
      "\n",
      "Training ~> This is the training accuracy with Linear kernel and c_val 100: 0.802247191011236\n",
      "Testing ~> This is the testing accuracy with Linear kernel and c_val 100:  0.7780269058295964\n",
      "\n",
      "\n"
     ]
    }
   ],
   "source": [
    "linear_test_acc = []\n",
    "for c in c_vals:\n",
    "    svm_linear(c,principal_components_split,Y_train_split,principal_components_split_test,Y_test_split)"
   ]
  },
  {
   "cell_type": "code",
   "execution_count": 82,
   "metadata": {},
   "outputs": [
    {
     "data": {
      "text/plain": [
       "Text(0,0.5,'linear kernel test accuracies')"
      ]
     },
     "execution_count": 82,
     "metadata": {},
     "output_type": "execute_result"
    },
    {
     "data": {
      "image/png": "[encoded data removed]",
      "text/plain": [
       "<matplotlib.figure.Figure at 0x112bff470>"
      ]
     },
     "metadata": {},
     "output_type": "display_data"
    }
   ],
   "source": [
    "plt.plot(c_vals,linear_test_acc)\n",
    "#plt.xlabel(\"C values\")\n",
    "plt.ylabel(\"linear kernel test accuracies\")"
   ]
  },
  {
   "cell_type": "code",
   "execution_count": 83,
   "metadata": {
    "collapsed": true
   },
   "outputs": [],
   "source": [
    "def svm_rbf(c,X_train,Y_train,X_test,Y_test,gamma):\n",
    "    '''\n",
    "        Author: Kyle Ong\n",
    "        Date: 05/13/2018\n",
    "        \n",
    "        will fit a svm.SVC(probability = False, kernel = 'rbf', gamma = gamma) to X_train and Y_train\n",
    "        will calculate the train accuracy\n",
    "        will calcuate the test accuracy\n",
    "        \n",
    "        c: type: int\n",
    "        X_train: numpy.ndarray\n",
    "        Y_train: numpy.ndarray\n",
    "        X_test: numpy.ndarray\n",
    "        Y_test: numpy.ndarray\n",
    "        gamma: int\n",
    "        \n",
    "        will ignore convergence warnings thrown by sklearn    \n",
    "    '''\n",
    "    \n",
    "    svm_rbf = svm.SVC(probability=False, kernel='rbf',gamma=gamma)\n",
    "    \n",
    "    with warnings.catch_warnings():\n",
    "        warnings.filterwarnings('ignore',category=ConvergenceWarning)\n",
    "        \n",
    "        try:\n",
    "            svm_rbf.fit(X_train,Y_train)\n",
    "            \n",
    "            Y_hat_train = svm_rbf.predict(X_train)\n",
    "            train_acc = np.mean(Y_hat_train == Y_train)\n",
    "            print(\"This is the trainning accuracy with  Radial Basis Kernel and c_val {} and gamma {} : {}\".format(c,gamma,train_acc))\n",
    "            \n",
    "            Y_hat_test = svm_rbf.predict(X_test)\n",
    "            test_acc = np.mean(Y_hat_test == Y_test)\n",
    "            print(\"This is the testing accuracy with  Radial Basis Kernel and c_val {} and gamma {} : {}\".format(c,gamma,test_acc))\n",
    "            \n",
    "            print(\"\\n\")\n",
    "            rbf_test_acc.append(test_acc)\n",
    "            \n",
    "        except Warning as w:\n",
    "            print(w)\n"
   ]
  },
  {
   "cell_type": "code",
   "execution_count": 84,
   "metadata": {
    "collapsed": true
   },
   "outputs": [],
   "source": [
    "params = {\n",
    "    0.1: [0.1,1,10,100],\n",
    "    1 :  [0.1,1,10,100],\n",
    "    10 :  [0.1,1,10,100],\n",
    "    100 :  [0.1,1,10,100]\n",
    "}"
   ]
  },
  {
   "cell_type": "code",
   "execution_count": 85,
   "metadata": {
    "scrolled": true
   },
   "outputs": [
    {
     "name": "stdout",
     "output_type": "stream",
     "text": [
      "This is the trainning accuracy with  Radial Basis Kernel and c_val 0.1 and gamma 0.1 : 0.903370786516854\n",
      "This is the testing accuracy with  Radial Basis Kernel and c_val 0.1 and gamma 0.1 : 0.695067264573991\n",
      "\n",
      "\n",
      "This is the trainning accuracy with  Radial Basis Kernel and c_val 0.1 and gamma 1 : 0.9617977528089887\n",
      "This is the testing accuracy with  Radial Basis Kernel and c_val 0.1 and gamma 1 : 0.6233183856502242\n",
      "\n",
      "\n",
      "This is the trainning accuracy with  Radial Basis Kernel and c_val 0.1 and gamma 10 : 0.9707865168539326\n",
      "This is the testing accuracy with  Radial Basis Kernel and c_val 0.1 and gamma 10 : 0.6121076233183856\n",
      "\n",
      "\n",
      "This is the trainning accuracy with  Radial Basis Kernel and c_val 0.1 and gamma 100 : 0.9797752808988764\n",
      "This is the testing accuracy with  Radial Basis Kernel and c_val 0.1 and gamma 100 : 0.6300448430493274\n",
      "\n",
      "\n",
      "This is the trainning accuracy with  Radial Basis Kernel and c_val 1 and gamma 0.1 : 0.903370786516854\n",
      "This is the testing accuracy with  Radial Basis Kernel and c_val 1 and gamma 0.1 : 0.695067264573991\n",
      "\n",
      "\n",
      "This is the trainning accuracy with  Radial Basis Kernel and c_val 1 and gamma 1 : 0.9617977528089887\n",
      "This is the testing accuracy with  Radial Basis Kernel and c_val 1 and gamma 1 : 0.6233183856502242\n",
      "\n",
      "\n",
      "This is the trainning accuracy with  Radial Basis Kernel and c_val 1 and gamma 10 : 0.9707865168539326\n",
      "This is the testing accuracy with  Radial Basis Kernel and c_val 1 and gamma 10 : 0.6121076233183856\n",
      "\n",
      "\n",
      "This is the trainning accuracy with  Radial Basis Kernel and c_val 1 and gamma 100 : 0.9797752808988764\n",
      "This is the testing accuracy with  Radial Basis Kernel and c_val 1 and gamma 100 : 0.6300448430493274\n",
      "\n",
      "\n",
      "This is the trainning accuracy with  Radial Basis Kernel and c_val 10 and gamma 0.1 : 0.903370786516854\n",
      "This is the testing accuracy with  Radial Basis Kernel and c_val 10 and gamma 0.1 : 0.695067264573991\n",
      "\n",
      "\n",
      "This is the trainning accuracy with  Radial Basis Kernel and c_val 10 and gamma 1 : 0.9617977528089887\n",
      "This is the testing accuracy with  Radial Basis Kernel and c_val 10 and gamma 1 : 0.6233183856502242\n",
      "\n",
      "\n",
      "This is the trainning accuracy with  Radial Basis Kernel and c_val 10 and gamma 10 : 0.9707865168539326\n",
      "This is the testing accuracy with  Radial Basis Kernel and c_val 10 and gamma 10 : 0.6121076233183856\n",
      "\n",
      "\n",
      "This is the trainning accuracy with  Radial Basis Kernel and c_val 10 and gamma 100 : 0.9797752808988764\n",
      "This is the testing accuracy with  Radial Basis Kernel and c_val 10 and gamma 100 : 0.6300448430493274\n",
      "\n",
      "\n",
      "This is the trainning accuracy with  Radial Basis Kernel and c_val 100 and gamma 0.1 : 0.903370786516854\n",
      "This is the testing accuracy with  Radial Basis Kernel and c_val 100 and gamma 0.1 : 0.695067264573991\n",
      "\n",
      "\n",
      "This is the trainning accuracy with  Radial Basis Kernel and c_val 100 and gamma 1 : 0.9617977528089887\n",
      "This is the testing accuracy with  Radial Basis Kernel and c_val 100 and gamma 1 : 0.6233183856502242\n",
      "\n",
      "\n",
      "This is the trainning accuracy with  Radial Basis Kernel and c_val 100 and gamma 10 : 0.9707865168539326\n",
      "This is the testing accuracy with  Radial Basis Kernel and c_val 100 and gamma 10 : 0.6121076233183856\n",
      "\n",
      "\n",
      "This is the trainning accuracy with  Radial Basis Kernel and c_val 100 and gamma 100 : 0.9797752808988764\n",
      "This is the testing accuracy with  Radial Basis Kernel and c_val 100 and gamma 100 : 0.6300448430493274\n",
      "\n",
      "\n"
     ]
    },
    {
     "data": {
      "image/png": "[encoded data removed]",
      "text/plain": [
       "<matplotlib.figure.Figure at 0x112e06198>"
      ]
     },
     "metadata": {},
     "output_type": "display_data"
    }
   ],
   "source": [
    "for k,v in params.items():\n",
    "    \n",
    "    rbf_test_acc = []\n",
    "    c_val = k\n",
    "    \n",
    "    for gamma in v:\n",
    "        svm_rbf(c_val,X_train_split,Y_train_split,X_test_split,Y_test_split,gamma)\n",
    "        \n",
    "    plt.plot(v,rbf_test_acc)\n",
    "    #plt.xlabel(\"C Value\")\n",
    "    plt.ylabel(\"Test accuracies\")"
   ]
  },
  {
   "cell_type": "code",
   "execution_count": 86,
   "metadata": {
    "scrolled": true
   },
   "outputs": [
    {
     "name": "stdout",
     "output_type": "stream",
     "text": [
      "This is the trainning accuracy with  Radial Basis Kernel and c_val 0.1 and gamma 0.1 : 0.9797752808988764\n",
      "This is the testing accuracy with  Radial Basis Kernel and c_val 0.1 and gamma 0.1 : 0.6300448430493274\n",
      "\n",
      "\n",
      "This is the trainning accuracy with  Radial Basis Kernel and c_val 0.1 and gamma 1 : 0.9820224719101124\n",
      "This is the testing accuracy with  Radial Basis Kernel and c_val 0.1 and gamma 1 : 0.625560538116592\n",
      "\n",
      "\n",
      "This is the trainning accuracy with  Radial Basis Kernel and c_val 0.1 and gamma 10 : 0.9820224719101124\n",
      "This is the testing accuracy with  Radial Basis Kernel and c_val 0.1 and gamma 10 : 0.6233183856502242\n",
      "\n",
      "\n",
      "This is the trainning accuracy with  Radial Basis Kernel and c_val 0.1 and gamma 100 : 0.9865168539325843\n",
      "This is the testing accuracy with  Radial Basis Kernel and c_val 0.1 and gamma 100 : 0.6121076233183856\n",
      "\n",
      "\n",
      "This is the trainning accuracy with  Radial Basis Kernel and c_val 1 and gamma 0.1 : 0.9797752808988764\n",
      "This is the testing accuracy with  Radial Basis Kernel and c_val 1 and gamma 0.1 : 0.6300448430493274\n",
      "\n",
      "\n",
      "This is the trainning accuracy with  Radial Basis Kernel and c_val 1 and gamma 1 : 0.9820224719101124\n",
      "This is the testing accuracy with  Radial Basis Kernel and c_val 1 and gamma 1 : 0.625560538116592\n",
      "\n",
      "\n",
      "This is the trainning accuracy with  Radial Basis Kernel and c_val 1 and gamma 10 : 0.9820224719101124\n",
      "This is the testing accuracy with  Radial Basis Kernel and c_val 1 and gamma 10 : 0.6233183856502242\n",
      "\n",
      "\n",
      "This is the trainning accuracy with  Radial Basis Kernel and c_val 1 and gamma 100 : 0.9865168539325843\n",
      "This is the testing accuracy with  Radial Basis Kernel and c_val 1 and gamma 100 : 0.6121076233183856\n",
      "\n",
      "\n",
      "This is the trainning accuracy with  Radial Basis Kernel and c_val 10 and gamma 0.1 : 0.9797752808988764\n",
      "This is the testing accuracy with  Radial Basis Kernel and c_val 10 and gamma 0.1 : 0.6300448430493274\n",
      "\n",
      "\n",
      "This is the trainning accuracy with  Radial Basis Kernel and c_val 10 and gamma 1 : 0.9820224719101124\n",
      "This is the testing accuracy with  Radial Basis Kernel and c_val 10 and gamma 1 : 0.625560538116592\n",
      "\n",
      "\n",
      "This is the trainning accuracy with  Radial Basis Kernel and c_val 10 and gamma 10 : 0.9820224719101124\n",
      "This is the testing accuracy with  Radial Basis Kernel and c_val 10 and gamma 10 : 0.6233183856502242\n",
      "\n",
      "\n",
      "This is the trainning accuracy with  Radial Basis Kernel and c_val 10 and gamma 100 : 0.9865168539325843\n",
      "This is the testing accuracy with  Radial Basis Kernel and c_val 10 and gamma 100 : 0.6121076233183856\n",
      "\n",
      "\n",
      "This is the trainning accuracy with  Radial Basis Kernel and c_val 100 and gamma 0.1 : 0.9797752808988764\n",
      "This is the testing accuracy with  Radial Basis Kernel and c_val 100 and gamma 0.1 : 0.6300448430493274\n",
      "\n",
      "\n",
      "This is the trainning accuracy with  Radial Basis Kernel and c_val 100 and gamma 1 : 0.9820224719101124\n",
      "This is the testing accuracy with  Radial Basis Kernel and c_val 100 and gamma 1 : 0.625560538116592\n",
      "\n",
      "\n",
      "This is the trainning accuracy with  Radial Basis Kernel and c_val 100 and gamma 10 : 0.9820224719101124\n",
      "This is the testing accuracy with  Radial Basis Kernel and c_val 100 and gamma 10 : 0.6233183856502242\n",
      "\n",
      "\n",
      "This is the trainning accuracy with  Radial Basis Kernel and c_val 100 and gamma 100 : 0.9865168539325843\n",
      "This is the testing accuracy with  Radial Basis Kernel and c_val 100 and gamma 100 : 0.6121076233183856\n",
      "\n",
      "\n"
     ]
    },
    {
     "data": {
      "image/png": "[encoded data removed]",
      "text/plain": [
       "<matplotlib.figure.Figure at 0x112deb2e8>"
      ]
     },
     "metadata": {},
     "output_type": "display_data"
    }
   ],
   "source": [
    "for k,v in params.items():\n",
    "    \n",
    "    rbf_test_acc = []\n",
    "    c_val = k\n",
    "    \n",
    "    for gamma in v:\n",
    "        svm_rbf(c_val,X_train_split_transformed,Y_train_split,X_test_split_transformed,Y_test_split,gamma)\n",
    "        \n",
    "    plt.plot(v,rbf_test_acc)\n",
    "    plt.xlabel(\"C Value\")\n",
    "    plt.ylabel(\"Test accuracies\")"
   ]
  },
  {
   "cell_type": "code",
   "execution_count": 87,
   "metadata": {
    "scrolled": true
   },
   "outputs": [
    {
     "name": "stdout",
     "output_type": "stream",
     "text": [
      "This is the trainning accuracy with  Radial Basis Kernel and c_val 0.1 and gamma 0.1 : 0.8404494382022472\n",
      "This is the testing accuracy with  Radial Basis Kernel and c_val 0.1 and gamma 0.1 : 0.8340807174887892\n",
      "\n",
      "\n",
      "This is the trainning accuracy with  Radial Basis Kernel and c_val 0.1 and gamma 1 : 0.8853932584269663\n",
      "This is the testing accuracy with  Radial Basis Kernel and c_val 0.1 and gamma 1 : 0.7780269058295964\n",
      "\n",
      "\n",
      "This is the trainning accuracy with  Radial Basis Kernel and c_val 0.1 and gamma 10 : 0.9191011235955057\n",
      "This is the testing accuracy with  Radial Basis Kernel and c_val 0.1 and gamma 10 : 0.6816143497757847\n",
      "\n",
      "\n",
      "This is the trainning accuracy with  Radial Basis Kernel and c_val 0.1 and gamma 100 : 0.950561797752809\n",
      "This is the testing accuracy with  Radial Basis Kernel and c_val 0.1 and gamma 100 : 0.6210762331838565\n",
      "\n",
      "\n",
      "This is the trainning accuracy with  Radial Basis Kernel and c_val 1 and gamma 0.1 : 0.8404494382022472\n",
      "This is the testing accuracy with  Radial Basis Kernel and c_val 1 and gamma 0.1 : 0.8340807174887892\n",
      "\n",
      "\n",
      "This is the trainning accuracy with  Radial Basis Kernel and c_val 1 and gamma 1 : 0.8853932584269663\n",
      "This is the testing accuracy with  Radial Basis Kernel and c_val 1 and gamma 1 : 0.7780269058295964\n",
      "\n",
      "\n",
      "This is the trainning accuracy with  Radial Basis Kernel and c_val 1 and gamma 10 : 0.9191011235955057\n",
      "This is the testing accuracy with  Radial Basis Kernel and c_val 1 and gamma 10 : 0.6816143497757847\n",
      "\n",
      "\n",
      "This is the trainning accuracy with  Radial Basis Kernel and c_val 1 and gamma 100 : 0.950561797752809\n",
      "This is the testing accuracy with  Radial Basis Kernel and c_val 1 and gamma 100 : 0.6210762331838565\n",
      "\n",
      "\n",
      "This is the trainning accuracy with  Radial Basis Kernel and c_val 10 and gamma 0.1 : 0.8404494382022472\n",
      "This is the testing accuracy with  Radial Basis Kernel and c_val 10 and gamma 0.1 : 0.8340807174887892\n",
      "\n",
      "\n",
      "This is the trainning accuracy with  Radial Basis Kernel and c_val 10 and gamma 1 : 0.8853932584269663\n",
      "This is the testing accuracy with  Radial Basis Kernel and c_val 10 and gamma 1 : 0.7780269058295964\n",
      "\n",
      "\n",
      "This is the trainning accuracy with  Radial Basis Kernel and c_val 10 and gamma 10 : 0.9191011235955057\n",
      "This is the testing accuracy with  Radial Basis Kernel and c_val 10 and gamma 10 : 0.6816143497757847\n",
      "\n",
      "\n",
      "This is the trainning accuracy with  Radial Basis Kernel and c_val 10 and gamma 100 : 0.950561797752809\n",
      "This is the testing accuracy with  Radial Basis Kernel and c_val 10 and gamma 100 : 0.6210762331838565\n",
      "\n",
      "\n",
      "This is the trainning accuracy with  Radial Basis Kernel and c_val 100 and gamma 0.1 : 0.8404494382022472\n",
      "This is the testing accuracy with  Radial Basis Kernel and c_val 100 and gamma 0.1 : 0.8340807174887892\n",
      "\n",
      "\n",
      "This is the trainning accuracy with  Radial Basis Kernel and c_val 100 and gamma 1 : 0.8853932584269663\n",
      "This is the testing accuracy with  Radial Basis Kernel and c_val 100 and gamma 1 : 0.7780269058295964\n",
      "\n",
      "\n",
      "This is the trainning accuracy with  Radial Basis Kernel and c_val 100 and gamma 10 : 0.9191011235955057\n",
      "This is the testing accuracy with  Radial Basis Kernel and c_val 100 and gamma 10 : 0.6816143497757847\n",
      "\n",
      "\n",
      "This is the trainning accuracy with  Radial Basis Kernel and c_val 100 and gamma 100 : 0.950561797752809\n",
      "This is the testing accuracy with  Radial Basis Kernel and c_val 100 and gamma 100 : 0.6210762331838565\n",
      "\n",
      "\n"
     ]
    },
    {
     "data": {
      "image/png": "[encoded data removed]",
      "text/plain": [
       "<matplotlib.figure.Figure at 0x112debcc0>"
      ]
     },
     "metadata": {},
     "output_type": "display_data"
    }
   ],
   "source": [
    "for k,v in params.items():\n",
    "    \n",
    "    rbf_test_acc = []\n",
    "    c_val = k\n",
    "    \n",
    "    for gamma in v:\n",
    "        svm_rbf(c_val,principal_components_split,Y_train_split,principal_components_split_test,Y_test_split,gamma)\n",
    "        \n",
    "    plt.plot(v,rbf_test_acc)\n",
    "    #plt.xlabel(\"C Value\")\n",
    "    plt.ylabel(\"Test accuracies\")\n"
   ]
  },
  {
   "cell_type": "code",
   "execution_count": 46,
   "metadata": {
    "collapsed": true
   },
   "outputs": [],
   "source": [
    "def svm_poly(X_train,Y_train,X_test,Y_test,c_val,degree):\n",
    "    '''\n",
    "        Author: Kyle Ong\n",
    "        Date: 03/16/2018\n",
    "        \n",
    "        X_train : type: numpy.ndarray\n",
    "        Y_train : type: numpy.ndarray\n",
    "        X_test: type: numpy.ndarray\n",
    "        Y_test: type: numpy.ndarray\n",
    "        c_val : type: int\n",
    "        degree : type: int\n",
    "        \n",
    "        will train a sklearn.svm.SVC(probability = False, kernel = \"poly\", degree=degree ) on X_train, Y_train\n",
    "        will calculate accuracy for X_train and X_test\n",
    "        will ignore convergence warnings thrown by sklearn\n",
    "    '''\n",
    "    \n",
    "    svm_poly = svm.SVC(probability = False, kernel = \"poly\", C=c_val,degree=degree)\n",
    "    svm_poly.fit(X_train,Y_train)\n",
    "    \n",
    "    with warnings.catch_warnings():\n",
    "        \n",
    "        warnings.filterwarnings('ignore',category=ConvergenceWarning)\n",
    "        \n",
    "        try:\n",
    "            \n",
    "            Y_hat_train = svm_poly.predict(X_train)\n",
    "            train_acc = np.mean(Y_hat_train == Y_train)\n",
    "            print(\"This is the trainning accuracy with polynomial kernel and {} degree and {} c_val: {}\".format(degree,c_val,train_acc))\n",
    "            \n",
    "            Y_hat_test = svm_poly.predict(X_test)\n",
    "            test_acc = np.mean(Y_hat_test == Y_test)\n",
    "            print(\"This is the testing accuracy with polynomial kernel and {} degree and {} c_val: {}\".format(degree,c_val,test_acc))\n",
    "            \n",
    "            \n",
    "            print(\"\\n\")\n",
    "        except Warning as w:\n",
    "            print(w)\n"
   ]
  },
  {
   "cell_type": "code",
   "execution_count": 50,
   "metadata": {
    "collapsed": true
   },
   "outputs": [],
   "source": [
    "params = {\n",
    "        1:[0.1,1,10,100],\n",
    "        2:[0.1,1,10,100],\n",
    "        3:[0.1,1,10,100]\n",
    "}"
   ]
  },
  {
   "cell_type": "code",
   "execution_count": 47,
   "metadata": {
    "scrolled": true
   },
   "outputs": [
    {
     "name": "stdout",
     "output_type": "stream",
     "text": [
      "This is the trainning accuracy with polynomial kernel and 1 degree and 0.1 c_val: 0.7146067415730337\n",
      "This is the testing accuracy with polynomial kernel and 1 degree and 0.1 c_val: 0.7645739910313901\n",
      "\n",
      "\n",
      "This is the trainning accuracy with polynomial kernel and 1 degree and 1 c_val: 0.8\n",
      "This is the testing accuracy with polynomial kernel and 1 degree and 1 c_val: 0.773542600896861\n",
      "\n",
      "\n",
      "This is the trainning accuracy with polynomial kernel and 1 degree and 10 c_val: 0.8\n",
      "This is the testing accuracy with polynomial kernel and 1 degree and 10 c_val: 0.773542600896861\n",
      "\n",
      "\n",
      "This is the trainning accuracy with polynomial kernel and 1 degree and 100 c_val: 0.8\n",
      "This is the testing accuracy with polynomial kernel and 1 degree and 100 c_val: 0.773542600896861\n",
      "\n",
      "\n",
      "This is the trainning accuracy with polynomial kernel and 2 degree and 0.1 c_val: 0.8247191011235955\n",
      "This is the testing accuracy with polynomial kernel and 2 degree and 0.1 c_val: 0.8116591928251121\n",
      "\n",
      "\n",
      "This is the trainning accuracy with polynomial kernel and 2 degree and 1 c_val: 0.8314606741573034\n",
      "This is the testing accuracy with polynomial kernel and 2 degree and 1 c_val: 0.8161434977578476\n",
      "\n",
      "\n",
      "This is the trainning accuracy with polynomial kernel and 2 degree and 10 c_val: 0.8426966292134831\n",
      "This is the testing accuracy with polynomial kernel and 2 degree and 10 c_val: 0.8139013452914798\n",
      "\n",
      "\n",
      "This is the trainning accuracy with polynomial kernel and 2 degree and 100 c_val: 0.8404494382022472\n",
      "This is the testing accuracy with polynomial kernel and 2 degree and 100 c_val: 0.7982062780269058\n",
      "\n",
      "\n"
     ]
    }
   ],
   "source": [
    "for k,v in params.items():\n",
    "    d = k\n",
    "    for c in v:\n",
    "        svm_poly(X_train_split,Y_train_split,X_test_split,Y_test_split,c,d)"
   ]
  },
  {
   "cell_type": "code",
   "execution_count": 51,
   "metadata": {
    "scrolled": true
   },
   "outputs": [
    {
     "name": "stdout",
     "output_type": "stream",
     "text": [
      "This is the trainning accuracy with polynomial kernel and 1 degree and 0.1 c_val: 0.802247191011236\n",
      "This is the testing accuracy with polynomial kernel and 1 degree and 0.1 c_val: 0.7780269058295964\n",
      "\n",
      "\n",
      "This is the trainning accuracy with polynomial kernel and 1 degree and 1 c_val: 0.802247191011236\n",
      "This is the testing accuracy with polynomial kernel and 1 degree and 1 c_val: 0.7780269058295964\n",
      "\n",
      "\n",
      "This is the trainning accuracy with polynomial kernel and 1 degree and 10 c_val: 0.802247191011236\n",
      "This is the testing accuracy with polynomial kernel and 1 degree and 10 c_val: 0.7780269058295964\n",
      "\n",
      "\n",
      "This is the trainning accuracy with polynomial kernel and 1 degree and 100 c_val: 0.802247191011236\n",
      "This is the testing accuracy with polynomial kernel and 1 degree and 100 c_val: 0.7780269058295964\n",
      "\n",
      "\n",
      "This is the trainning accuracy with polynomial kernel and 2 degree and 0.1 c_val: 0.7258426966292135\n",
      "This is the testing accuracy with polynomial kernel and 2 degree and 0.1 c_val: 0.7511210762331838\n",
      "\n",
      "\n",
      "This is the trainning accuracy with polynomial kernel and 2 degree and 1 c_val: 0.8134831460674158\n",
      "This is the testing accuracy with polynomial kernel and 2 degree and 1 c_val: 0.8228699551569507\n",
      "\n",
      "\n",
      "This is the trainning accuracy with polynomial kernel and 2 degree and 10 c_val: 0.8089887640449438\n",
      "This is the testing accuracy with polynomial kernel and 2 degree and 10 c_val: 0.8139013452914798\n",
      "\n",
      "\n",
      "This is the trainning accuracy with polynomial kernel and 2 degree and 100 c_val: 0.8089887640449438\n",
      "This is the testing accuracy with polynomial kernel and 2 degree and 100 c_val: 0.804932735426009\n",
      "\n",
      "\n",
      "This is the trainning accuracy with polynomial kernel and 3 degree and 0.1 c_val: 0.8\n",
      "This is the testing accuracy with polynomial kernel and 3 degree and 0.1 c_val: 0.7713004484304933\n",
      "\n",
      "\n",
      "This is the trainning accuracy with polynomial kernel and 3 degree and 1 c_val: 0.8359550561797753\n",
      "This is the testing accuracy with polynomial kernel and 3 degree and 1 c_val: 0.7982062780269058\n",
      "\n",
      "\n",
      "This is the trainning accuracy with polynomial kernel and 3 degree and 10 c_val: 0.8539325842696629\n",
      "This is the testing accuracy with polynomial kernel and 3 degree and 10 c_val: 0.8071748878923767\n",
      "\n",
      "\n",
      "This is the trainning accuracy with polynomial kernel and 3 degree and 100 c_val: 0.8629213483146068\n",
      "This is the testing accuracy with polynomial kernel and 3 degree and 100 c_val: 0.7959641255605381\n",
      "\n",
      "\n"
     ]
    }
   ],
   "source": [
    "for k,v in params.items():\n",
    "    d = k\n",
    "    for c in v:\n",
    "        svm_poly(principal_components_split,Y_train_split,principal_components_split_test,Y_test_split,c,d)"
   ]
  },
  {
   "cell_type": "markdown",
   "metadata": {
    "collapsed": true
   },
   "source": [
    "Seems that the SVM with Radial Basis Kernel\n",
    "c_val: 100\n",
    "gamma: 0.1\n",
    "performs the best on our generated test data after performing principal component analysis..."
   ]
  },
  {
   "cell_type": "code",
   "execution_count": 90,
   "metadata": {},
   "outputs": [],
   "source": [
    "def submit_svm_rbf(c,x_test,x_train,y_train,gamma,relative_path):\n",
    "    '''\n",
    "        Author: Kyle Ong\n",
    "        Date: 05/22/2018\n",
    "        \n",
    "        Will train a svm with rbf kernel on x_train and then write a csv file to  os.getcwd() + relative_path\n",
    "        Will create the path if does not exist\n",
    "        \n",
    "        c: type: int\n",
    "        x_test: type: np.ndarray\n",
    "        y_train: type: np.ndarray\n",
    "        x_train: type: np.ndarray\n",
    "        gamma: type: float\n",
    "        relative_path : string\n",
    "        \n",
    "        wil ignore Convergence Warnings\n",
    "    '''\n",
    "    #absolute path\n",
    "    abs_path = os.getcwd() + relative_path\n",
    "    \n",
    "    #create the path if it does not exist\n",
    "    if not os.path.exists(abs_path):\n",
    "        os.makedirs(abs_path)\n",
    "        print(abs_path)\n",
    "        \n",
    "    #train the model   \n",
    "    svm_rbf = svm.SVC(probability=False, kernel='rbf',gamma=gamma)\n",
    "    svm_rbf.fit(x_train,y_train)\n",
    "    \n",
    "    with warnings.catch_warnings():\n",
    "        warnings.filterwarnings(action='ignore',category=ConvergenceWarning)\n",
    "        \n",
    "        try:\n",
    "            \n",
    "            #fit the model\n",
    "            y_hat_test = svm_rbf.predict(x_test)\n",
    "            df = pd.DataFrame(y_hat_test)\n",
    "            print(df)\n",
    "            \n",
    "        except Warning as w:\n",
    "            print(w)\n",
    "    "
   ]
  },
  {
   "cell_type": "markdown",
   "metadata": {},
   "source": [
    "Before we submit we must transform the test data similar to how we transformed the trainning data...\n",
    "- [ ] data cleaning\n",
    "- [ ] data engineering\n",
    "- [ ] label encoding\n",
    "- [ ] drop 'Names'"
   ]
  },
  {
   "cell_type": "code",
   "execution_count": 94,
   "metadata": {},
   "outputs": [
    {
     "ename": "ValueError",
     "evalue": "could not convert string to float: 'C'",
     "output_type": "error",
     "traceback": [
      "\u001b[0;31m---------------------------------------------------------------------------\u001b[0m",
      "\u001b[0;31mValueError\u001b[0m                                Traceback (most recent call last)",
      "\u001b[0;32m<ipython-input-94-2af47e65b1eb>\u001b[0m in \u001b[0;36m<module>\u001b[0;34m()\u001b[0m\n\u001b[0;32m----> 1\u001b[0;31m \u001b[0msubmit_svm_rbf\u001b[0m\u001b[0;34m(\u001b[0m\u001b[0;36m100\u001b[0m\u001b[0;34m,\u001b[0m\u001b[0mtest\u001b[0m\u001b[0;34m,\u001b[0m\u001b[0mprincipal_components_split\u001b[0m\u001b[0;34m,\u001b[0m\u001b[0mY_train_split\u001b[0m\u001b[0;34m,\u001b[0m\u001b[0;36m0.1\u001b[0m\u001b[0;34m,\u001b[0m\u001b[0;34m\"submission\"\u001b[0m\u001b[0;34m)\u001b[0m\u001b[0;34m\u001b[0m\u001b[0m\n\u001b[0m",
      "\u001b[0;32m<ipython-input-90-732ef2a1b7e5>\u001b[0m in \u001b[0;36msubmit_svm_rbf\u001b[0;34m(c, x_test, x_train, y_train, gamma, relative_path)\u001b[0m\n\u001b[1;32m     34\u001b[0m \u001b[0;34m\u001b[0m\u001b[0m\n\u001b[1;32m     35\u001b[0m             \u001b[0;31m#fit the model\u001b[0m\u001b[0;34m\u001b[0m\u001b[0;34m\u001b[0m\u001b[0m\n\u001b[0;32m---> 36\u001b[0;31m             \u001b[0my_hat_test\u001b[0m \u001b[0;34m=\u001b[0m \u001b[0msvm_rbf\u001b[0m\u001b[0;34m.\u001b[0m\u001b[0mpredict\u001b[0m\u001b[0;34m(\u001b[0m\u001b[0mx_test\u001b[0m\u001b[0;34m)\u001b[0m\u001b[0;34m\u001b[0m\u001b[0m\n\u001b[0m\u001b[1;32m     37\u001b[0m             \u001b[0mdf\u001b[0m \u001b[0;34m=\u001b[0m \u001b[0mpd\u001b[0m\u001b[0;34m.\u001b[0m\u001b[0mDataFrame\u001b[0m\u001b[0;34m(\u001b[0m\u001b[0my_hat_test\u001b[0m\u001b[0;34m)\u001b[0m\u001b[0;34m\u001b[0m\u001b[0m\n\u001b[1;32m     38\u001b[0m             \u001b[0mprint\u001b[0m\u001b[0;34m(\u001b[0m\u001b[0mdf\u001b[0m\u001b[0;34m)\u001b[0m\u001b[0;34m\u001b[0m\u001b[0m\n",
      "\u001b[0;32m/anaconda3/lib/python3.6/site-packages/sklearn/svm/base.py\u001b[0m in \u001b[0;36mpredict\u001b[0;34m(self, X)\u001b[0m\n\u001b[1;32m    546\u001b[0m             \u001b[0mClass\u001b[0m \u001b[0mlabels\u001b[0m \u001b[0;32mfor\u001b[0m \u001b[0msamples\u001b[0m \u001b[0;32min\u001b[0m \u001b[0mX\u001b[0m\u001b[0;34m.\u001b[0m\u001b[0;34m\u001b[0m\u001b[0m\n\u001b[1;32m    547\u001b[0m         \"\"\"\n\u001b[0;32m--> 548\u001b[0;31m         \u001b[0my\u001b[0m \u001b[0;34m=\u001b[0m \u001b[0msuper\u001b[0m\u001b[0;34m(\u001b[0m\u001b[0mBaseSVC\u001b[0m\u001b[0;34m,\u001b[0m \u001b[0mself\u001b[0m\u001b[0;34m)\u001b[0m\u001b[0;34m.\u001b[0m\u001b[0mpredict\u001b[0m\u001b[0;34m(\u001b[0m\u001b[0mX\u001b[0m\u001b[0;34m)\u001b[0m\u001b[0;34m\u001b[0m\u001b[0m\n\u001b[0m\u001b[1;32m    549\u001b[0m         \u001b[0;32mreturn\u001b[0m \u001b[0mself\u001b[0m\u001b[0;34m.\u001b[0m\u001b[0mclasses_\u001b[0m\u001b[0;34m.\u001b[0m\u001b[0mtake\u001b[0m\u001b[0;34m(\u001b[0m\u001b[0mnp\u001b[0m\u001b[0;34m.\u001b[0m\u001b[0masarray\u001b[0m\u001b[0;34m(\u001b[0m\u001b[0my\u001b[0m\u001b[0;34m,\u001b[0m \u001b[0mdtype\u001b[0m\u001b[0;34m=\u001b[0m\u001b[0mnp\u001b[0m\u001b[0;34m.\u001b[0m\u001b[0mintp\u001b[0m\u001b[0;34m)\u001b[0m\u001b[0;34m)\u001b[0m\u001b[0;34m\u001b[0m\u001b[0m\n\u001b[1;32m    550\u001b[0m \u001b[0;34m\u001b[0m\u001b[0m\n",
      "\u001b[0;32m/anaconda3/lib/python3.6/site-packages/sklearn/svm/base.py\u001b[0m in \u001b[0;36mpredict\u001b[0;34m(self, X)\u001b[0m\n\u001b[1;32m    306\u001b[0m         \u001b[0my_pred\u001b[0m \u001b[0;34m:\u001b[0m \u001b[0marray\u001b[0m\u001b[0;34m,\u001b[0m \u001b[0mshape\u001b[0m \u001b[0;34m(\u001b[0m\u001b[0mn_samples\u001b[0m\u001b[0;34m,\u001b[0m\u001b[0;34m)\u001b[0m\u001b[0;34m\u001b[0m\u001b[0m\n\u001b[1;32m    307\u001b[0m         \"\"\"\n\u001b[0;32m--> 308\u001b[0;31m         \u001b[0mX\u001b[0m \u001b[0;34m=\u001b[0m \u001b[0mself\u001b[0m\u001b[0;34m.\u001b[0m\u001b[0m_validate_for_predict\u001b[0m\u001b[0;34m(\u001b[0m\u001b[0mX\u001b[0m\u001b[0;34m)\u001b[0m\u001b[0;34m\u001b[0m\u001b[0m\n\u001b[0m\u001b[1;32m    309\u001b[0m         \u001b[0mpredict\u001b[0m \u001b[0;34m=\u001b[0m \u001b[0mself\u001b[0m\u001b[0;34m.\u001b[0m\u001b[0m_sparse_predict\u001b[0m \u001b[0;32mif\u001b[0m \u001b[0mself\u001b[0m\u001b[0;34m.\u001b[0m\u001b[0m_sparse\u001b[0m \u001b[0;32melse\u001b[0m \u001b[0mself\u001b[0m\u001b[0;34m.\u001b[0m\u001b[0m_dense_predict\u001b[0m\u001b[0;34m\u001b[0m\u001b[0m\n\u001b[1;32m    310\u001b[0m         \u001b[0;32mreturn\u001b[0m \u001b[0mpredict\u001b[0m\u001b[0;34m(\u001b[0m\u001b[0mX\u001b[0m\u001b[0;34m)\u001b[0m\u001b[0;34m\u001b[0m\u001b[0m\n",
      "\u001b[0;32m/anaconda3/lib/python3.6/site-packages/sklearn/svm/base.py\u001b[0m in \u001b[0;36m_validate_for_predict\u001b[0;34m(self, X)\u001b[0m\n\u001b[1;32m    437\u001b[0m         \u001b[0mcheck_is_fitted\u001b[0m\u001b[0;34m(\u001b[0m\u001b[0mself\u001b[0m\u001b[0;34m,\u001b[0m \u001b[0;34m'support_'\u001b[0m\u001b[0;34m)\u001b[0m\u001b[0;34m\u001b[0m\u001b[0m\n\u001b[1;32m    438\u001b[0m \u001b[0;34m\u001b[0m\u001b[0m\n\u001b[0;32m--> 439\u001b[0;31m         \u001b[0mX\u001b[0m \u001b[0;34m=\u001b[0m \u001b[0mcheck_array\u001b[0m\u001b[0;34m(\u001b[0m\u001b[0mX\u001b[0m\u001b[0;34m,\u001b[0m \u001b[0maccept_sparse\u001b[0m\u001b[0;34m=\u001b[0m\u001b[0;34m'csr'\u001b[0m\u001b[0;34m,\u001b[0m \u001b[0mdtype\u001b[0m\u001b[0;34m=\u001b[0m\u001b[0mnp\u001b[0m\u001b[0;34m.\u001b[0m\u001b[0mfloat64\u001b[0m\u001b[0;34m,\u001b[0m \u001b[0morder\u001b[0m\u001b[0;34m=\u001b[0m\u001b[0;34m\"C\"\u001b[0m\u001b[0;34m)\u001b[0m\u001b[0;34m\u001b[0m\u001b[0m\n\u001b[0m\u001b[1;32m    440\u001b[0m         \u001b[0;32mif\u001b[0m \u001b[0mself\u001b[0m\u001b[0;34m.\u001b[0m\u001b[0m_sparse\u001b[0m \u001b[0;32mand\u001b[0m \u001b[0;32mnot\u001b[0m \u001b[0msp\u001b[0m\u001b[0;34m.\u001b[0m\u001b[0misspmatrix\u001b[0m\u001b[0;34m(\u001b[0m\u001b[0mX\u001b[0m\u001b[0;34m)\u001b[0m\u001b[0;34m:\u001b[0m\u001b[0;34m\u001b[0m\u001b[0m\n\u001b[1;32m    441\u001b[0m             \u001b[0mX\u001b[0m \u001b[0;34m=\u001b[0m \u001b[0msp\u001b[0m\u001b[0;34m.\u001b[0m\u001b[0mcsr_matrix\u001b[0m\u001b[0;34m(\u001b[0m\u001b[0mX\u001b[0m\u001b[0;34m)\u001b[0m\u001b[0;34m\u001b[0m\u001b[0m\n",
      "\u001b[0;32m/anaconda3/lib/python3.6/site-packages/sklearn/utils/validation.py\u001b[0m in \u001b[0;36mcheck_array\u001b[0;34m(array, accept_sparse, dtype, order, copy, force_all_finite, ensure_2d, allow_nd, ensure_min_samples, ensure_min_features, warn_on_dtype, estimator)\u001b[0m\n\u001b[1;32m    431\u001b[0m                                       force_all_finite)\n\u001b[1;32m    432\u001b[0m     \u001b[0;32melse\u001b[0m\u001b[0;34m:\u001b[0m\u001b[0;34m\u001b[0m\u001b[0m\n\u001b[0;32m--> 433\u001b[0;31m         \u001b[0marray\u001b[0m \u001b[0;34m=\u001b[0m \u001b[0mnp\u001b[0m\u001b[0;34m.\u001b[0m\u001b[0marray\u001b[0m\u001b[0;34m(\u001b[0m\u001b[0marray\u001b[0m\u001b[0;34m,\u001b[0m \u001b[0mdtype\u001b[0m\u001b[0;34m=\u001b[0m\u001b[0mdtype\u001b[0m\u001b[0;34m,\u001b[0m \u001b[0morder\u001b[0m\u001b[0;34m=\u001b[0m\u001b[0morder\u001b[0m\u001b[0;34m,\u001b[0m \u001b[0mcopy\u001b[0m\u001b[0;34m=\u001b[0m\u001b[0mcopy\u001b[0m\u001b[0;34m)\u001b[0m\u001b[0;34m\u001b[0m\u001b[0m\n\u001b[0m\u001b[1;32m    434\u001b[0m \u001b[0;34m\u001b[0m\u001b[0m\n\u001b[1;32m    435\u001b[0m         \u001b[0;32mif\u001b[0m \u001b[0mensure_2d\u001b[0m\u001b[0;34m:\u001b[0m\u001b[0;34m\u001b[0m\u001b[0m\n",
      "\u001b[0;31mValueError\u001b[0m: could not convert string to float: 'C'"
     ]
    }
   ],
   "source": [
    "submit_svm_rbf(100,test,principal_components_split,Y_train_split,0.1,\"submission\")"
   ]
  },
  {
   "cell_type": "code",
   "execution_count": null,
   "metadata": {
    "collapsed": true
   },
   "outputs": [],
   "source": []
  },
  {
   "cell_type": "code",
   "execution_count": null,
   "metadata": {
    "collapsed": true
   },
   "outputs": [],
   "source": []
  }
 ],
 "metadata": {
  "kernelspec": {
   "display_name": "Python 3",
   "language": "python",
   "name": "python3"
  },
  "language_info": {
   "codemirror_mode": {
    "name": "ipython",
    "version": 3
   },
   "file_extension": ".py",
   "mimetype": "text/x-python",
   "name": "python",
   "nbconvert_exporter": "python",
   "pygments_lexer": "ipython3",
   "version": "3.6.3"
  }
 },
 "nbformat": 4,
 "nbformat_minor": 2
}
