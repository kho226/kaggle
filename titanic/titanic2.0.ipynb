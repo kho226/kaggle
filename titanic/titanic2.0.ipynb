{
 "cells": [
  {
   "cell_type": "markdown",
   "metadata": {},
   "source": [
    "## Titanic"
   ]
  },
  {
   "cell_type": "code",
   "execution_count": 26,
   "metadata": {
    "collapsed": true
   },
   "outputs": [],
   "source": [
    "import numpy as np\n",
    "import pandas as pd\n",
    "\n",
    "from sklearn import linear_model \n",
    "from sklearn import svm\n",
    "from sklearn.exceptions import ConvergenceWarning\n",
    "from sklearn.preprocessing import OneHotEncoder, LabelEncoder\n",
    "from sklearn import feature_selection\n",
    "from sklearn import model_selection\n",
    "from sklearn import metrics\n",
    "from sklearn.preprocessing import StandardScaler\n",
    "from sklearn.decomposition import PCA\n",
    "\n",
    "import matplotlib.pyplot as plt\n",
    "\n",
    "import scipy.stats as stats\n",
    "\n",
    "import seaborn as sns\n",
    "\n",
    "import math\n",
    "import warnings\n",
    "%matplotlib inline \n",
    "\n",
    "import os\n",
    "import subprocess"
   ]
  },
  {
   "cell_type": "markdown",
   "metadata": {},
   "source": [
    "### Data Cleaning"
   ]
  },
  {
   "cell_type": "code",
   "execution_count": 3,
   "metadata": {
    "collapsed": true
   },
   "outputs": [],
   "source": [
    "train_df = pd.read_csv(\"train.csv\")\n",
    "test_df = pd.read_csv(\"test.csv\")"
   ]
  },
  {
   "cell_type": "code",
   "execution_count": 4,
   "metadata": {
    "collapsed": true
   },
   "outputs": [],
   "source": [
    "data = []\n",
    "data.append(train_df.copy(deep = True))\n",
    "data.append(test_df.copy(deep = True))"
   ]
  },
  {
   "cell_type": "code",
   "execution_count": 5,
   "metadata": {},
   "outputs": [
    {
     "data": {
      "text/html": [
       "<div>\n",
       "<style>\n",
       "    .dataframe thead tr:only-child th {\n",
       "        text-align: right;\n",
       "    }\n",
       "\n",
       "    .dataframe thead th {\n",
       "        text-align: left;\n",
       "    }\n",
       "\n",
       "    .dataframe tbody tr th {\n",
       "        vertical-align: top;\n",
       "    }\n",
       "</style>\n",
       "<table border=\"1\" class=\"dataframe\">\n",
       "  <thead>\n",
       "    <tr style=\"text-align: right;\">\n",
       "      <th></th>\n",
       "      <th>PassengerId</th>\n",
       "      <th>Survived</th>\n",
       "      <th>Pclass</th>\n",
       "      <th>Name</th>\n",
       "      <th>Sex</th>\n",
       "      <th>Age</th>\n",
       "      <th>SibSp</th>\n",
       "      <th>Parch</th>\n",
       "      <th>Ticket</th>\n",
       "      <th>Fare</th>\n",
       "      <th>Cabin</th>\n",
       "      <th>Embarked</th>\n",
       "    </tr>\n",
       "  </thead>\n",
       "  <tbody>\n",
       "    <tr>\n",
       "      <th>0</th>\n",
       "      <td>1</td>\n",
       "      <td>0</td>\n",
       "      <td>3</td>\n",
       "      <td>Braund, Mr. Owen Harris</td>\n",
       "      <td>male</td>\n",
       "      <td>22.0</td>\n",
       "      <td>1</td>\n",
       "      <td>0</td>\n",
       "      <td>A/5 21171</td>\n",
       "      <td>7.2500</td>\n",
       "      <td>NaN</td>\n",
       "      <td>S</td>\n",
       "    </tr>\n",
       "    <tr>\n",
       "      <th>1</th>\n",
       "      <td>2</td>\n",
       "      <td>1</td>\n",
       "      <td>1</td>\n",
       "      <td>Cumings, Mrs. John Bradley (Florence Briggs Th...</td>\n",
       "      <td>female</td>\n",
       "      <td>38.0</td>\n",
       "      <td>1</td>\n",
       "      <td>0</td>\n",
       "      <td>PC 17599</td>\n",
       "      <td>71.2833</td>\n",
       "      <td>C85</td>\n",
       "      <td>C</td>\n",
       "    </tr>\n",
       "    <tr>\n",
       "      <th>2</th>\n",
       "      <td>3</td>\n",
       "      <td>1</td>\n",
       "      <td>3</td>\n",
       "      <td>Heikkinen, Miss. Laina</td>\n",
       "      <td>female</td>\n",
       "      <td>26.0</td>\n",
       "      <td>0</td>\n",
       "      <td>0</td>\n",
       "      <td>STON/O2. 3101282</td>\n",
       "      <td>7.9250</td>\n",
       "      <td>NaN</td>\n",
       "      <td>S</td>\n",
       "    </tr>\n",
       "    <tr>\n",
       "      <th>3</th>\n",
       "      <td>4</td>\n",
       "      <td>1</td>\n",
       "      <td>1</td>\n",
       "      <td>Futrelle, Mrs. Jacques Heath (Lily May Peel)</td>\n",
       "      <td>female</td>\n",
       "      <td>35.0</td>\n",
       "      <td>1</td>\n",
       "      <td>0</td>\n",
       "      <td>113803</td>\n",
       "      <td>53.1000</td>\n",
       "      <td>C123</td>\n",
       "      <td>S</td>\n",
       "    </tr>\n",
       "    <tr>\n",
       "      <th>4</th>\n",
       "      <td>5</td>\n",
       "      <td>0</td>\n",
       "      <td>3</td>\n",
       "      <td>Allen, Mr. William Henry</td>\n",
       "      <td>male</td>\n",
       "      <td>35.0</td>\n",
       "      <td>0</td>\n",
       "      <td>0</td>\n",
       "      <td>373450</td>\n",
       "      <td>8.0500</td>\n",
       "      <td>NaN</td>\n",
       "      <td>S</td>\n",
       "    </tr>\n",
       "    <tr>\n",
       "      <th>5</th>\n",
       "      <td>6</td>\n",
       "      <td>0</td>\n",
       "      <td>3</td>\n",
       "      <td>Moran, Mr. James</td>\n",
       "      <td>male</td>\n",
       "      <td>NaN</td>\n",
       "      <td>0</td>\n",
       "      <td>0</td>\n",
       "      <td>330877</td>\n",
       "      <td>8.4583</td>\n",
       "      <td>NaN</td>\n",
       "      <td>Q</td>\n",
       "    </tr>\n",
       "  </tbody>\n",
       "</table>\n",
       "</div>"
      ],
      "text/plain": [
       "   PassengerId  Survived  Pclass  \\\n",
       "0            1         0       3   \n",
       "1            2         1       1   \n",
       "2            3         1       3   \n",
       "3            4         1       1   \n",
       "4            5         0       3   \n",
       "5            6         0       3   \n",
       "\n",
       "                                                Name     Sex   Age  SibSp  \\\n",
       "0                            Braund, Mr. Owen Harris    male  22.0      1   \n",
       "1  Cumings, Mrs. John Bradley (Florence Briggs Th...  female  38.0      1   \n",
       "2                             Heikkinen, Miss. Laina  female  26.0      0   \n",
       "3       Futrelle, Mrs. Jacques Heath (Lily May Peel)  female  35.0      1   \n",
       "4                           Allen, Mr. William Henry    male  35.0      0   \n",
       "5                                   Moran, Mr. James    male   NaN      0   \n",
       "\n",
       "   Parch            Ticket     Fare Cabin Embarked  \n",
       "0      0         A/5 21171   7.2500   NaN        S  \n",
       "1      0          PC 17599  71.2833   C85        C  \n",
       "2      0  STON/O2. 3101282   7.9250   NaN        S  \n",
       "3      0            113803  53.1000  C123        S  \n",
       "4      0            373450   8.0500   NaN        S  \n",
       "5      0            330877   8.4583   NaN        Q  "
      ]
     },
     "execution_count": 5,
     "metadata": {},
     "output_type": "execute_result"
    }
   ],
   "source": [
    "data[0].head(6)"
   ]
  },
  {
   "cell_type": "code",
   "execution_count": 6,
   "metadata": {},
   "outputs": [
    {
     "data": {
      "text/html": [
       "<div>\n",
       "<style>\n",
       "    .dataframe thead tr:only-child th {\n",
       "        text-align: right;\n",
       "    }\n",
       "\n",
       "    .dataframe thead th {\n",
       "        text-align: left;\n",
       "    }\n",
       "\n",
       "    .dataframe tbody tr th {\n",
       "        vertical-align: top;\n",
       "    }\n",
       "</style>\n",
       "<table border=\"1\" class=\"dataframe\">\n",
       "  <thead>\n",
       "    <tr style=\"text-align: right;\">\n",
       "      <th></th>\n",
       "      <th>PassengerId</th>\n",
       "      <th>Pclass</th>\n",
       "      <th>Name</th>\n",
       "      <th>Sex</th>\n",
       "      <th>Age</th>\n",
       "      <th>SibSp</th>\n",
       "      <th>Parch</th>\n",
       "      <th>Ticket</th>\n",
       "      <th>Fare</th>\n",
       "      <th>Cabin</th>\n",
       "      <th>Embarked</th>\n",
       "    </tr>\n",
       "  </thead>\n",
       "  <tbody>\n",
       "    <tr>\n",
       "      <th>0</th>\n",
       "      <td>892</td>\n",
       "      <td>3</td>\n",
       "      <td>Kelly, Mr. James</td>\n",
       "      <td>male</td>\n",
       "      <td>34.5</td>\n",
       "      <td>0</td>\n",
       "      <td>0</td>\n",
       "      <td>330911</td>\n",
       "      <td>7.8292</td>\n",
       "      <td>NaN</td>\n",
       "      <td>Q</td>\n",
       "    </tr>\n",
       "    <tr>\n",
       "      <th>1</th>\n",
       "      <td>893</td>\n",
       "      <td>3</td>\n",
       "      <td>Wilkes, Mrs. James (Ellen Needs)</td>\n",
       "      <td>female</td>\n",
       "      <td>47.0</td>\n",
       "      <td>1</td>\n",
       "      <td>0</td>\n",
       "      <td>363272</td>\n",
       "      <td>7.0000</td>\n",
       "      <td>NaN</td>\n",
       "      <td>S</td>\n",
       "    </tr>\n",
       "    <tr>\n",
       "      <th>2</th>\n",
       "      <td>894</td>\n",
       "      <td>2</td>\n",
       "      <td>Myles, Mr. Thomas Francis</td>\n",
       "      <td>male</td>\n",
       "      <td>62.0</td>\n",
       "      <td>0</td>\n",
       "      <td>0</td>\n",
       "      <td>240276</td>\n",
       "      <td>9.6875</td>\n",
       "      <td>NaN</td>\n",
       "      <td>Q</td>\n",
       "    </tr>\n",
       "    <tr>\n",
       "      <th>3</th>\n",
       "      <td>895</td>\n",
       "      <td>3</td>\n",
       "      <td>Wirz, Mr. Albert</td>\n",
       "      <td>male</td>\n",
       "      <td>27.0</td>\n",
       "      <td>0</td>\n",
       "      <td>0</td>\n",
       "      <td>315154</td>\n",
       "      <td>8.6625</td>\n",
       "      <td>NaN</td>\n",
       "      <td>S</td>\n",
       "    </tr>\n",
       "    <tr>\n",
       "      <th>4</th>\n",
       "      <td>896</td>\n",
       "      <td>3</td>\n",
       "      <td>Hirvonen, Mrs. Alexander (Helga E Lindqvist)</td>\n",
       "      <td>female</td>\n",
       "      <td>22.0</td>\n",
       "      <td>1</td>\n",
       "      <td>1</td>\n",
       "      <td>3101298</td>\n",
       "      <td>12.2875</td>\n",
       "      <td>NaN</td>\n",
       "      <td>S</td>\n",
       "    </tr>\n",
       "    <tr>\n",
       "      <th>5</th>\n",
       "      <td>897</td>\n",
       "      <td>3</td>\n",
       "      <td>Svensson, Mr. Johan Cervin</td>\n",
       "      <td>male</td>\n",
       "      <td>14.0</td>\n",
       "      <td>0</td>\n",
       "      <td>0</td>\n",
       "      <td>7538</td>\n",
       "      <td>9.2250</td>\n",
       "      <td>NaN</td>\n",
       "      <td>S</td>\n",
       "    </tr>\n",
       "  </tbody>\n",
       "</table>\n",
       "</div>"
      ],
      "text/plain": [
       "   PassengerId  Pclass                                          Name     Sex  \\\n",
       "0          892       3                              Kelly, Mr. James    male   \n",
       "1          893       3              Wilkes, Mrs. James (Ellen Needs)  female   \n",
       "2          894       2                     Myles, Mr. Thomas Francis    male   \n",
       "3          895       3                              Wirz, Mr. Albert    male   \n",
       "4          896       3  Hirvonen, Mrs. Alexander (Helga E Lindqvist)  female   \n",
       "5          897       3                    Svensson, Mr. Johan Cervin    male   \n",
       "\n",
       "    Age  SibSp  Parch   Ticket     Fare Cabin Embarked  \n",
       "0  34.5      0      0   330911   7.8292   NaN        Q  \n",
       "1  47.0      1      0   363272   7.0000   NaN        S  \n",
       "2  62.0      0      0   240276   9.6875   NaN        Q  \n",
       "3  27.0      0      0   315154   8.6625   NaN        S  \n",
       "4  22.0      1      1  3101298  12.2875   NaN        S  \n",
       "5  14.0      0      0     7538   9.2250   NaN        S  "
      ]
     },
     "execution_count": 6,
     "metadata": {},
     "output_type": "execute_result"
    }
   ],
   "source": [
    "data[1].head(6)"
   ]
  },
  {
   "cell_type": "code",
   "execution_count": 10,
   "metadata": {},
   "outputs": [],
   "source": [
    "null_vals = data[0].isnull().sum()\n",
    "null_vals = null_vals[null_vals > 0]\n",
    "null_vals.sort_values(inplace=True)"
   ]
  },
  {
   "cell_type": "code",
   "execution_count": 12,
   "metadata": {},
   "outputs": [
    {
     "data": {
      "text/plain": [
       "<matplotlib.axes._subplots.AxesSubplot at 0x102befd30>"
      ]
     },
     "execution_count": 12,
     "metadata": {},
     "output_type": "execute_result"
    },
    {
     "data": {
      "image/png": "[encoded data removed]",
      "text/plain": [
       "<matplotlib.figure.Figure at 0x102bed400>"
      ]
     },
     "metadata": {},
     "output_type": "display_data"
    }
   ],
   "source": [
    "null_vals.plot.bar()"
   ]
  },
  {
   "cell_type": "code",
   "execution_count": 13,
   "metadata": {},
   "outputs": [],
   "source": [
    "null_vals = data[1].isnull().sum()\n",
    "null_vals = null_vals[null_vals > 0]\n",
    "null_vals.sort_values(inplace=True)"
   ]
  },
  {
   "cell_type": "code",
   "execution_count": 14,
   "metadata": {},
   "outputs": [
    {
     "data": {
      "text/plain": [
       "<matplotlib.axes._subplots.AxesSubplot at 0x10ab8b550>"
      ]
     },
     "execution_count": 14,
     "metadata": {},
     "output_type": "execute_result"
    },
    {
     "data": {
      "image/png": "[encoded data removed]",
      "text/plain": [
       "<matplotlib.figure.Figure at 0x10acd9588>"
      ]
     },
     "metadata": {},
     "output_type": "display_data"
    }
   ],
   "source": [
    "null_vals.plot.bar()"
   ]
  },
  {
   "cell_type": "code",
   "execution_count": 15,
   "metadata": {
    "collapsed": true
   },
   "outputs": [],
   "source": [
    "for d in data:\n",
    "    d['Age'].fillna(d['Age'].median(),inplace=True)\n",
    "    d['Embarked'].fillna(d['Embarked'].mode()[0],inplace=True)\n",
    "    d['Fare'].fillna(d['Fare'].median(),inplace=True)"
   ]
  },
  {
   "cell_type": "code",
   "execution_count": 16,
   "metadata": {
    "collapsed": true
   },
   "outputs": [],
   "source": [
    "passenger_ids = data[1]['PassengerId']"
   ]
  },
  {
   "cell_type": "code",
   "execution_count": 17,
   "metadata": {
    "collapsed": true
   },
   "outputs": [],
   "source": [
    "for d in data:\n",
    "    d.drop('Cabin',axis = 1,inplace=True)\n",
    "    d.drop('PassengerId',axis=1,inplace=True)\n",
    "    d.drop('Ticket',axis=1,inplace=True)"
   ]
  },
  {
   "cell_type": "code",
   "execution_count": 18,
   "metadata": {
    "collapsed": true
   },
   "outputs": [],
   "source": [
    "label_encoder = LabelEncoder()"
   ]
  },
  {
   "cell_type": "code",
   "execution_count": 19,
   "metadata": {
    "collapsed": true
   },
   "outputs": [],
   "source": [
    "for d in data:\n",
    "    d['Name'] = label_encoder.fit_transform(d['Name'])\n",
    "    d['Sex'] = label_encoder.fit_transform(d['Sex'])\n",
    "    d['Embarked'] = label_encoder.fit_transform(d['Embarked'])"
   ]
  },
  {
   "cell_type": "code",
   "execution_count": 20,
   "metadata": {},
   "outputs": [
    {
     "data": {
      "text/html": [
       "<div>\n",
       "<style>\n",
       "    .dataframe thead tr:only-child th {\n",
       "        text-align: right;\n",
       "    }\n",
       "\n",
       "    .dataframe thead th {\n",
       "        text-align: left;\n",
       "    }\n",
       "\n",
       "    .dataframe tbody tr th {\n",
       "        vertical-align: top;\n",
       "    }\n",
       "</style>\n",
       "<table border=\"1\" class=\"dataframe\">\n",
       "  <thead>\n",
       "    <tr style=\"text-align: right;\">\n",
       "      <th></th>\n",
       "      <th>Survived</th>\n",
       "      <th>Pclass</th>\n",
       "      <th>Name</th>\n",
       "      <th>Sex</th>\n",
       "      <th>Age</th>\n",
       "      <th>SibSp</th>\n",
       "      <th>Parch</th>\n",
       "      <th>Fare</th>\n",
       "      <th>Embarked</th>\n",
       "    </tr>\n",
       "  </thead>\n",
       "  <tbody>\n",
       "    <tr>\n",
       "      <th>0</th>\n",
       "      <td>0</td>\n",
       "      <td>3</td>\n",
       "      <td>108</td>\n",
       "      <td>1</td>\n",
       "      <td>22.0</td>\n",
       "      <td>1</td>\n",
       "      <td>0</td>\n",
       "      <td>7.2500</td>\n",
       "      <td>2</td>\n",
       "    </tr>\n",
       "    <tr>\n",
       "      <th>1</th>\n",
       "      <td>1</td>\n",
       "      <td>1</td>\n",
       "      <td>190</td>\n",
       "      <td>0</td>\n",
       "      <td>38.0</td>\n",
       "      <td>1</td>\n",
       "      <td>0</td>\n",
       "      <td>71.2833</td>\n",
       "      <td>0</td>\n",
       "    </tr>\n",
       "    <tr>\n",
       "      <th>2</th>\n",
       "      <td>1</td>\n",
       "      <td>3</td>\n",
       "      <td>353</td>\n",
       "      <td>0</td>\n",
       "      <td>26.0</td>\n",
       "      <td>0</td>\n",
       "      <td>0</td>\n",
       "      <td>7.9250</td>\n",
       "      <td>2</td>\n",
       "    </tr>\n",
       "    <tr>\n",
       "      <th>3</th>\n",
       "      <td>1</td>\n",
       "      <td>1</td>\n",
       "      <td>272</td>\n",
       "      <td>0</td>\n",
       "      <td>35.0</td>\n",
       "      <td>1</td>\n",
       "      <td>0</td>\n",
       "      <td>53.1000</td>\n",
       "      <td>2</td>\n",
       "    </tr>\n",
       "    <tr>\n",
       "      <th>4</th>\n",
       "      <td>0</td>\n",
       "      <td>3</td>\n",
       "      <td>15</td>\n",
       "      <td>1</td>\n",
       "      <td>35.0</td>\n",
       "      <td>0</td>\n",
       "      <td>0</td>\n",
       "      <td>8.0500</td>\n",
       "      <td>2</td>\n",
       "    </tr>\n",
       "    <tr>\n",
       "      <th>5</th>\n",
       "      <td>0</td>\n",
       "      <td>3</td>\n",
       "      <td>554</td>\n",
       "      <td>1</td>\n",
       "      <td>28.0</td>\n",
       "      <td>0</td>\n",
       "      <td>0</td>\n",
       "      <td>8.4583</td>\n",
       "      <td>1</td>\n",
       "    </tr>\n",
       "  </tbody>\n",
       "</table>\n",
       "</div>"
      ],
      "text/plain": [
       "   Survived  Pclass  Name  Sex   Age  SibSp  Parch     Fare  Embarked\n",
       "0         0       3   108    1  22.0      1      0   7.2500         2\n",
       "1         1       1   190    0  38.0      1      0  71.2833         0\n",
       "2         1       3   353    0  26.0      0      0   7.9250         2\n",
       "3         1       1   272    0  35.0      1      0  53.1000         2\n",
       "4         0       3    15    1  35.0      0      0   8.0500         2\n",
       "5         0       3   554    1  28.0      0      0   8.4583         1"
      ]
     },
     "execution_count": 20,
     "metadata": {},
     "output_type": "execute_result"
    }
   ],
   "source": [
    "data[0].head(6)"
   ]
  },
  {
   "cell_type": "code",
   "execution_count": 22,
   "metadata": {},
   "outputs": [
    {
     "name": "stdout",
     "output_type": "stream",
     "text": [
      "<class 'pandas.core.frame.DataFrame'>\n",
      "RangeIndex: 891 entries, 0 to 890\n",
      "Data columns (total 9 columns):\n",
      "Survived    891 non-null int64\n",
      "Pclass      891 non-null int64\n",
      "Name        891 non-null int64\n",
      "Sex         891 non-null int64\n",
      "Age         891 non-null float64\n",
      "SibSp       891 non-null int64\n",
      "Parch       891 non-null int64\n",
      "Fare        891 non-null float64\n",
      "Embarked    891 non-null int64\n",
      "dtypes: float64(2), int64(7)\n",
      "memory usage: 62.7 KB\n"
     ]
    }
   ],
   "source": [
    "data[0].info()"
   ]
  },
  {
   "cell_type": "markdown",
   "metadata": {},
   "source": [
    "## Data Exploration"
   ]
  },
  {
   "cell_type": "code",
   "execution_count": 23,
   "metadata": {},
   "outputs": [
    {
     "name": "stderr",
     "output_type": "stream",
     "text": [
      "/anaconda3/lib/python3.6/site-packages/numpy/core/fromnumeric.py:52: FutureWarning: reshape is deprecated and will raise in a subsequent release. Please use .values.reshape(...) instead\n",
      "  return getattr(obj, method)(*args, **kwds)\n"
     ]
    },
    {
     "data": {
      "text/plain": [
       "<matplotlib.legend.Legend at 0x10aeac208>"
      ]
     },
     "execution_count": 23,
     "metadata": {},
     "output_type": "execute_result"
    },
    {
     "data": {
      "image/png": "[encoded data removed]",
      "text/plain": [
       "<matplotlib.figure.Figure at 0x10ab82a20>"
      ]
     },
     "metadata": {},
     "output_type": "display_data"
    }
   ],
   "source": [
    "fig,axs = plt.subplots(2,2,figsize=(15,15))\n",
    "\n",
    "axs[0][0].boxplot(\n",
    "                                        x=data[0]['Age'],\n",
    "                                        meanline=True\n",
    ")\n",
    "axs[0][0].set_title(\"Age\")\n",
    "\n",
    "axs[0][1].boxplot(\n",
    "                                    x= data[0]['Fare'],\n",
    "                                    meanline=True\n",
    ")\n",
    "axs[0][1].set_title(\"Fare\")\n",
    "\n",
    "axs[1][0].hist(\n",
    "                            x=[data[0][data[0][\"Survived\"] == 1]['Age'], data[0][data[0][\"Survived\"] == 0]['Age']],\n",
    "                            stacked = True,\n",
    "                            color = ['r','b'],\n",
    "                            label = ['Survived','Dead'],\n",
    ")\n",
    "axs[1][0].set_title(\"Age Histogram\")\n",
    "axs[1][0].legend(loc = \"upper right\")\n",
    "\n",
    "axs[1][1].hist(\n",
    "                            x=[data[0][data[0][\"Survived\"] == 1]['Fare'], data[0][data[0][\"Survived\"] == 0]['Fare']],\n",
    "                            stacked = True,\n",
    "                            color = ['r','b'],\n",
    "                            label = ['Survived','Dead'],\n",
    ")\n",
    "axs[1][1].set_title(\"Fare Histogram\")\n",
    "axs[1][1].legend(loc=\"upper right\")\n",
    "\n"
   ]
  },
  {
   "cell_type": "markdown",
   "metadata": {},
   "source": [
    "Let's observe the distributions of the a couple of features..."
   ]
  },
  {
   "cell_type": "code",
   "execution_count": 32,
   "metadata": {},
   "outputs": [
    {
     "data": {
      "text/plain": [
       "Text(0.5,1,'Fare  - JohnsonSU')"
      ]
     },
     "execution_count": 32,
     "metadata": {},
     "output_type": "execute_result"
    },
    {
     "data": {
      "image/png": "[encoded data removed]",
      "text/plain": [
       "<matplotlib.figure.Figure at 0x10c4fae80>"
      ]
     },
     "metadata": {},
     "output_type": "display_data"
    }
   ],
   "source": [
    "fig,axs = plt.subplots(2,2,figsize = (15,15))\n",
    "\n",
    "plt1 = axs[0][0]\n",
    "plt2 = axs[0][1]\n",
    "plt3 = axs[1][0]\n",
    "plt4 = axs[1][1]\n",
    "\n",
    "\n",
    "sns.distplot(\n",
    "                            data[0]['Age'],\n",
    "                            kde=False,\n",
    "                            fit=stats.norm,\n",
    "                            ax = plt1\n",
    ")\n",
    "plt1.set_title(\"Age - normal \")\n",
    "\n",
    "sns.distplot(\n",
    "                        data[0]['Age'],\n",
    "                        kde=False,\n",
    "                        fit = stats.johnsonsu,\n",
    "                        ax = plt2\n",
    ")\n",
    "plt2.set_title(\"Age - JohnsonSU\")\n",
    "\n",
    "\n",
    "sns.distplot(\n",
    "                            data[0]['Fare'],\n",
    "                            kde=False,\n",
    "                            fit=stats.norm,\n",
    "                            ax = plt3\n",
    ")\n",
    "plt3.set_title(\"Fare - Normal\")\n",
    "\n",
    "sns.distplot(\n",
    "                            data[0]['Fare'],\n",
    "                            kde = False,\n",
    "                            fit = stats.johnsonsu,\n",
    "                            ax = plt4\n",
    ")\n",
    "plt4.set_title(\"Fare  - JohnsonSU\")\n",
    "\n"
   ]
  },
  {
   "cell_type": "markdown",
   "metadata": {},
   "source": [
    "- It seems that 'Age' roughly follows a normal distribution\n",
    "- It seems that 'Age' more closely follows an SU distribution\n",
    "- It seems that 'Fare' does not follow a normal distribution\n",
    "- It seems that 'Fare' closely follows an SU distribution"
   ]
  },
  {
   "cell_type": "markdown",
   "metadata": {},
   "source": [
    "It may be worth it to regularize the 'Age' and 'Fare'"
   ]
  },
  {
   "cell_type": "markdown",
   "metadata": {},
   "source": [
    "Let's see if any of the other columns follow a normal distribution..."
   ]
  },
  {
   "cell_type": "code",
   "execution_count": 35,
   "metadata": {},
   "outputs": [
    {
     "name": "stdout",
     "output_type": "stream",
     "text": [
      "False\n"
     ]
    }
   ],
   "source": [
    "normality_test = lambda x : stats.shapiro(x)[1] < 0.01\n",
    "normal = data[0].apply(normality_test)\n",
    "print(not normal.any())"
   ]
  },
  {
   "cell_type": "markdown",
   "metadata": {},
   "source": [
    "Guess not!"
   ]
  },
  {
   "cell_type": "markdown",
   "metadata": {},
   "source": [
    "## Data Modelling"
   ]
  },
  {
   "cell_type": "code",
   "execution_count": 305,
   "metadata": {
    "collapsed": true
   },
   "outputs": [],
   "source": [
    "train_vals = data[0].drop('Survived',axis=1).values\n",
    "target_vals = data[0]['Survived']"
   ]
  },
  {
   "cell_type": "code",
   "execution_count": 306,
   "metadata": {
    "collapsed": true
   },
   "outputs": [],
   "source": [
    "standard_scaler = StandardScaler()\n",
    "pca = PCA(n_components = 7)"
   ]
  },
  {
   "cell_type": "code",
   "execution_count": 307,
   "metadata": {
    "collapsed": true
   },
   "outputs": [],
   "source": [
    "train_vals_std = standard_scaler.fit_transform(train_vals)\n",
    "principal_components = pca.fit_transform(train_vals_std)"
   ]
  },
  {
   "cell_type": "code",
   "execution_count": 308,
   "metadata": {},
   "outputs": [
    {
     "data": {
      "text/plain": [
       "Text(0.5,0,'Principal Components')"
      ]
     },
     "execution_count": 308,
     "metadata": {},
     "output_type": "execute_result"
    },
    {
     "data": {
      "image/png": "[encoded data removed]",
      "text/plain": [
       "<matplotlib.figure.Figure at 0x128293cf8>"
      ]
     },
     "metadata": {},
     "output_type": "display_data"
    }
   ],
   "source": [
    "plt.plot(np.cumsum(pca.explained_variance_ratio_))\n",
    "plt.title('Explained Variance')\n",
    "plt.xlabel(\"Principal Components\")"
   ]
  },
  {
   "cell_type": "code",
   "execution_count": 309,
   "metadata": {
    "collapsed": true
   },
   "outputs": [],
   "source": [
    "mid = math.floor((train_vals.shape[0])/2)"
   ]
  },
  {
   "cell_type": "code",
   "execution_count": 310,
   "metadata": {
    "collapsed": true
   },
   "outputs": [],
   "source": [
    "tmp_train = train_vals\n",
    "tmp_target = target_vals\n",
    "\n",
    "#cleaned data\n",
    "train_vals = tmp_train[0 : mid , : ]\n",
    "test_vals = tmp_train[mid: , : ]\n",
    "target_vals = tmp_target[0:mid]\n",
    "test_target_vals = tmp_target[mid:]\n",
    "\n",
    "#principal components\n",
    "prncpl_cmpnts_train_vals = principal_components[0:mid,:]\n",
    "prncpl_cmpnts_test_vals = principal_components[mid:,:]"
   ]
  },
  {
   "cell_type": "code",
   "execution_count": 340,
   "metadata": {
    "collapsed": true
   },
   "outputs": [],
   "source": [
    "def test_logistic_model(train_vals,target_vals,test_vals,test_target_vals,params,output):\n",
    "    '''\n",
    "            Author: Kyle Ong\n",
    "            Date: 05/24/2018\n",
    "            \n",
    "            will train a linear_model.LogisticRegresssion(penalty=p,C=c,solver='saga') on train_vals and target_vals\n",
    "            over multiple params\n",
    "            will ignore ConvergenceWarnings\n",
    "            \n",
    "            train_vals: type: np.ndarray\n",
    "            target_vals: type: np.ndarray\n",
    "            test_vals: type:np.ndarray\n",
    "            test_target_vals: type: np.ndarray\n",
    "            c: type: int\n",
    "            p: type: string\n",
    "            params: type: Dict[p:[c]]\n",
    "            output: type: Bool\n",
    "            \n",
    "            return: type: Dict[p:[test_accuracies]]\n",
    "    '''\n",
    "    \n",
    "    test_accuarcy_dict= {}\n",
    "    \n",
    "    print(\"Logistic Regression...\")\n",
    "    \n",
    "    for k,v in params.items():\n",
    "        \n",
    "        loss = k\n",
    "        model = 1 #tmp\n",
    "        \n",
    "        for c in v:\n",
    "            \n",
    "            curr_accuracy = 0.0\n",
    "        \n",
    "            if k.lower() == \"l1\":\n",
    "            \n",
    "                model = linear_model.LogisticRegression(penalty=loss,C=c,solver='saga')\n",
    "                \n",
    "            elif k.lower() == 'l2':\n",
    "                \n",
    "                model = linear_model.LogisticRegression(C=c)\n",
    "            \n",
    "            with warnings.catch_warnings():\n",
    "                \n",
    "                warnings.filterwarnings('ignore',category=ConvergenceWarning)\n",
    "                \n",
    "                try:\n",
    "                    \n",
    "                    model.fit(train_vals,target_vals)\n",
    "                    \n",
    "                    out = model.predict(test_vals)\n",
    "                    \n",
    "                    current_accuracy = np.mean(out == test_target_vals)\n",
    "                    \n",
    "                    \n",
    "                except Warning as w:\n",
    "                    print(w)\n",
    "                    \n",
    "            tmp = test_accuarcy_dict.get(k,[])\n",
    "            tmp.append(current_accuracy)\n",
    "            test_accuarcy_dict[k] = tmp\n",
    "            \n",
    "            if output:\n",
    "                print(\"Penalty: {}\".format(loss))\n",
    "                print(\"C: {}\".format(c))\n",
    "                print(\"Testing Accuracy: {}\".format(current_accuracy))\n",
    "                print(\"\\n\")\n",
    "        \n",
    "    return test_accuarcy_dict"
   ]
  },
  {
   "cell_type": "code",
   "execution_count": 356,
   "metadata": {
    "collapsed": true
   },
   "outputs": [],
   "source": [
    "def get_optimal_params(test_accuracies,c_vals):\n",
    "    '''\n",
    "            Author: Kyle Ong\n",
    "            Date: 05/24/2018\n",
    "            \n",
    "            will find the max_acc of all values in test_accuracies\n",
    "            will find the corresponding optimal_c \n",
    "            will find the corresponding optimal_penalty\n",
    "            \n",
    "            vars:\n",
    "            p: type: string\n",
    "            a: type: float\n",
    "            optimal_c: type: float\n",
    "            optimal_penalty: type: string\n",
    "            max_acc: type: float\n",
    "            \n",
    "            params:\n",
    "            test_accuracies: type: dict[p:[a]]\n",
    "            c_vals: type: arr[float]\n",
    "            \n",
    "            return:\n",
    "            optimal_params: type: Dict{}\n",
    "            \n",
    "            will raise ValueError if length of c_vals does not equal length of value in test_accuracies\n",
    "            \n",
    "            \n",
    "    ''' \n",
    "    \n",
    "    #book-keeping\n",
    "    max_acc = 0\n",
    "    optimal_c = 0.1\n",
    "    optimal_penalty = 'L1'\n",
    "    \n",
    "    #find optimal vals\n",
    "    for k,v in test_accuracies.items():\n",
    "        \n",
    "        if len(c_vals) != len(v):\n",
    "            raise ValueError(\"At key: {} ... length of Accuracies:{} != length of c_vals:{}\".format(k,len(v),len(c_vals)))\n",
    "        \n",
    "        i = 0\n",
    "        penalty = k\n",
    "        \n",
    "        for acc in v:\n",
    "            \n",
    "            if acc > max_acc:\n",
    "                \n",
    "                max_acc = acc\n",
    "                optimal_c = c_vals[i]\n",
    "                optimal_penalty = penalty\n",
    "                \n",
    "        i += 1\n",
    "    \n",
    "    #format return value\n",
    "    optimal_params = {\n",
    "        \"accuracy\" : max_acc,\n",
    "        \"c\": optimal_c,\n",
    "        \"penalty\": optimal_penalty\n",
    "    }\n",
    "    \n",
    "    return optimal_params\n",
    "    \n",
    "    "
   ]
  },
  {
   "cell_type": "code",
   "execution_count": 357,
   "metadata": {
    "collapsed": true
   },
   "outputs": [],
   "source": [
    "c_vals = [0.1,1,10,100]\n",
    "params = {\n",
    "    \"L1\": c_vals,\n",
    "    \"L2\":c_vals\n",
    "}"
   ]
  },
  {
   "cell_type": "code",
   "execution_count": 361,
   "metadata": {},
   "outputs": [
    {
     "name": "stdout",
     "output_type": "stream",
     "text": [
      "Logistic Regression...\n"
     ]
    },
    {
     "data": {
      "text/plain": [
       "{'accuracy': 0.7892376681614349, 'c': 0.1, 'penalty': 'L2'}"
      ]
     },
     "execution_count": 361,
     "metadata": {},
     "output_type": "execute_result"
    },
    {
     "data": {
      "image/png": "[encoded data removed]",
      "text/plain": [
       "<matplotlib.figure.Figure at 0x12dcf1c88>"
      ]
     },
     "metadata": {},
     "output_type": "display_data"
    }
   ],
   "source": [
    "test_accuracies = test_logistic_model(train_vals,target_vals,test_vals,test_target_vals,params,output=False)\n",
    "\n",
    "fig,ax = plt.subplots(1,2,figsize=(15,15))\n",
    "\n",
    "ax[0].plot(c_vals, test_accuracies[\"L2\"])\n",
    "ax[0].set_title(\"L2- Loss\")\n",
    "ax[0].set_ylabel(\"Accuracy\")\n",
    "ax[0].set_xlabel(\"C values\")\n",
    "\n",
    "ax[1].plot(c_vals,test_accuracies['L1'])\n",
    "ax[1].set_title(\"L1 - Loss\")\n",
    "ax[1].set_ylabel('Accuracy')\n",
    "ax[1].set_xlabel(\"C values\")\n",
    "\n",
    "\n",
    "\n",
    "get_optimal_params(test_accuracies,[0.1,1,10,100])"
   ]
  },
  {
   "cell_type": "code",
   "execution_count": 363,
   "metadata": {},
   "outputs": [
    {
     "name": "stdout",
     "output_type": "stream",
     "text": [
      "Logistic Regression...\n"
     ]
    },
    {
     "data": {
      "text/plain": [
       "{'accuracy': 0.7847533632286996, 'c': 0.1, 'penalty': 'L1'}"
      ]
     },
     "execution_count": 363,
     "metadata": {},
     "output_type": "execute_result"
    },
    {
     "data": {
      "image/png": "[encoded data removed]",
      "text/plain": [
       "<matplotlib.figure.Figure at 0x12d565400>"
      ]
     },
     "metadata": {},
     "output_type": "display_data"
    }
   ],
   "source": [
    "test_accuracies = test_logistic_model(prncpl_cmpnts_train_vals,target_vals,prncpl_cmpnts_test_vals,test_target_vals,params,output=0)\n",
    "\n",
    "fig,ax = plt.subplots(1,2,figsize=(15,15))\n",
    "\n",
    "ax[0].plot(c_vals, test_accuracies[\"L2\"])\n",
    "ax[0].set_title(\"L2- Loss\")\n",
    "ax[0].set_xlabel(\"C values\")\n",
    "\n",
    "ax[1].plot(c_vals,test_accuracies['L1'])\n",
    "ax[1].set_title(\"L1 - Loss\")\n",
    "ax[1].set_xlabel(\"C values\")\n",
    "\n",
    "\n",
    "get_optimal_params(test_accuracies,c_vals)\n"
   ]
  },
  {
   "cell_type": "code",
   "execution_count": null,
   "metadata": {
    "collapsed": true
   },
   "outputs": [],
   "source": []
  }
 ],
 "metadata": {
  "kernelspec": {
   "display_name": "Python 3",
   "language": "python",
   "name": "python3"
  },
  "language_info": {
   "codemirror_mode": {
    "name": "ipython",
    "version": 3
   },
   "file_extension": ".py",
   "mimetype": "text/x-python",
   "name": "python",
   "nbconvert_exporter": "python",
   "pygments_lexer": "ipython3",
   "version": "3.6.3"
  }
 },
 "nbformat": 4,
 "nbformat_minor": 2
}
