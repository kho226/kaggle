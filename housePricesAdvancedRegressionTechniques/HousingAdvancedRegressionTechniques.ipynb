{
 "cells": [
  {
   "cell_type": "code",
   "execution_count": 1,
   "metadata": {
    "collapsed": true
   },
   "outputs": [],
   "source": [
    "import numpy as np\n",
    "import pandas as pd\n",
    "\n",
    "from sklearn import linear_model \n",
    "from sklearn.exceptions import ConvergenceWarning\n",
    "from sklearn.preprocessing import OneHotEncoder, LabelEncoder\n",
    "from sklearn import feature_selection\n",
    "from sklearn import model_selection\n",
    "from sklearn import metrics\n",
    "from sklearn.preprocessing import StandardScaler\n",
    "from sklearn.decomposition import PCA\n",
    "\n",
    "import matplotlib.pyplot as plt\n",
    "\n",
    "import seaborn as sns\n",
    "\n",
    "import math\n",
    "import warnings\n",
    "%matplotlib inline \n",
    "\n",
    "import os\n",
    "import subprocess"
   ]
  },
  {
   "cell_type": "markdown",
   "metadata": {},
   "source": [
    "## Data Cleaning"
   ]
  },
  {
   "cell_type": "code",
   "execution_count": 2,
   "metadata": {
    "collapsed": true
   },
   "outputs": [],
   "source": [
    "train_data = pd.read_csv(\"train.csv\")"
   ]
  },
  {
   "cell_type": "code",
   "execution_count": 3,
   "metadata": {
    "collapsed": true
   },
   "outputs": [],
   "source": [
    "test_data = pd.read_csv(\"test.csv\")"
   ]
  },
  {
   "cell_type": "code",
   "execution_count": 4,
   "metadata": {
    "collapsed": true
   },
   "outputs": [],
   "source": [
    "data = []\n",
    "data.append( train_data)\n",
    "data.append(test_data)"
   ]
  },
  {
   "cell_type": "code",
   "execution_count": 5,
   "metadata": {},
   "outputs": [
    {
     "data": {
      "text/html": [
       "<div>\n",
       "<style>\n",
       "    .dataframe thead tr:only-child th {\n",
       "        text-align: right;\n",
       "    }\n",
       "\n",
       "    .dataframe thead th {\n",
       "        text-align: left;\n",
       "    }\n",
       "\n",
       "    .dataframe tbody tr th {\n",
       "        vertical-align: top;\n",
       "    }\n",
       "</style>\n",
       "<table border=\"1\" class=\"dataframe\">\n",
       "  <thead>\n",
       "    <tr style=\"text-align: right;\">\n",
       "      <th></th>\n",
       "      <th>Id</th>\n",
       "      <th>MSSubClass</th>\n",
       "      <th>MSZoning</th>\n",
       "      <th>LotFrontage</th>\n",
       "      <th>LotArea</th>\n",
       "      <th>Street</th>\n",
       "      <th>Alley</th>\n",
       "      <th>LotShape</th>\n",
       "      <th>LandContour</th>\n",
       "      <th>Utilities</th>\n",
       "      <th>...</th>\n",
       "      <th>PoolArea</th>\n",
       "      <th>PoolQC</th>\n",
       "      <th>Fence</th>\n",
       "      <th>MiscFeature</th>\n",
       "      <th>MiscVal</th>\n",
       "      <th>MoSold</th>\n",
       "      <th>YrSold</th>\n",
       "      <th>SaleType</th>\n",
       "      <th>SaleCondition</th>\n",
       "      <th>SalePrice</th>\n",
       "    </tr>\n",
       "  </thead>\n",
       "  <tbody>\n",
       "    <tr>\n",
       "      <th>0</th>\n",
       "      <td>1</td>\n",
       "      <td>60</td>\n",
       "      <td>RL</td>\n",
       "      <td>65.0</td>\n",
       "      <td>8450</td>\n",
       "      <td>Pave</td>\n",
       "      <td>NaN</td>\n",
       "      <td>Reg</td>\n",
       "      <td>Lvl</td>\n",
       "      <td>AllPub</td>\n",
       "      <td>...</td>\n",
       "      <td>0</td>\n",
       "      <td>NaN</td>\n",
       "      <td>NaN</td>\n",
       "      <td>NaN</td>\n",
       "      <td>0</td>\n",
       "      <td>2</td>\n",
       "      <td>2008</td>\n",
       "      <td>WD</td>\n",
       "      <td>Normal</td>\n",
       "      <td>208500</td>\n",
       "    </tr>\n",
       "    <tr>\n",
       "      <th>1</th>\n",
       "      <td>2</td>\n",
       "      <td>20</td>\n",
       "      <td>RL</td>\n",
       "      <td>80.0</td>\n",
       "      <td>9600</td>\n",
       "      <td>Pave</td>\n",
       "      <td>NaN</td>\n",
       "      <td>Reg</td>\n",
       "      <td>Lvl</td>\n",
       "      <td>AllPub</td>\n",
       "      <td>...</td>\n",
       "      <td>0</td>\n",
       "      <td>NaN</td>\n",
       "      <td>NaN</td>\n",
       "      <td>NaN</td>\n",
       "      <td>0</td>\n",
       "      <td>5</td>\n",
       "      <td>2007</td>\n",
       "      <td>WD</td>\n",
       "      <td>Normal</td>\n",
       "      <td>181500</td>\n",
       "    </tr>\n",
       "    <tr>\n",
       "      <th>2</th>\n",
       "      <td>3</td>\n",
       "      <td>60</td>\n",
       "      <td>RL</td>\n",
       "      <td>68.0</td>\n",
       "      <td>11250</td>\n",
       "      <td>Pave</td>\n",
       "      <td>NaN</td>\n",
       "      <td>IR1</td>\n",
       "      <td>Lvl</td>\n",
       "      <td>AllPub</td>\n",
       "      <td>...</td>\n",
       "      <td>0</td>\n",
       "      <td>NaN</td>\n",
       "      <td>NaN</td>\n",
       "      <td>NaN</td>\n",
       "      <td>0</td>\n",
       "      <td>9</td>\n",
       "      <td>2008</td>\n",
       "      <td>WD</td>\n",
       "      <td>Normal</td>\n",
       "      <td>223500</td>\n",
       "    </tr>\n",
       "    <tr>\n",
       "      <th>3</th>\n",
       "      <td>4</td>\n",
       "      <td>70</td>\n",
       "      <td>RL</td>\n",
       "      <td>60.0</td>\n",
       "      <td>9550</td>\n",
       "      <td>Pave</td>\n",
       "      <td>NaN</td>\n",
       "      <td>IR1</td>\n",
       "      <td>Lvl</td>\n",
       "      <td>AllPub</td>\n",
       "      <td>...</td>\n",
       "      <td>0</td>\n",
       "      <td>NaN</td>\n",
       "      <td>NaN</td>\n",
       "      <td>NaN</td>\n",
       "      <td>0</td>\n",
       "      <td>2</td>\n",
       "      <td>2006</td>\n",
       "      <td>WD</td>\n",
       "      <td>Abnorml</td>\n",
       "      <td>140000</td>\n",
       "    </tr>\n",
       "    <tr>\n",
       "      <th>4</th>\n",
       "      <td>5</td>\n",
       "      <td>60</td>\n",
       "      <td>RL</td>\n",
       "      <td>84.0</td>\n",
       "      <td>14260</td>\n",
       "      <td>Pave</td>\n",
       "      <td>NaN</td>\n",
       "      <td>IR1</td>\n",
       "      <td>Lvl</td>\n",
       "      <td>AllPub</td>\n",
       "      <td>...</td>\n",
       "      <td>0</td>\n",
       "      <td>NaN</td>\n",
       "      <td>NaN</td>\n",
       "      <td>NaN</td>\n",
       "      <td>0</td>\n",
       "      <td>12</td>\n",
       "      <td>2008</td>\n",
       "      <td>WD</td>\n",
       "      <td>Normal</td>\n",
       "      <td>250000</td>\n",
       "    </tr>\n",
       "    <tr>\n",
       "      <th>5</th>\n",
       "      <td>6</td>\n",
       "      <td>50</td>\n",
       "      <td>RL</td>\n",
       "      <td>85.0</td>\n",
       "      <td>14115</td>\n",
       "      <td>Pave</td>\n",
       "      <td>NaN</td>\n",
       "      <td>IR1</td>\n",
       "      <td>Lvl</td>\n",
       "      <td>AllPub</td>\n",
       "      <td>...</td>\n",
       "      <td>0</td>\n",
       "      <td>NaN</td>\n",
       "      <td>MnPrv</td>\n",
       "      <td>Shed</td>\n",
       "      <td>700</td>\n",
       "      <td>10</td>\n",
       "      <td>2009</td>\n",
       "      <td>WD</td>\n",
       "      <td>Normal</td>\n",
       "      <td>143000</td>\n",
       "    </tr>\n",
       "  </tbody>\n",
       "</table>\n",
       "<p>6 rows × 81 columns</p>\n",
       "</div>"
      ],
      "text/plain": [
       "   Id  MSSubClass MSZoning  LotFrontage  LotArea Street Alley LotShape  \\\n",
       "0   1          60       RL         65.0     8450   Pave   NaN      Reg   \n",
       "1   2          20       RL         80.0     9600   Pave   NaN      Reg   \n",
       "2   3          60       RL         68.0    11250   Pave   NaN      IR1   \n",
       "3   4          70       RL         60.0     9550   Pave   NaN      IR1   \n",
       "4   5          60       RL         84.0    14260   Pave   NaN      IR1   \n",
       "5   6          50       RL         85.0    14115   Pave   NaN      IR1   \n",
       "\n",
       "  LandContour Utilities    ...     PoolArea PoolQC  Fence MiscFeature MiscVal  \\\n",
       "0         Lvl    AllPub    ...            0    NaN    NaN         NaN       0   \n",
       "1         Lvl    AllPub    ...            0    NaN    NaN         NaN       0   \n",
       "2         Lvl    AllPub    ...            0    NaN    NaN         NaN       0   \n",
       "3         Lvl    AllPub    ...            0    NaN    NaN         NaN       0   \n",
       "4         Lvl    AllPub    ...            0    NaN    NaN         NaN       0   \n",
       "5         Lvl    AllPub    ...            0    NaN  MnPrv        Shed     700   \n",
       "\n",
       "  MoSold YrSold  SaleType  SaleCondition  SalePrice  \n",
       "0      2   2008        WD         Normal     208500  \n",
       "1      5   2007        WD         Normal     181500  \n",
       "2      9   2008        WD         Normal     223500  \n",
       "3      2   2006        WD        Abnorml     140000  \n",
       "4     12   2008        WD         Normal     250000  \n",
       "5     10   2009        WD         Normal     143000  \n",
       "\n",
       "[6 rows x 81 columns]"
      ]
     },
     "execution_count": 5,
     "metadata": {},
     "output_type": "execute_result"
    }
   ],
   "source": [
    "data[0].head(6)"
   ]
  },
  {
   "cell_type": "code",
   "execution_count": 6,
   "metadata": {
    "scrolled": true
   },
   "outputs": [
    {
     "data": {
      "text/html": [
       "<div>\n",
       "<style>\n",
       "    .dataframe thead tr:only-child th {\n",
       "        text-align: right;\n",
       "    }\n",
       "\n",
       "    .dataframe thead th {\n",
       "        text-align: left;\n",
       "    }\n",
       "\n",
       "    .dataframe tbody tr th {\n",
       "        vertical-align: top;\n",
       "    }\n",
       "</style>\n",
       "<table border=\"1\" class=\"dataframe\">\n",
       "  <thead>\n",
       "    <tr style=\"text-align: right;\">\n",
       "      <th></th>\n",
       "      <th>Id</th>\n",
       "      <th>MSSubClass</th>\n",
       "      <th>MSZoning</th>\n",
       "      <th>LotFrontage</th>\n",
       "      <th>LotArea</th>\n",
       "      <th>Street</th>\n",
       "      <th>Alley</th>\n",
       "      <th>LotShape</th>\n",
       "      <th>LandContour</th>\n",
       "      <th>Utilities</th>\n",
       "      <th>...</th>\n",
       "      <th>ScreenPorch</th>\n",
       "      <th>PoolArea</th>\n",
       "      <th>PoolQC</th>\n",
       "      <th>Fence</th>\n",
       "      <th>MiscFeature</th>\n",
       "      <th>MiscVal</th>\n",
       "      <th>MoSold</th>\n",
       "      <th>YrSold</th>\n",
       "      <th>SaleType</th>\n",
       "      <th>SaleCondition</th>\n",
       "    </tr>\n",
       "  </thead>\n",
       "  <tbody>\n",
       "    <tr>\n",
       "      <th>0</th>\n",
       "      <td>1461</td>\n",
       "      <td>20</td>\n",
       "      <td>RH</td>\n",
       "      <td>80.0</td>\n",
       "      <td>11622</td>\n",
       "      <td>Pave</td>\n",
       "      <td>NaN</td>\n",
       "      <td>Reg</td>\n",
       "      <td>Lvl</td>\n",
       "      <td>AllPub</td>\n",
       "      <td>...</td>\n",
       "      <td>120</td>\n",
       "      <td>0</td>\n",
       "      <td>NaN</td>\n",
       "      <td>MnPrv</td>\n",
       "      <td>NaN</td>\n",
       "      <td>0</td>\n",
       "      <td>6</td>\n",
       "      <td>2010</td>\n",
       "      <td>WD</td>\n",
       "      <td>Normal</td>\n",
       "    </tr>\n",
       "    <tr>\n",
       "      <th>1</th>\n",
       "      <td>1462</td>\n",
       "      <td>20</td>\n",
       "      <td>RL</td>\n",
       "      <td>81.0</td>\n",
       "      <td>14267</td>\n",
       "      <td>Pave</td>\n",
       "      <td>NaN</td>\n",
       "      <td>IR1</td>\n",
       "      <td>Lvl</td>\n",
       "      <td>AllPub</td>\n",
       "      <td>...</td>\n",
       "      <td>0</td>\n",
       "      <td>0</td>\n",
       "      <td>NaN</td>\n",
       "      <td>NaN</td>\n",
       "      <td>Gar2</td>\n",
       "      <td>12500</td>\n",
       "      <td>6</td>\n",
       "      <td>2010</td>\n",
       "      <td>WD</td>\n",
       "      <td>Normal</td>\n",
       "    </tr>\n",
       "    <tr>\n",
       "      <th>2</th>\n",
       "      <td>1463</td>\n",
       "      <td>60</td>\n",
       "      <td>RL</td>\n",
       "      <td>74.0</td>\n",
       "      <td>13830</td>\n",
       "      <td>Pave</td>\n",
       "      <td>NaN</td>\n",
       "      <td>IR1</td>\n",
       "      <td>Lvl</td>\n",
       "      <td>AllPub</td>\n",
       "      <td>...</td>\n",
       "      <td>0</td>\n",
       "      <td>0</td>\n",
       "      <td>NaN</td>\n",
       "      <td>MnPrv</td>\n",
       "      <td>NaN</td>\n",
       "      <td>0</td>\n",
       "      <td>3</td>\n",
       "      <td>2010</td>\n",
       "      <td>WD</td>\n",
       "      <td>Normal</td>\n",
       "    </tr>\n",
       "    <tr>\n",
       "      <th>3</th>\n",
       "      <td>1464</td>\n",
       "      <td>60</td>\n",
       "      <td>RL</td>\n",
       "      <td>78.0</td>\n",
       "      <td>9978</td>\n",
       "      <td>Pave</td>\n",
       "      <td>NaN</td>\n",
       "      <td>IR1</td>\n",
       "      <td>Lvl</td>\n",
       "      <td>AllPub</td>\n",
       "      <td>...</td>\n",
       "      <td>0</td>\n",
       "      <td>0</td>\n",
       "      <td>NaN</td>\n",
       "      <td>NaN</td>\n",
       "      <td>NaN</td>\n",
       "      <td>0</td>\n",
       "      <td>6</td>\n",
       "      <td>2010</td>\n",
       "      <td>WD</td>\n",
       "      <td>Normal</td>\n",
       "    </tr>\n",
       "    <tr>\n",
       "      <th>4</th>\n",
       "      <td>1465</td>\n",
       "      <td>120</td>\n",
       "      <td>RL</td>\n",
       "      <td>43.0</td>\n",
       "      <td>5005</td>\n",
       "      <td>Pave</td>\n",
       "      <td>NaN</td>\n",
       "      <td>IR1</td>\n",
       "      <td>HLS</td>\n",
       "      <td>AllPub</td>\n",
       "      <td>...</td>\n",
       "      <td>144</td>\n",
       "      <td>0</td>\n",
       "      <td>NaN</td>\n",
       "      <td>NaN</td>\n",
       "      <td>NaN</td>\n",
       "      <td>0</td>\n",
       "      <td>1</td>\n",
       "      <td>2010</td>\n",
       "      <td>WD</td>\n",
       "      <td>Normal</td>\n",
       "    </tr>\n",
       "    <tr>\n",
       "      <th>5</th>\n",
       "      <td>1466</td>\n",
       "      <td>60</td>\n",
       "      <td>RL</td>\n",
       "      <td>75.0</td>\n",
       "      <td>10000</td>\n",
       "      <td>Pave</td>\n",
       "      <td>NaN</td>\n",
       "      <td>IR1</td>\n",
       "      <td>Lvl</td>\n",
       "      <td>AllPub</td>\n",
       "      <td>...</td>\n",
       "      <td>0</td>\n",
       "      <td>0</td>\n",
       "      <td>NaN</td>\n",
       "      <td>NaN</td>\n",
       "      <td>NaN</td>\n",
       "      <td>0</td>\n",
       "      <td>4</td>\n",
       "      <td>2010</td>\n",
       "      <td>WD</td>\n",
       "      <td>Normal</td>\n",
       "    </tr>\n",
       "  </tbody>\n",
       "</table>\n",
       "<p>6 rows × 80 columns</p>\n",
       "</div>"
      ],
      "text/plain": [
       "     Id  MSSubClass MSZoning  LotFrontage  LotArea Street Alley LotShape  \\\n",
       "0  1461          20       RH         80.0    11622   Pave   NaN      Reg   \n",
       "1  1462          20       RL         81.0    14267   Pave   NaN      IR1   \n",
       "2  1463          60       RL         74.0    13830   Pave   NaN      IR1   \n",
       "3  1464          60       RL         78.0     9978   Pave   NaN      IR1   \n",
       "4  1465         120       RL         43.0     5005   Pave   NaN      IR1   \n",
       "5  1466          60       RL         75.0    10000   Pave   NaN      IR1   \n",
       "\n",
       "  LandContour Utilities      ...       ScreenPorch PoolArea PoolQC  Fence  \\\n",
       "0         Lvl    AllPub      ...               120        0    NaN  MnPrv   \n",
       "1         Lvl    AllPub      ...                 0        0    NaN    NaN   \n",
       "2         Lvl    AllPub      ...                 0        0    NaN  MnPrv   \n",
       "3         Lvl    AllPub      ...                 0        0    NaN    NaN   \n",
       "4         HLS    AllPub      ...               144        0    NaN    NaN   \n",
       "5         Lvl    AllPub      ...                 0        0    NaN    NaN   \n",
       "\n",
       "  MiscFeature MiscVal MoSold  YrSold  SaleType  SaleCondition  \n",
       "0         NaN       0      6    2010        WD         Normal  \n",
       "1        Gar2   12500      6    2010        WD         Normal  \n",
       "2         NaN       0      3    2010        WD         Normal  \n",
       "3         NaN       0      6    2010        WD         Normal  \n",
       "4         NaN       0      1    2010        WD         Normal  \n",
       "5         NaN       0      4    2010        WD         Normal  \n",
       "\n",
       "[6 rows x 80 columns]"
      ]
     },
     "execution_count": 6,
     "metadata": {},
     "output_type": "execute_result"
    }
   ],
   "source": [
    "data[1].head(6)"
   ]
  },
  {
   "cell_type": "markdown",
   "metadata": {},
   "source": [
    "Let's deal with cleaning the training data"
   ]
  },
  {
   "cell_type": "code",
   "execution_count": 7,
   "metadata": {
    "scrolled": true
   },
   "outputs": [
    {
     "name": "stdout",
     "output_type": "stream",
     "text": [
      "<class 'pandas.core.frame.DataFrame'>\n",
      "RangeIndex: 1460 entries, 0 to 1459\n",
      "Data columns (total 81 columns):\n",
      "Id               1460 non-null int64\n",
      "MSSubClass       1460 non-null int64\n",
      "MSZoning         1460 non-null object\n",
      "LotFrontage      1201 non-null float64\n",
      "LotArea          1460 non-null int64\n",
      "Street           1460 non-null object\n",
      "Alley            91 non-null object\n",
      "LotShape         1460 non-null object\n",
      "LandContour      1460 non-null object\n",
      "Utilities        1460 non-null object\n",
      "LotConfig        1460 non-null object\n",
      "LandSlope        1460 non-null object\n",
      "Neighborhood     1460 non-null object\n",
      "Condition1       1460 non-null object\n",
      "Condition2       1460 non-null object\n",
      "BldgType         1460 non-null object\n",
      "HouseStyle       1460 non-null object\n",
      "OverallQual      1460 non-null int64\n",
      "OverallCond      1460 non-null int64\n",
      "YearBuilt        1460 non-null int64\n",
      "YearRemodAdd     1460 non-null int64\n",
      "RoofStyle        1460 non-null object\n",
      "RoofMatl         1460 non-null object\n",
      "Exterior1st      1460 non-null object\n",
      "Exterior2nd      1460 non-null object\n",
      "MasVnrType       1452 non-null object\n",
      "MasVnrArea       1452 non-null float64\n",
      "ExterQual        1460 non-null object\n",
      "ExterCond        1460 non-null object\n",
      "Foundation       1460 non-null object\n",
      "BsmtQual         1423 non-null object\n",
      "BsmtCond         1423 non-null object\n",
      "BsmtExposure     1422 non-null object\n",
      "BsmtFinType1     1423 non-null object\n",
      "BsmtFinSF1       1460 non-null int64\n",
      "BsmtFinType2     1422 non-null object\n",
      "BsmtFinSF2       1460 non-null int64\n",
      "BsmtUnfSF        1460 non-null int64\n",
      "TotalBsmtSF      1460 non-null int64\n",
      "Heating          1460 non-null object\n",
      "HeatingQC        1460 non-null object\n",
      "CentralAir       1460 non-null object\n",
      "Electrical       1459 non-null object\n",
      "1stFlrSF         1460 non-null int64\n",
      "2ndFlrSF         1460 non-null int64\n",
      "LowQualFinSF     1460 non-null int64\n",
      "GrLivArea        1460 non-null int64\n",
      "BsmtFullBath     1460 non-null int64\n",
      "BsmtHalfBath     1460 non-null int64\n",
      "FullBath         1460 non-null int64\n",
      "HalfBath         1460 non-null int64\n",
      "BedroomAbvGr     1460 non-null int64\n",
      "KitchenAbvGr     1460 non-null int64\n",
      "KitchenQual      1460 non-null object\n",
      "TotRmsAbvGrd     1460 non-null int64\n",
      "Functional       1460 non-null object\n",
      "Fireplaces       1460 non-null int64\n",
      "FireplaceQu      770 non-null object\n",
      "GarageType       1379 non-null object\n",
      "GarageYrBlt      1379 non-null float64\n",
      "GarageFinish     1379 non-null object\n",
      "GarageCars       1460 non-null int64\n",
      "GarageArea       1460 non-null int64\n",
      "GarageQual       1379 non-null object\n",
      "GarageCond       1379 non-null object\n",
      "PavedDrive       1460 non-null object\n",
      "WoodDeckSF       1460 non-null int64\n",
      "OpenPorchSF      1460 non-null int64\n",
      "EnclosedPorch    1460 non-null int64\n",
      "3SsnPorch        1460 non-null int64\n",
      "ScreenPorch      1460 non-null int64\n",
      "PoolArea         1460 non-null int64\n",
      "PoolQC           7 non-null object\n",
      "Fence            281 non-null object\n",
      "MiscFeature      54 non-null object\n",
      "MiscVal          1460 non-null int64\n",
      "MoSold           1460 non-null int64\n",
      "YrSold           1460 non-null int64\n",
      "SaleType         1460 non-null object\n",
      "SaleCondition    1460 non-null object\n",
      "SalePrice        1460 non-null int64\n",
      "dtypes: float64(3), int64(35), object(43)\n",
      "memory usage: 924.0+ KB\n"
     ]
    }
   ],
   "source": [
    "data[0].info()"
   ]
  },
  {
   "cell_type": "code",
   "execution_count": 8,
   "metadata": {
    "collapsed": true
   },
   "outputs": [],
   "source": [
    "null_values = data[0].isnull().sum()"
   ]
  },
  {
   "cell_type": "markdown",
   "metadata": {},
   "source": [
    "Let's get all the object data types ~> we'll need to encode these values later, drop them, or perform PCA"
   ]
  },
  {
   "cell_type": "code",
   "execution_count": 9,
   "metadata": {
    "collapsed": true
   },
   "outputs": [],
   "source": [
    "##time ~> O(n)\n",
    "##space ~> O(n)\n",
    "objects = set()\n",
    "data_types = data[0].dtypes\n",
    "i = 0\n",
    "for c in data[0]:\n",
    "    if data_types[i] == 'object':\n",
    "        objects.add(c)\n",
    "    i += 1"
   ]
  },
  {
   "cell_type": "markdown",
   "metadata": {},
   "source": [
    "Let's aggregate all the columns with null_values"
   ]
  },
  {
   "cell_type": "code",
   "execution_count": 10,
   "metadata": {
    "collapsed": true
   },
   "outputs": [],
   "source": [
    "##time ~> O(n)\n",
    "##space ~> O(n)\n",
    "i = 0\n",
    "null_columns = set()\n",
    "for v in null_values:\n",
    "    if v > 0:\n",
    "            null_columns.add(null_values.axes[0][i])\n",
    "    i += 1"
   ]
  },
  {
   "cell_type": "markdown",
   "metadata": {},
   "source": [
    "Let's get rid of all NaN values in the trainning set"
   ]
  },
  {
   "cell_type": "code",
   "execution_count": 11,
   "metadata": {},
   "outputs": [],
   "source": [
    "for c in data[0]:\n",
    "    if c in null_columns:\n",
    "        data[0][c].fillna(data[0][c].mode()[0],inplace=True)"
   ]
  },
  {
   "cell_type": "markdown",
   "metadata": {},
   "source": [
    "Let's encode all the 'object' types"
   ]
  },
  {
   "cell_type": "code",
   "execution_count": 12,
   "metadata": {
    "collapsed": true
   },
   "outputs": [],
   "source": [
    "encoder = LabelEncoder()"
   ]
  },
  {
   "cell_type": "code",
   "execution_count": 13,
   "metadata": {},
   "outputs": [],
   "source": [
    "for c in data[0]:\n",
    "    if c in objects:\n",
    "        data[0][c] = encoder.fit_transform(data[0][c])"
   ]
  },
  {
   "cell_type": "markdown",
   "metadata": {},
   "source": [
    "Let's clean the test data"
   ]
  },
  {
   "cell_type": "code",
   "execution_count": 14,
   "metadata": {
    "scrolled": true
   },
   "outputs": [
    {
     "data": {
      "text/plain": [
       "Id                  0\n",
       "MSSubClass          0\n",
       "MSZoning            4\n",
       "LotFrontage       227\n",
       "LotArea             0\n",
       "Street              0\n",
       "Alley            1352\n",
       "LotShape            0\n",
       "LandContour         0\n",
       "Utilities           2\n",
       "LotConfig           0\n",
       "LandSlope           0\n",
       "Neighborhood        0\n",
       "Condition1          0\n",
       "Condition2          0\n",
       "BldgType            0\n",
       "HouseStyle          0\n",
       "OverallQual         0\n",
       "OverallCond         0\n",
       "YearBuilt           0\n",
       "YearRemodAdd        0\n",
       "RoofStyle           0\n",
       "RoofMatl            0\n",
       "Exterior1st         1\n",
       "Exterior2nd         1\n",
       "MasVnrType         16\n",
       "MasVnrArea         15\n",
       "ExterQual           0\n",
       "ExterCond           0\n",
       "Foundation          0\n",
       "                 ... \n",
       "HalfBath            0\n",
       "BedroomAbvGr        0\n",
       "KitchenAbvGr        0\n",
       "KitchenQual         1\n",
       "TotRmsAbvGrd        0\n",
       "Functional          2\n",
       "Fireplaces          0\n",
       "FireplaceQu       730\n",
       "GarageType         76\n",
       "GarageYrBlt        78\n",
       "GarageFinish       78\n",
       "GarageCars          1\n",
       "GarageArea          1\n",
       "GarageQual         78\n",
       "GarageCond         78\n",
       "PavedDrive          0\n",
       "WoodDeckSF          0\n",
       "OpenPorchSF         0\n",
       "EnclosedPorch       0\n",
       "3SsnPorch           0\n",
       "ScreenPorch         0\n",
       "PoolArea            0\n",
       "PoolQC           1456\n",
       "Fence            1169\n",
       "MiscFeature      1408\n",
       "MiscVal             0\n",
       "MoSold              0\n",
       "YrSold              0\n",
       "SaleType            1\n",
       "SaleCondition       0\n",
       "Length: 80, dtype: int64"
      ]
     },
     "execution_count": 14,
     "metadata": {},
     "output_type": "execute_result"
    }
   ],
   "source": [
    "data[1].isnull().sum()"
   ]
  },
  {
   "cell_type": "code",
   "execution_count": 15,
   "metadata": {
    "collapsed": true
   },
   "outputs": [],
   "source": [
    "##time ~> O(n)\n",
    "##space ~> O(n)\n",
    "objects = set()\n",
    "data_types = data[1].dtypes\n",
    "i = 0\n",
    "for c in data[1]:\n",
    "    if data_types[i] == 'object':\n",
    "        objects.add(c)\n",
    "    i += 1"
   ]
  },
  {
   "cell_type": "code",
   "execution_count": 16,
   "metadata": {
    "collapsed": true
   },
   "outputs": [],
   "source": [
    "##time ~> O(n)\n",
    "##space ~> O(n)\n",
    "i = 0\n",
    "null_values = data[1].isnull().sum()\n",
    "null_columns = set()\n",
    "for v in null_values:\n",
    "    if v > 0:\n",
    "            null_columns.add(null_values.axes[0][i])\n",
    "    i += 1"
   ]
  },
  {
   "cell_type": "code",
   "execution_count": 17,
   "metadata": {
    "collapsed": true
   },
   "outputs": [],
   "source": [
    "for c in data[1]:\n",
    "    if c in null_columns:\n",
    "        data[1][c].fillna(data[1][c].mode()[0],inplace=True)"
   ]
  },
  {
   "cell_type": "code",
   "execution_count": 18,
   "metadata": {
    "collapsed": true
   },
   "outputs": [],
   "source": [
    "encoder = LabelEncoder()"
   ]
  },
  {
   "cell_type": "code",
   "execution_count": 19,
   "metadata": {},
   "outputs": [],
   "source": [
    "for c in data[1]:\n",
    "    if c in objects:\n",
    "        data[1][c] = encoder.fit_transform(data[1][c])"
   ]
  },
  {
   "cell_type": "code",
   "execution_count": 32,
   "metadata": {
    "collapsed": true
   },
   "outputs": [],
   "source": [
    "target = data[0][\"SalePrice\"]"
   ]
  },
  {
   "cell_type": "code",
   "execution_count": 21,
   "metadata": {},
   "outputs": [
    {
     "data": {
      "text/plain": [
       "0    208500\n",
       "1    181500\n",
       "2    223500\n",
       "3    140000\n",
       "4    250000\n",
       "5    143000\n",
       "Name: SalePrice, dtype: int64"
      ]
     },
     "execution_count": 21,
     "metadata": {},
     "output_type": "execute_result"
    }
   ],
   "source": [
    "target.head(6)"
   ]
  },
  {
   "cell_type": "markdown",
   "metadata": {},
   "source": [
    "## PCA"
   ]
  },
  {
   "cell_type": "code",
   "execution_count": 22,
   "metadata": {
    "collapsed": true
   },
   "outputs": [],
   "source": [
    "standard_scaler = StandardScaler()\n",
    "pca = PCA(n_components=55)\n",
    "principal_components = pca.fit_transform(standard_scaler.fit_transform(data[0]))"
   ]
  },
  {
   "cell_type": "code",
   "execution_count": 23,
   "metadata": {},
   "outputs": [
    {
     "data": {
      "text/plain": [
       "Text(0.5,0,'Principal Components')"
      ]
     },
     "execution_count": 23,
     "metadata": {},
     "output_type": "execute_result"
    },
    {
     "data": {
      "image/png": "[encoded data removed]",
      "text/plain": [
       "<matplotlib.figure.Figure at 0x1021cebe0>"
      ]
     },
     "metadata": {},
     "output_type": "display_data"
    }
   ],
   "source": [
    "plt.plot(np.cumsum(pca.explained_variance_ratio_))\n",
    "plt.title('Explained Variance')\n",
    "plt.xlabel(\"Principal Components\")"
   ]
  },
  {
   "cell_type": "markdown",
   "metadata": {},
   "source": [
    "## Data Exploration"
   ]
  },
  {
   "cell_type": "code",
   "execution_count": 24,
   "metadata": {},
   "outputs": [
    {
     "data": {
      "text/html": [
       "<div>\n",
       "<style>\n",
       "    .dataframe thead tr:only-child th {\n",
       "        text-align: right;\n",
       "    }\n",
       "\n",
       "    .dataframe thead th {\n",
       "        text-align: left;\n",
       "    }\n",
       "\n",
       "    .dataframe tbody tr th {\n",
       "        vertical-align: top;\n",
       "    }\n",
       "</style>\n",
       "<table border=\"1\" class=\"dataframe\">\n",
       "  <thead>\n",
       "    <tr style=\"text-align: right;\">\n",
       "      <th></th>\n",
       "      <th>Id</th>\n",
       "      <th>MSSubClass</th>\n",
       "      <th>MSZoning</th>\n",
       "      <th>LotFrontage</th>\n",
       "      <th>LotArea</th>\n",
       "      <th>Street</th>\n",
       "      <th>Alley</th>\n",
       "      <th>LotShape</th>\n",
       "      <th>LandContour</th>\n",
       "      <th>Utilities</th>\n",
       "      <th>...</th>\n",
       "      <th>PoolArea</th>\n",
       "      <th>PoolQC</th>\n",
       "      <th>Fence</th>\n",
       "      <th>MiscFeature</th>\n",
       "      <th>MiscVal</th>\n",
       "      <th>MoSold</th>\n",
       "      <th>YrSold</th>\n",
       "      <th>SaleType</th>\n",
       "      <th>SaleCondition</th>\n",
       "      <th>SalePrice</th>\n",
       "    </tr>\n",
       "  </thead>\n",
       "  <tbody>\n",
       "    <tr>\n",
       "      <th>0</th>\n",
       "      <td>1</td>\n",
       "      <td>60</td>\n",
       "      <td>3</td>\n",
       "      <td>65.0</td>\n",
       "      <td>8450</td>\n",
       "      <td>1</td>\n",
       "      <td>0</td>\n",
       "      <td>3</td>\n",
       "      <td>3</td>\n",
       "      <td>0</td>\n",
       "      <td>...</td>\n",
       "      <td>0</td>\n",
       "      <td>2</td>\n",
       "      <td>2</td>\n",
       "      <td>2</td>\n",
       "      <td>0</td>\n",
       "      <td>2</td>\n",
       "      <td>2008</td>\n",
       "      <td>8</td>\n",
       "      <td>4</td>\n",
       "      <td>208500</td>\n",
       "    </tr>\n",
       "    <tr>\n",
       "      <th>1</th>\n",
       "      <td>2</td>\n",
       "      <td>20</td>\n",
       "      <td>3</td>\n",
       "      <td>80.0</td>\n",
       "      <td>9600</td>\n",
       "      <td>1</td>\n",
       "      <td>0</td>\n",
       "      <td>3</td>\n",
       "      <td>3</td>\n",
       "      <td>0</td>\n",
       "      <td>...</td>\n",
       "      <td>0</td>\n",
       "      <td>2</td>\n",
       "      <td>2</td>\n",
       "      <td>2</td>\n",
       "      <td>0</td>\n",
       "      <td>5</td>\n",
       "      <td>2007</td>\n",
       "      <td>8</td>\n",
       "      <td>4</td>\n",
       "      <td>181500</td>\n",
       "    </tr>\n",
       "    <tr>\n",
       "      <th>2</th>\n",
       "      <td>3</td>\n",
       "      <td>60</td>\n",
       "      <td>3</td>\n",
       "      <td>68.0</td>\n",
       "      <td>11250</td>\n",
       "      <td>1</td>\n",
       "      <td>0</td>\n",
       "      <td>0</td>\n",
       "      <td>3</td>\n",
       "      <td>0</td>\n",
       "      <td>...</td>\n",
       "      <td>0</td>\n",
       "      <td>2</td>\n",
       "      <td>2</td>\n",
       "      <td>2</td>\n",
       "      <td>0</td>\n",
       "      <td>9</td>\n",
       "      <td>2008</td>\n",
       "      <td>8</td>\n",
       "      <td>4</td>\n",
       "      <td>223500</td>\n",
       "    </tr>\n",
       "    <tr>\n",
       "      <th>3</th>\n",
       "      <td>4</td>\n",
       "      <td>70</td>\n",
       "      <td>3</td>\n",
       "      <td>60.0</td>\n",
       "      <td>9550</td>\n",
       "      <td>1</td>\n",
       "      <td>0</td>\n",
       "      <td>0</td>\n",
       "      <td>3</td>\n",
       "      <td>0</td>\n",
       "      <td>...</td>\n",
       "      <td>0</td>\n",
       "      <td>2</td>\n",
       "      <td>2</td>\n",
       "      <td>2</td>\n",
       "      <td>0</td>\n",
       "      <td>2</td>\n",
       "      <td>2006</td>\n",
       "      <td>8</td>\n",
       "      <td>0</td>\n",
       "      <td>140000</td>\n",
       "    </tr>\n",
       "    <tr>\n",
       "      <th>4</th>\n",
       "      <td>5</td>\n",
       "      <td>60</td>\n",
       "      <td>3</td>\n",
       "      <td>84.0</td>\n",
       "      <td>14260</td>\n",
       "      <td>1</td>\n",
       "      <td>0</td>\n",
       "      <td>0</td>\n",
       "      <td>3</td>\n",
       "      <td>0</td>\n",
       "      <td>...</td>\n",
       "      <td>0</td>\n",
       "      <td>2</td>\n",
       "      <td>2</td>\n",
       "      <td>2</td>\n",
       "      <td>0</td>\n",
       "      <td>12</td>\n",
       "      <td>2008</td>\n",
       "      <td>8</td>\n",
       "      <td>4</td>\n",
       "      <td>250000</td>\n",
       "    </tr>\n",
       "    <tr>\n",
       "      <th>5</th>\n",
       "      <td>6</td>\n",
       "      <td>50</td>\n",
       "      <td>3</td>\n",
       "      <td>85.0</td>\n",
       "      <td>14115</td>\n",
       "      <td>1</td>\n",
       "      <td>0</td>\n",
       "      <td>0</td>\n",
       "      <td>3</td>\n",
       "      <td>0</td>\n",
       "      <td>...</td>\n",
       "      <td>0</td>\n",
       "      <td>2</td>\n",
       "      <td>2</td>\n",
       "      <td>2</td>\n",
       "      <td>700</td>\n",
       "      <td>10</td>\n",
       "      <td>2009</td>\n",
       "      <td>8</td>\n",
       "      <td>4</td>\n",
       "      <td>143000</td>\n",
       "    </tr>\n",
       "  </tbody>\n",
       "</table>\n",
       "<p>6 rows × 81 columns</p>\n",
       "</div>"
      ],
      "text/plain": [
       "   Id  MSSubClass  MSZoning  LotFrontage  LotArea  Street  Alley  LotShape  \\\n",
       "0   1          60         3         65.0     8450       1      0         3   \n",
       "1   2          20         3         80.0     9600       1      0         3   \n",
       "2   3          60         3         68.0    11250       1      0         0   \n",
       "3   4          70         3         60.0     9550       1      0         0   \n",
       "4   5          60         3         84.0    14260       1      0         0   \n",
       "5   6          50         3         85.0    14115       1      0         0   \n",
       "\n",
       "   LandContour  Utilities    ...      PoolArea  PoolQC  Fence  MiscFeature  \\\n",
       "0            3          0    ...             0       2      2            2   \n",
       "1            3          0    ...             0       2      2            2   \n",
       "2            3          0    ...             0       2      2            2   \n",
       "3            3          0    ...             0       2      2            2   \n",
       "4            3          0    ...             0       2      2            2   \n",
       "5            3          0    ...             0       2      2            2   \n",
       "\n",
       "   MiscVal  MoSold  YrSold  SaleType  SaleCondition  SalePrice  \n",
       "0        0       2    2008         8              4     208500  \n",
       "1        0       5    2007         8              4     181500  \n",
       "2        0       9    2008         8              4     223500  \n",
       "3        0       2    2006         8              0     140000  \n",
       "4        0      12    2008         8              4     250000  \n",
       "5      700      10    2009         8              4     143000  \n",
       "\n",
       "[6 rows x 81 columns]"
      ]
     },
     "execution_count": 24,
     "metadata": {},
     "output_type": "execute_result"
    }
   ],
   "source": [
    "data[0].head(6)"
   ]
  },
  {
   "cell_type": "code",
   "execution_count": 43,
   "metadata": {
    "collapsed": true
   },
   "outputs": [],
   "source": [
    "features = [x for x in data[0]]"
   ]
  },
  {
   "cell_type": "code",
   "execution_count": 44,
   "metadata": {},
   "outputs": [
    {
     "data": {
      "text/plain": [
       "['Id',\n",
       " 'MSSubClass',\n",
       " 'MSZoning',\n",
       " 'LotFrontage',\n",
       " 'LotArea',\n",
       " 'Street',\n",
       " 'Alley',\n",
       " 'LotShape',\n",
       " 'LandContour',\n",
       " 'Utilities',\n",
       " 'LotConfig',\n",
       " 'LandSlope',\n",
       " 'Neighborhood',\n",
       " 'Condition1',\n",
       " 'Condition2',\n",
       " 'BldgType',\n",
       " 'HouseStyle',\n",
       " 'OverallQual',\n",
       " 'OverallCond',\n",
       " 'YearBuilt',\n",
       " 'YearRemodAdd',\n",
       " 'RoofStyle',\n",
       " 'RoofMatl',\n",
       " 'Exterior1st',\n",
       " 'Exterior2nd',\n",
       " 'MasVnrType',\n",
       " 'MasVnrArea',\n",
       " 'ExterQual',\n",
       " 'ExterCond',\n",
       " 'Foundation',\n",
       " 'BsmtQual',\n",
       " 'BsmtCond',\n",
       " 'BsmtExposure',\n",
       " 'BsmtFinType1',\n",
       " 'BsmtFinSF1',\n",
       " 'BsmtFinType2',\n",
       " 'BsmtFinSF2',\n",
       " 'BsmtUnfSF',\n",
       " 'TotalBsmtSF',\n",
       " 'Heating',\n",
       " 'HeatingQC',\n",
       " 'CentralAir',\n",
       " 'Electrical',\n",
       " '1stFlrSF',\n",
       " '2ndFlrSF',\n",
       " 'LowQualFinSF',\n",
       " 'GrLivArea',\n",
       " 'BsmtFullBath',\n",
       " 'BsmtHalfBath',\n",
       " 'FullBath',\n",
       " 'HalfBath',\n",
       " 'BedroomAbvGr',\n",
       " 'KitchenAbvGr',\n",
       " 'KitchenQual',\n",
       " 'TotRmsAbvGrd',\n",
       " 'Functional',\n",
       " 'Fireplaces',\n",
       " 'FireplaceQu',\n",
       " 'GarageType',\n",
       " 'GarageYrBlt',\n",
       " 'GarageFinish',\n",
       " 'GarageCars',\n",
       " 'GarageArea',\n",
       " 'GarageQual',\n",
       " 'GarageCond',\n",
       " 'PavedDrive',\n",
       " 'WoodDeckSF',\n",
       " 'OpenPorchSF',\n",
       " 'EnclosedPorch',\n",
       " '3SsnPorch',\n",
       " 'ScreenPorch',\n",
       " 'PoolArea',\n",
       " 'PoolQC',\n",
       " 'Fence',\n",
       " 'MiscFeature',\n",
       " 'MiscVal',\n",
       " 'MoSold',\n",
       " 'YrSold',\n",
       " 'SaleType',\n",
       " 'SaleCondition',\n",
       " 'SalePrice']"
      ]
     },
     "execution_count": 44,
     "metadata": {},
     "output_type": "execute_result"
    }
   ],
   "source": [
    "features"
   ]
  },
  {
   "cell_type": "code",
   "execution_count": 25,
   "metadata": {},
   "outputs": [
    {
     "data": {
      "text/plain": [
       "Text(0.5,1,'SalePrice Histogram')"
      ]
     },
     "execution_count": 25,
     "metadata": {},
     "output_type": "execute_result"
    },
    {
     "data": {
      "image/png": "[encoded data removed]",
      "text/plain": [
       "<matplotlib.figure.Figure at 0x10a234828>"
      ]
     },
     "metadata": {},
     "output_type": "display_data"
    }
   ],
   "source": [
    "fig, ax = plt.subplots(2,2,figsize = (15,15))\n",
    "\n",
    "plt1 = ax[0][0]\n",
    "plt2 = ax[0][1]\n",
    "plt3 = ax[1][0]\n",
    "plt4 = ax[1][1]\n",
    "\n",
    "plt1.boxplot(\n",
    "                            x = data[0]['LotArea'],\n",
    "                            meanline=True\n",
    ")\n",
    "plt1.set_title(\"LotArea\")\n",
    "\n",
    "plt2.boxplot(\n",
    "                        x = data[0]['SalePrice'],\n",
    "                        meanline=True\n",
    ")\n",
    "plt2.set_title(\"SalePrice\")\n",
    "\n",
    "plt3.hist(\n",
    "                    x = data[0]['LotArea'],\n",
    "                    color = ['b'],\n",
    "                    label = ['LotArea']\n",
    ")\n",
    "plt3.set_title(\"Lot Area Histogram\")\n",
    "\n",
    "\n",
    "plt4.hist(\n",
    "                    x = data[0]['SalePrice'],\n",
    "                    color = ['b'],\n",
    "                    label = ['SalePrice']\n",
    ")\n",
    "plt4.set_title (\"SalePrice Histogram\")"
   ]
  },
  {
   "cell_type": "code",
   "execution_count": 49,
   "metadata": {},
   "outputs": [
    {
     "data": {
      "text/plain": [
       "Text(0,0.5,'Price')"
      ]
     },
     "execution_count": 49,
     "metadata": {},
     "output_type": "execute_result"
    },
    {
     "data": {
      "image/png": "[encoded data removed]",
      "text/plain": [
       "<matplotlib.figure.Figure at 0x10c979ac8>"
      ]
     },
     "metadata": {},
     "output_type": "display_data"
    }
   ],
   "source": [
    "fig,axs = plt.subplots(2,2,figsize=(15,15))\n",
    "\n",
    "plt1 = axs[0][0]\n",
    "plt2 = axs[0][1]\n",
    "plt3 = axs[1][0]\n",
    "plt4 = axs[1][1]\n",
    "\n",
    "plt1.scatter(\n",
    "                            data[0][\"LotArea\"],\n",
    "                            target,\n",
    "                            c = 'r',\n",
    "                            s = 1\n",
    ")\n",
    "plt1.set_title(\"Lot Area vs. Price\")\n",
    "plt1.set_xlabel(\"Lot Area\")\n",
    "plt1.set_ylabel(\"Price\")\n",
    "\n",
    "plt2.scatter(\n",
    "                            data[0][\"YrSold\"],\n",
    "                            target,\n",
    "                            c = 'g',\n",
    "                            s = 1\n",
    ")\n",
    "plt2.set_title(\"YrSold vs. Price\")\n",
    "plt2.set_xlabel(\"YrSold\")\n",
    "plt2.set_ylabel(\"Price\")\n",
    "\n",
    "plt3.scatter(\n",
    "                            data[0][ 'OverallQual'],\n",
    "                            target,\n",
    "                            c = 'b',\n",
    "                            s = 1\n",
    ")\n",
    "plt3.set_title(\"OverallQual vs. Price\")\n",
    "plt3.set_xlabel(\"OverallQual\")\n",
    "plt3.set_ylabel(\"Price\")\n",
    "\n",
    "plt4.scatter(\n",
    "                            data[0][\"OverallCond\"],\n",
    "                            target,\n",
    "                            c = 'y',\n",
    "                            s = 1\n",
    ")\n",
    "plt4.set_title(\"OverallCond vs. Price\")\n",
    "plt4.set_xlabel(\"OverallCond\")\n",
    "plt4.set_ylabel(\"Price\")"
   ]
  },
  {
   "cell_type": "code",
   "execution_count": null,
   "metadata": {
    "collapsed": true
   },
   "outputs": [],
   "source": [
    "fig,axs = plt.subplots(2,2,figsize=(15,15))\n",
    "\n",
    "plt1 = axs[0][0]\n",
    "plt2 = axs[0][1]\n",
    "plt3 = axs[1][0]\n",
    "plt4 = axs[1][1]\n",
    "\n",
    "plt1.scatter(\n",
    "                            data[0][\"Electrical\"],\n",
    "                            target,\n",
    "                            c = 'r',\n",
    "                            s = 1\n",
    ")\n",
    "plt1.set_title(\"Electrical vs. Price\")\n",
    "plt1.set_xlabel(\"Electrical\")\n",
    "plt1.set_ylabel(\"Price\")\n",
    "\n",
    "plt2.scatter(\n",
    "                            data[0][\"CentralAir\"],\n",
    "                            target,\n",
    "                            c = 'g',\n",
    "                            s = 1\n",
    ")\n",
    "plt2.set_title(\"CentralAir vs. Price\")\n",
    "plt2.set_xlabel(\"Central Air\")\n",
    "plt2.set_ylabel(\"Price\")\n",
    "\n",
    "plt3.scatter(\n",
    "                            data[0][ 'ExterQual'],\n",
    "                            target,\n",
    "                            c = 'b',\n",
    "                            s = 1\n",
    ")\n",
    "plt3.set_title(\"OverallQual vs. Price\")\n",
    "plt3.set_xlabel(\"OverallQual\")\n",
    "plt3.set_ylabel(\"Price\")\n",
    "\n",
    "plt4.scatter(\n",
    "                            data[0][\"OverallCond\"],\n",
    "                            target,\n",
    "                            c = 'y',\n",
    "                            s = 1\n",
    ")\n",
    "plt4.set_title(\"OverallCond vs. Price\")\n",
    "plt4.set_xlabel(\"OverallCond\")\n",
    "plt4.set_ylabel(\"Price\")"
   ]
  },
  {
   "cell_type": "markdown",
   "metadata": {},
   "source": [
    "## Feature Engineering"
   ]
  },
  {
   "cell_type": "markdown",
   "metadata": {},
   "source": [
    "### what if we determine an overall metric for quality?"
   ]
  },
  {
   "cell_type": "markdown",
   "metadata": {},
   "source": [
    "perhaps considering \n",
    "- 'Sale Condition'\n",
    "- 'Electrical'\n",
    "- 'CentralAir'\n",
    "- 'OverallQual'\n",
    "-  'OverallCond'\n",
    "- 'ExterQual'\n",
    "- 'ExterCond'\n",
    "- 'YearRemodAdd'"
   ]
  },
  {
   "cell_type": "markdown",
   "metadata": {},
   "source": [
    "## Data Modelling"
   ]
  },
  {
   "cell_type": "code",
   "execution_count": 188,
   "metadata": {},
   "outputs": [],
   "source": [
    "train_data = data[0].copy(deep=True)\n",
    "train_data.drop(['SalePrice','Id'],axis=1,inplace=True)"
   ]
  },
  {
   "cell_type": "code",
   "execution_count": 193,
   "metadata": {},
   "outputs": [],
   "source": [
    "mid = int(train_data.shape[0]/2)"
   ]
  },
  {
   "cell_type": "code",
   "execution_count": 198,
   "metadata": {},
   "outputs": [],
   "source": [
    "train_vals = train_data.values[0: mid , :]\n",
    "test_vals = train_data.values[mid : , : ]\n",
    "target_vals = target.values[0 : mid : ]\n",
    "test_target_vals = target.values[mid : ]"
   ]
  },
  {
   "cell_type": "code",
   "execution_count": 199,
   "metadata": {},
   "outputs": [
    {
     "data": {
      "text/plain": [
       "(730, 79)"
      ]
     },
     "execution_count": 199,
     "metadata": {},
     "output_type": "execute_result"
    }
   ],
   "source": [
    "train_vals.shape"
   ]
  },
  {
   "cell_type": "code",
   "execution_count": 200,
   "metadata": {},
   "outputs": [
    {
     "data": {
      "text/plain": [
       "(730, 79)"
      ]
     },
     "execution_count": 200,
     "metadata": {},
     "output_type": "execute_result"
    }
   ],
   "source": [
    "test_vals.shape"
   ]
  },
  {
   "cell_type": "code",
   "execution_count": 201,
   "metadata": {},
   "outputs": [
    {
     "data": {
      "text/plain": [
       "(730,)"
      ]
     },
     "execution_count": 201,
     "metadata": {},
     "output_type": "execute_result"
    }
   ],
   "source": [
    "target_vals.shape"
   ]
  },
  {
   "cell_type": "code",
   "execution_count": 202,
   "metadata": {},
   "outputs": [
    {
     "data": {
      "text/plain": [
       "(730,)"
      ]
     },
     "execution_count": 202,
     "metadata": {},
     "output_type": "execute_result"
    }
   ],
   "source": [
    "test_target_vals.shape"
   ]
  },
  {
   "cell_type": "code",
   "execution_count": 210,
   "metadata": {},
   "outputs": [],
   "source": [
    "principal_cmpnts = principal_components[0:mid,:]\n",
    "principal_cmpnts_test = principal_components[mid:,:]"
   ]
  },
  {
   "cell_type": "code",
   "execution_count": 211,
   "metadata": {},
   "outputs": [
    {
     "data": {
      "text/plain": [
       "(730, 55)"
      ]
     },
     "execution_count": 211,
     "metadata": {},
     "output_type": "execute_result"
    }
   ],
   "source": [
    "principal_cmpnts_test.shape"
   ]
  },
  {
   "cell_type": "code",
   "execution_count": 212,
   "metadata": {},
   "outputs": [
    {
     "data": {
      "text/plain": [
       "(730, 55)"
      ]
     },
     "execution_count": 212,
     "metadata": {},
     "output_type": "execute_result"
    }
   ],
   "source": [
    "principal_cmpnts_test.shape"
   ]
  },
  {
   "cell_type": "markdown",
   "metadata": {},
   "source": [
    "### Linear Model"
   ]
  },
  {
   "cell_type": "code",
   "execution_count": 204,
   "metadata": {},
   "outputs": [
    {
     "name": "stderr",
     "output_type": "stream",
     "text": [
      "/anaconda3/lib/python3.6/site-packages/scipy/linalg/basic.py:1226: RuntimeWarning: internal gelsd driver lwork query error, required iwork dimension not returned. This is likely the result of LAPACK bug 0038, fixed in LAPACK 3.2.2 (released July 21, 2010). Falling back to 'gelss' driver.\n",
      "  warnings.warn(mesg, RuntimeWarning)\n"
     ]
    },
    {
     "data": {
      "text/plain": [
       "LinearRegression(copy_X=True, fit_intercept=True, n_jobs=1, normalize=False)"
      ]
     },
     "execution_count": 204,
     "metadata": {},
     "output_type": "execute_result"
    }
   ],
   "source": [
    "regr = linear_model.LinearRegression()\n",
    "regr.fit(train_vals,target_vals)"
   ]
  },
  {
   "cell_type": "code",
   "execution_count": 205,
   "metadata": {
    "collapsed": true
   },
   "outputs": [],
   "source": [
    "y_hat = regr.predict(test_vals)"
   ]
  },
  {
   "cell_type": "code",
   "execution_count": 206,
   "metadata": {},
   "outputs": [
    {
     "data": {
      "text/plain": [
       "array([231670.56379584, 227436.5567521 , 236591.55788641, 138003.88619861,\n",
       "       106051.07512456, 180819.44387217,  60932.11555222, 237316.15406168,\n",
       "       119814.01138214, 200713.98028463, 106827.00405345, 153060.36592091,\n",
       "       174598.18974558, 155978.83216351, 205306.75848201, 311562.03377858,\n",
       "       235069.55688436, 249198.82097995, 242197.2554688 , 102609.44049496,\n",
       "        62154.69431249, 163682.46293654, 207204.84838303, 277189.24636188,\n",
       "       165116.92335794, 157822.76977206, 222208.54204271, 127850.26335672,\n",
       "       166834.74851211, 284925.92547971, 116825.39995421, 123593.23371092,\n",
       "       195626.24050772, 307024.52465515, 257702.36978019, 270825.25030972,\n",
       "       188914.84876771, 182143.9254707 , 237362.58695216, 432685.20521029,\n",
       "       132342.87394332, 131113.10894963, 131950.91406908, 115011.8704652 ,\n",
       "       296899.27344974, 158604.32796339, 240348.0919531 , 143383.54937801,\n",
       "       167733.80730317, 144382.72195015, 160981.3241145 , 190572.61739677,\n",
       "       194175.07523425, 167051.69109162, 138144.82862261, 176462.53866482,\n",
       "       158768.59864491, 240927.56539766, 101529.69804   , 188761.12725049,\n",
       "       160683.43402058, 157190.43249246, 245164.86960053, 244830.52360603,\n",
       "       206625.5746226 , 162591.8547379 , 148777.47527156,  73420.15650874,\n",
       "       411436.36454702, 180045.96839623, 196593.18845408, 123273.66472177,\n",
       "       207124.26813218, 395847.26476021, 102601.33703666, 231308.17705511,\n",
       "       123375.33339101, 170026.55163184, 155342.84528666, 154223.46815746,\n",
       "       102175.57332142, 163802.2241157 , 101035.99916274, 162456.88282935,\n",
       "       125052.42569629, 198099.24311106, 126266.12320475, 275534.231854  ,\n",
       "       136660.27765616, 218564.75682482, 190107.50972526, 109061.03301041,\n",
       "       209393.30426672, 145256.61136947, 233765.92444235, 382712.17261959,\n",
       "        98892.79254464, 206042.96104458, 197814.82514884, 152635.12326574,\n",
       "       189427.40827114, 141327.20761625, 222947.92543991, 174578.17448595,\n",
       "       128502.73048866, 122856.37770976, 152413.65753047,  91766.78824618,\n",
       "       138330.95228823, 123201.27915944, 154623.11729783, 166137.61560329,\n",
       "       143893.77447129, 130519.60472422, 156668.78168107, 185933.84400559,\n",
       "       221427.5290174 , 120308.60208774, 217581.11244104, 187847.68854008,\n",
       "       149532.1560351 , 201803.3771979 , 161204.11967829, 166230.59122721,\n",
       "       173925.70721167, 139429.31240066, 131462.59492113, 148183.1956219 ,\n",
       "       158879.11690396, 254192.02250553, 162824.4386025 , 110089.31234903,\n",
       "       147325.90381092, 133212.29715922, 216904.12158255, 134355.79198816,\n",
       "       261047.92888585, 141041.34253246, 180039.53249348, 237558.64196235,\n",
       "        93970.42247532, 176519.3860771 , 129328.99492997, 124064.16040128,\n",
       "        76897.58109421, 314053.79819159, 133903.4246042 , 333597.52684158,\n",
       "       157797.19587164, 131472.80093585, 160634.73742598, 227207.76478888,\n",
       "       161669.42972161, 134491.10061919,  97020.50614116, 256866.34012864,\n",
       "       157311.21184442, 139769.63804643, 299788.72669346, 178956.02060809,\n",
       "       130997.43325041, 169698.99032188, 158221.13042005, 159956.97614393,\n",
       "       102753.71036747, 163691.32640032,  83000.54541139, 153475.37439084,\n",
       "       435714.40869324, 142975.32442317, 104957.36153238, 156510.54742883,\n",
       "       198923.67933257, 231493.21437606, 116534.23726382, 122788.72934623,\n",
       "       271333.21450454, 233430.51316096, 146840.81938256, 192958.94290872,\n",
       "       180415.94556365, 145744.37438297,  81585.16037109, 151075.79450832,\n",
       "       156888.60696336,  64727.72985508,  33824.82629871, 125455.22769276,\n",
       "       263874.33972344, 216426.52906389, 204585.63965841, 160963.13230943,\n",
       "       186259.50697602, 208610.1433824 , 220377.89500465, 162977.03487653,\n",
       "       291486.00682272, 200517.17075397, 242538.50930933, 223411.00827372,\n",
       "       234505.32972632, 121535.30267981, 309574.71126237, 206578.42131264,\n",
       "       285559.03908674,  95744.11491445, 205329.2710901 , 242843.03473314,\n",
       "       236458.39814531, 211661.87555551, 177180.74179763, 227066.20749284,\n",
       "       109517.19249033, 136703.18719038, 176382.41337139, 181352.80462686,\n",
       "       144740.97166059, 282825.60668133, 207794.75423442, 177265.17946246,\n",
       "       145583.61372493, 116421.50335342, 124239.72642776, 164134.16111363,\n",
       "       120052.96098003, 164372.51481219, 115117.27821563, 130415.14633062,\n",
       "       205144.61629639, 178520.81938793, 109717.17241167, 265689.88546447,\n",
       "       157777.35222062, 288016.74745062, 235367.42329753, 183066.79846735,\n",
       "       124017.61344809, 126283.5670622 ,  49562.22763852, 121601.7941217 ,\n",
       "        63634.30182914, 198557.53859585, 103294.71857013, 213163.9485721 ,\n",
       "       213357.52654312, 192465.18029394,  84406.11983455, 199472.57653004,\n",
       "        84111.00225015, 137913.37683447, 231147.75286214, 305000.10896682,\n",
       "       194571.32210307, 255900.39385195, 127761.13416982, 115448.5552953 ,\n",
       "       155706.52521598, 368859.91487901, 184587.55080164, 196292.42111984,\n",
       "       292657.10504938, 206214.6268715 , 213737.10396488, 168413.75018683,\n",
       "       355609.87986156,  91232.52697838, 125348.1658916 , 171178.39539224,\n",
       "        47668.06408946, 210215.10268071,  85991.59027769,  92963.76567308,\n",
       "       236760.77519234,  94625.75164694, 199657.8350175 , 132046.572823  ,\n",
       "       190506.3153413 ,  70076.08429061, 246708.18255894,  99738.51148839,\n",
       "       116376.19161634,  99937.29973585, 134108.29784873, 100741.56282994,\n",
       "       124008.76258668, 222280.26559507, 213598.78913012, 213661.75242963,\n",
       "       180146.75517059, 198965.50776519, 155244.98703622, 223129.77304875,\n",
       "       120222.69385177, 186880.78318044, 362299.96630135, 117810.43180106,\n",
       "       156124.51068737, 296507.48383331, 129602.10287931, 120618.49640359,\n",
       "       129008.67117165, 246411.48200534, 273895.49650051, 245045.47371804,\n",
       "       117984.8042717 ,  67298.24911253, 321003.84299323, 254532.05851969,\n",
       "        76000.72262002,  56771.28431615, 160778.8066111 , 174088.93551803,\n",
       "       207316.14841575, 270417.69944787, 334632.08810015, 112671.13581439,\n",
       "       381286.97677776, 140904.60888254, 136037.27083487,  79745.34425199,\n",
       "       200624.56068062, 209819.4228696 , 185157.9610548 , 149115.48093299,\n",
       "       263858.99689026, 177551.31826841, 222706.3167021 , 242426.63674856,\n",
       "       356834.23327484, 192589.81012343, 215434.02129329, 104168.37721828,\n",
       "       129596.2517374 , 158629.86380716, 141552.31006177, 273074.45267791,\n",
       "       171045.5568379 , 183300.89358867, 196440.96225026, 130870.63726704,\n",
       "       122753.65021256, 144027.19796474, 116603.23638957, 149028.07424661,\n",
       "       201102.75616393, 174545.43625935, 170986.90685893, 123635.95090617,\n",
       "       155770.0942612 , 122532.45525759, 166300.86287182, 126630.06829628,\n",
       "       202960.53418889, 168751.57911933, 175345.22816641, 171049.97543069,\n",
       "        70792.5936593 , 263199.40029203, 169233.83127278, 216766.78554879,\n",
       "        79433.79029168, 168084.09189466, 168326.0364816 , 179980.10544785,\n",
       "       127032.81864854, 186126.15885588, 135882.5613916 , 169272.04887935,\n",
       "        98910.44638626, 176742.00725528,  26066.93231658, 118641.24120264,\n",
       "       134237.41409507, 167614.6587736 ,  93440.52611569, 328273.50301972,\n",
       "       218895.55179067, 254502.35749273, 149587.21860588, 298805.80302462,\n",
       "       179394.76212179, 202434.02350448, 122570.65366133, 141310.52696559,\n",
       "       124168.45743784, 310104.23420884, 201222.22788985, 141556.09595336,\n",
       "       124588.76298826, 123834.43533761, 119717.49013217, 234487.92081573,\n",
       "        65586.74626865,  81447.51951315, 170169.68661129, 105242.51274331,\n",
       "       194314.55433677, 258555.65535659, 224409.60661347, 135077.26479828,\n",
       "       147568.88184845,  97394.6430112 , 163250.97532054, 244630.9715027 ,\n",
       "       166349.78085029, 104343.32370193, 111459.31963354, 104805.52903879,\n",
       "       217285.10890922, 114094.21132493, 126652.88854478, 174548.02919569,\n",
       "       349965.48348259,  89983.68851345,  89109.3284002 , 128492.49490642,\n",
       "       193149.92063776, 163138.49059615, 140125.80729727, 178049.81049106,\n",
       "       118228.46645927, 170935.52666366, 216578.91999934, 147833.02644018,\n",
       "       216492.61261181, 229720.94081655, 164976.98982516, 213908.25533638,\n",
       "       255650.24240442, 194436.18692203, 129572.87283427, 218366.13085724,\n",
       "       128793.32530501, 147153.6235742 , 192431.5839798 , 220933.7834183 ,\n",
       "       245412.02317339, 183506.4100467 , 200896.83751326, 441232.77953564,\n",
       "        71147.16299339, 165271.4586186 , 164792.41122347, 245486.90325617,\n",
       "       207176.62451564, 304993.62004367, 119347.59823259, 128977.39517465,\n",
       "       116011.47176033,  87869.89161924, 263718.89454376, 290381.42275118,\n",
       "       395060.10634178, 149044.35654431, 174997.40244704, 124155.73134279,\n",
       "       119499.66174645, 273432.63219233, 192515.62180484, 182928.98292021,\n",
       "       189477.82030664, 189365.46514049, 126737.6249236 , 163884.60979989,\n",
       "       153215.86727782, 167192.80684375, 239460.85359356, 163412.23317574,\n",
       "       184743.89068056, 132899.65548984,  65329.53943288, 194084.54852868,\n",
       "       123501.40868402, 196565.89278926, 150068.15422333, 278655.25053278,\n",
       "       122920.18549278, 223615.91926124, 148643.73958571, 293405.50648453,\n",
       "       204025.9071102 , 245227.15299731,  55465.83225221, 127297.23024726,\n",
       "       121218.00306174, 114230.18035361, 137858.0319551 , 241958.69204266,\n",
       "        62279.91226662,  76598.14527773,  94001.28992159, 124432.01236281,\n",
       "       176364.54963388, 164195.50144798, 214746.73522632, 136337.37728735,\n",
       "       239398.87768551, 150569.7266674 , 355348.49564186, 110273.29115009,\n",
       "       175965.80348211, 131830.12913498,  93234.29632353, 122095.59528163,\n",
       "       111579.63178538, 127170.57479805, 182724.65217484, 217763.27584925,\n",
       "       149055.80650611, 250604.34420658, 219045.52450948, 248639.36447132,\n",
       "       177545.15689311, 378379.64016769, 202296.3263981 , 170660.01735597,\n",
       "       204251.16072939, 147951.78805371, 191119.44951174, 113753.43019475,\n",
       "       267894.86169779, 204968.40070788, 105275.90358821, 276108.25823456,\n",
       "       204993.91816982, 131477.92032673, 299908.93733595,  97110.02788104,\n",
       "       199409.0582954 , 169906.88839509, 163797.92267592, 114169.65394331,\n",
       "       121459.84634101, 156675.48774079, 158693.42833252, 185749.5179273 ,\n",
       "       163169.59789465, 337550.82572048, 338389.15035042, 141293.34535803,\n",
       "       266080.38406961, 168298.97917683, 126495.997577  , 196863.98343901,\n",
       "       139947.88211779, 173075.92927588, 143861.01371605, 200615.68014473,\n",
       "       250454.89806424,  84491.32813001, 218245.58166091, 201723.75044306,\n",
       "       156578.87085048, 126697.15771971, 216061.3441968 , 120253.16084418,\n",
       "       167704.88687175, 168678.61304898, 259260.77546726, 294636.97936363,\n",
       "       148452.68690165, 103735.35737818, 147653.48610675, 191098.97377236,\n",
       "       113640.97595677, 134153.95803538, 139871.6712089 , 140194.30829114,\n",
       "       677849.94926297, 152443.64823021, 240909.92244242, 157541.57602829,\n",
       "       286798.47629371, 238994.93897136, 170084.13701407, 334912.22050204,\n",
       "       203786.16483783, 130201.19831733, 159813.80277961, 186594.52939539,\n",
       "       279316.2433486 , 216086.46009323, 317672.33540484, 307165.59082362,\n",
       "        94030.61418604, 222610.10304967, 281537.72672826, 191109.71578862,\n",
       "       243818.20847694,  86456.59878892, 175598.32840398,  37718.09148827,\n",
       "       235572.8416759 ,  92066.71348581, 292206.54569073,  50564.45756308,\n",
       "        79747.9919771 , 148328.05399919, 250734.59308507, 182160.97259818,\n",
       "       249773.20553245, 123798.8177951 ,  95871.49881205, 133393.9519848 ,\n",
       "       101427.30424199, 178491.9955017 , 140957.84588356,  90152.42778636,\n",
       "       238229.59635342, 113010.72165078,  99768.3239376 , 177216.86949058,\n",
       "       245338.23926351, 156145.779638  , 199978.94903425, 109600.93706544,\n",
       "       247149.13820283, 291332.25058688, 247143.714877  , 173489.77397151,\n",
       "       210168.87900585, 175633.18057697, 143984.54452738, 354217.98999184,\n",
       "       227009.53576104, 184782.97589642,  94438.76999711, 149176.96103049,\n",
       "       168548.49391581, 346593.67873031, 185250.78196402, 274283.25544289,\n",
       "       102746.03606661, 173281.62894228, 134105.70176338, 213989.43520362,\n",
       "       197562.97204824, 121934.13876681, 155301.76401912, 248750.18869525,\n",
       "       157656.59603255, 195837.43437519, 252133.06290135, 423656.16129383,\n",
       "       249402.59452142, 251774.94203967, 103532.81870574, 136600.17735064,\n",
       "        88914.729608  , 154661.57574709,  31536.59981614, 222569.92287753,\n",
       "       185290.51892029, 151921.68432652, 113757.24726608, 112064.28300136,\n",
       "       230490.60493431, 213817.82362499, 340351.94221203, 133160.01743757,\n",
       "       238352.58565381, 124179.94455616, 118545.54099646, 165289.07288767,\n",
       "       228161.98263402, 280545.76796475, 176633.47926207, 118473.22544468,\n",
       "       138184.8019304 , 163273.99900093, 107340.9621491 , 181307.21938717,\n",
       "       206617.27306666, 245189.4658261 , 108384.38917857, 267056.58445089,\n",
       "       135859.85203166, 108608.84761228, 121466.35121903, 205808.94350165,\n",
       "       216442.1971934 , 144777.88201602,  92290.95813909, 270439.96838026,\n",
       "       163760.23828887, 221425.21087843, 133330.65873576, 293749.30570072,\n",
       "       132393.46429019, 223055.36142072, 169375.67874953, 132697.61154811,\n",
       "       151462.22822328, 127187.89986114, 142190.56604758, 169311.04062451,\n",
       "       248879.45357774, 139433.96588197, 112580.23130419, 210912.21969884,\n",
       "       171487.30320128, 128370.56297837,  69219.82799177, 188611.41494987,\n",
       "       159548.52194413, 178834.74322073, 112254.4941223 , 359691.53580346,\n",
       "       173658.32881948, 174652.30647126, 232630.21089   , 151526.74976843,\n",
       "       369535.00965574, 118435.53124639, 204469.36254469, 133795.23006295,\n",
       "       136241.75842246, 261494.70175825, 122924.14043819,  83983.54001253,\n",
       "       110200.70771657, 269473.30556011, 123847.97517816, 114278.8382286 ,\n",
       "       196708.74883221, 165336.05020921, 224291.59492055, 255992.74856017,\n",
       "       144892.78083457, 165078.65697772])"
      ]
     },
     "execution_count": 206,
     "metadata": {},
     "output_type": "execute_result"
    }
   ],
   "source": [
    "y_hat"
   ]
  },
  {
   "cell_type": "code",
   "execution_count": 207,
   "metadata": {
    "collapsed": true
   },
   "outputs": [],
   "source": [
    "test_error = metrics.mean_squared_error(y_hat,test_target_vals)/2"
   ]
  },
  {
   "cell_type": "code",
   "execution_count": 208,
   "metadata": {},
   "outputs": [
    {
     "data": {
      "text/plain": [
       "650987385.2029902"
      ]
     },
     "execution_count": 208,
     "metadata": {},
     "output_type": "execute_result"
    }
   ],
   "source": [
    "test_error"
   ]
  },
  {
   "cell_type": "markdown",
   "metadata": {},
   "source": [
    "Okay that was pretty bad ... what about with principal components?"
   ]
  },
  {
   "cell_type": "code",
   "execution_count": 213,
   "metadata": {},
   "outputs": [
    {
     "data": {
      "text/plain": [
       "LinearRegression(copy_X=True, fit_intercept=True, n_jobs=1, normalize=False)"
      ]
     },
     "execution_count": 213,
     "metadata": {},
     "output_type": "execute_result"
    }
   ],
   "source": [
    "regr.fit(principal_cmpnts,target_vals)"
   ]
  },
  {
   "cell_type": "code",
   "execution_count": 214,
   "metadata": {
    "collapsed": true
   },
   "outputs": [],
   "source": [
    "y_hat = regr.predict(principal_cmpnts_test)"
   ]
  },
  {
   "cell_type": "code",
   "execution_count": 215,
   "metadata": {
    "collapsed": true
   },
   "outputs": [],
   "source": [
    "test_error = metrics.mean_squared_error(y_hat,test_target_vals)"
   ]
  },
  {
   "cell_type": "code",
   "execution_count": 216,
   "metadata": {},
   "outputs": [
    {
     "data": {
      "text/plain": [
       "3953631906.44362"
      ]
     },
     "execution_count": 216,
     "metadata": {},
     "output_type": "execute_result"
    }
   ],
   "source": [
    "test_error"
   ]
  },
  {
   "cell_type": "code",
   "execution_count": null,
   "metadata": {
    "collapsed": true
   },
   "outputs": [],
   "source": []
  }
 ],
 "metadata": {
  "kernelspec": {
   "display_name": "Python 3",
   "language": "python",
   "name": "python3"
  },
  "language_info": {
   "codemirror_mode": {
    "name": "ipython",
    "version": 3
   },
   "file_extension": ".py",
   "mimetype": "text/x-python",
   "name": "python",
   "nbconvert_exporter": "python",
   "pygments_lexer": "ipython3",
   "version": "3.6.3"
  }
 },
 "nbformat": 4,
 "nbformat_minor": 2
}
